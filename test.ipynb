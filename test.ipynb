{
 "cells": [
  {
   "cell_type": "markdown",
   "metadata": {},
   "source": [
    "# Imports"
   ]
  },
  {
   "cell_type": "code",
   "execution_count": null,
   "metadata": {
    "ExecuteTime": {
     "end_time": "2024-03-13T11:04:12.435455700Z",
     "start_time": "2024-03-13T11:04:11.561634700Z"
    }
   },
   "outputs": [],
   "source": [
    "import cv2 as cv\n",
    "import numpy as np\n",
    "from matplotlib import pyplot as plt\n",
    "from PIL import Image\n",
    "import cv2 "
   ]
  },
  {
   "cell_type": "markdown",
   "metadata": {},
   "source": [
    "# Preprocessing"
   ]
  },
  {
   "cell_type": "code",
   "execution_count": null,
   "metadata": {
    "ExecuteTime": {
     "end_time": "2024-03-13T11:04:15.300228700Z",
     "start_time": "2024-03-13T11:04:14.164373700Z"
    }
   },
   "outputs": [],
   "source": [
    "image = cv.imread('images/4.png')  \n",
    "\n",
    "# Resize the image to 200x200\n",
    "resized_image = cv.resize(image, (200, 200))\n",
    "\n",
    "# Rescale the image by a factor of 4\n",
    "rescaled_image = cv.resize(image, None, fx=4, fy=4, interpolation=cv.INTER_LINEAR)\n",
    "\n",
    "# Display the results\n",
    "plt.subplot(131), plt.imshow(cv.cvtColor(image, cv.COLOR_BGR2RGB)), plt.title('Original Image')\n",
    "plt.subplot(132), plt.imshow(cv.cvtColor(resized_image, cv.COLOR_BGR2RGB)), plt.title('Resized Image (200x200)')\n",
    "plt.subplot(133), plt.imshow(cv.cvtColor(rescaled_image, cv.COLOR_BGR2RGB)), plt.title('Rescaled Image (4x)')\n",
    "plt.show()\n"
   ]
  },
  {
   "cell_type": "code",
   "execution_count": null,
   "metadata": {
    "ExecuteTime": {
     "end_time": "2024-03-13T11:04:17.238074500Z",
     "start_time": "2024-03-13T11:04:15.299227800Z"
    }
   },
   "outputs": [],
   "source": [
    "# Define a kernel for morphological operations\n",
    "kernel = np.ones((5, 5), np.uint8)\n",
    "\n",
    "# Erosion\n",
    "erosion = cv.erode(rescaled_image, kernel, iterations=2)\n",
    "\n",
    "# Dilation\n",
    "dilation = cv.dilate(rescaled_image, kernel, iterations=2)\n",
    "\n",
    "# Display the results\n",
    "plt.subplot(131), plt.imshow(rescaled_image), plt.title('Original Image')\n",
    "plt.subplot(132), plt.imshow(erosion), plt.title('Erosion')\n",
    "plt.subplot(133), plt.imshow(dilation), plt.title('Dilation')\n",
    "plt.show()"
   ]
  },
  {
   "cell_type": "code",
   "execution_count": null,
   "metadata": {
    "ExecuteTime": {
     "end_time": "2024-03-13T11:04:18.781822800Z",
     "start_time": "2024-03-13T11:04:17.236064500Z"
    }
   },
   "outputs": [],
   "source": [
    "plt.imshow(dilation), plt.title('Dilation')"
   ]
  },
  {
   "cell_type": "code",
   "execution_count": null,
   "metadata": {
    "ExecuteTime": {
     "end_time": "2024-03-13T11:04:20.216897600Z",
     "start_time": "2024-03-13T11:04:18.681977800Z"
    }
   },
   "outputs": [],
   "source": [
    "plt.imshow(erosion), plt.title('erosion')"
   ]
  },
  {
   "cell_type": "code",
   "execution_count": null,
   "metadata": {
    "ExecuteTime": {
     "end_time": "2024-03-13T11:04:21.853996300Z",
     "start_time": "2024-03-13T11:04:20.140041800Z"
    }
   },
   "outputs": [],
   "source": [
    "# Apply Gaussian blur to reduce noise\n",
    "blurred_image = cv.GaussianBlur(rescaled_image, (5, 5), 0)\n",
    "\n",
    "# to gray\n",
    "image_gray = cv.cvtColor(blurred_image,cv.COLOR_BGR2GRAY)\n",
    "\n",
    "# Apply Canny edge detector\n",
    "edges = cv.Canny(blurred_image, 10.0, 50.0)\n",
    "\n",
    "# Display the results\n",
    "plt.subplot(131), plt.imshow(rescaled_image), plt.title('Original Image')\n",
    "plt.subplot(132), plt.imshow(blurred_image), plt.title('Blurred Image')\n",
    "plt.subplot(133), plt.imshow(edges), plt.title('Edge Detection')\n",
    "plt.show()"
   ]
  },
  {
   "cell_type": "code",
   "execution_count": null,
   "metadata": {
    "ExecuteTime": {
     "end_time": "2024-03-13T11:04:22.881773Z",
     "start_time": "2024-03-13T11:04:21.855503800Z"
    }
   },
   "outputs": [],
   "source": [
    "plt.imshow(edges), plt.title('Edge Detection')"
   ]
  },
  {
   "cell_type": "code",
   "execution_count": null,
   "metadata": {
    "ExecuteTime": {
     "end_time": "2024-03-13T11:04:24.569557400Z",
     "start_time": "2024-03-13T11:04:22.883768900Z"
    }
   },
   "outputs": [],
   "source": [
    "# thresholding:\n",
    "threshold_value = 127\n",
    "_, binary_image = cv.threshold(edges, threshold_value, 255, cv.THRESH_BINARY)\n",
    "RPE_binary_img=binary_image\n",
    "cv2.imwrite('binary_image.jpg', binary_image)\n",
    "plt.imshow(binary_image), plt.title('Thresholding')"
   ]
  },
  {
   "cell_type": "code",
   "execution_count": null,
   "metadata": {
    "ExecuteTime": {
     "end_time": "2024-03-13T11:04:26.025835600Z",
     "start_time": "2024-03-13T11:04:24.556776100Z"
    }
   },
   "outputs": [],
   "source": [
    "plt.imshow(binary_image)"
   ]
  },
  {
   "cell_type": "code",
   "execution_count": null,
   "metadata": {
    "ExecuteTime": {
     "end_time": "2024-03-13T11:04:28.811999300Z",
     "start_time": "2024-03-13T11:04:26.036997900Z"
    }
   },
   "outputs": [],
   "source": [
    "# Function to perform ORB feature extraction\n",
    "def extract_orb_features(image):\n",
    "    # Read the image\n",
    "    # image = cv.imread(image_path, cv.IMREAD_GRAYSCALE)\n",
    "    \n",
    "\n",
    "    # Initialize ORB detector\n",
    "    orb = cv.ORB_create()\n",
    "    kp = orb.detect(image,None)\n",
    "\n",
    "    img2 = cv.drawKeypoints(image,kp,None)\n",
    "\n",
    "    # Find the keypoints and descriptors with ORB\n",
    "    keypoints, descriptors = orb.detectAndCompute(image, None)\n",
    "\n",
    "    # Print the number of keypoints and descriptors\n",
    "    print(\"Number of Keypoints:\", len(keypoints))\n",
    "    print(\"ORB Descriptors Shape:\", descriptors.shape)\n",
    "\n",
    "    # Visualize the keypoints on the image\n",
    "    img_with_keypoints = cv.drawKeypoints(image, keypoints, None, flags=cv.DRAW_MATCHES_FLAGS_DRAW_RICH_KEYPOINTS)\n",
    "\n",
    "    # Calculate the moment and centroid\n",
    "    m00 = np.sum(image)\n",
    "    m10 = np.sum(np.multiply(np.arange(image.shape[1]), np.sum(image, axis=0)))\n",
    "    m01 = np.sum(np.multiply(np.arange(image.shape[0]), np.sum(image, axis=1)))\n",
    "    centroid_x = m10 / m00\n",
    "    centroid_y = m01 / m00\n",
    "\n",
    "    # Calculate the angle between moments\n",
    "    alpha = np.degrees(np.arctan2(centroid_y, centroid_x))\n",
    "\n",
    "    print(\"Centroid (x, y):\", (centroid_x, centroid_y))\n",
    "    print(\"Angle between moments (alpha):\", alpha)\n",
    "    \n",
    "    return img2\n",
    "\n",
    "\n",
    "\n",
    "# Sample usage\n",
    "\n",
    "orb_img = extract_orb_features(binary_image)\n",
    "# Display the image with keypoints\n",
    "plt.figure(figsize=(8, 8))\n",
    "plt.imshow(orb_img, cmap='gray')\n",
    "plt.title('ORB Keypoints on Preprocessed Image')\n",
    "plt.axis('off')\n",
    "plt.show()"
   ]
  },
  {
   "cell_type": "code",
   "execution_count": null,
   "metadata": {
    "ExecuteTime": {
     "end_time": "2024-03-13T11:04:29.732824100Z",
     "start_time": "2024-03-13T11:04:28.813999Z"
    }
   },
   "outputs": [],
   "source": [
    "plt.imshow(binary_image)"
   ]
  },
  {
   "cell_type": "markdown",
   "metadata": {},
   "source": [
    "## Algorithm 1: ILM Extraction"
   ]
  },
  {
   "cell_type": "code",
   "execution_count": null,
   "metadata": {
    "ExecuteTime": {
     "end_time": "2024-03-13T11:04:45.920624600Z",
     "start_time": "2024-03-13T11:04:29.740344800Z"
    }
   },
   "outputs": [],
   "source": [
    "def ilm_extraction(img):\n",
    "\n",
    "    image =img\n",
    "    # Step 2: Initialize white as True\n",
    "    white = 255\n",
    "\n",
    "    # Step 3: Initialize black as False\n",
    "    black = 0\n",
    "\n",
    "    w = 0\n",
    "    b = 0\n",
    "\n",
    "    # Step 4: For each pixel in ILM (for i = 0 to w, where w is the width of the image)\n",
    "    for i in range(image.shape[1]):\n",
    "        # Step 4.1: For each pixel in ILM (for j = 0 to h, where h is the height of the image)\n",
    "        for j in range(image.shape[0]):\n",
    "            # Step 4.2: IF ILM[j, i] is black then continue\n",
    "            if  image[j, i] == black:\n",
    "                b += 1\n",
    "                continue\n",
    "\n",
    "            # Step 4.4: IF ILM[j, i] is white then\n",
    "            if image[j, i] == white:\n",
    "                w += 1\n",
    "                # ii. WHILE (j != w and ILM[j, i] is white)\n",
    "                while j != image.shape[0] and image[j, i] == 255:\n",
    "                    # iii. Increment j by 1\n",
    "                    j += 1\n",
    "\n",
    "                # iv. For each pixel in ILM (for k = j to h)\n",
    "                for k in range(j, image.shape[0]):\n",
    "                    # v. Set ILM[k, i] to black\n",
    "                    image[k, i] = 0\n",
    "\n",
    "\n",
    "    print(b)\n",
    "    print(w)\n",
    "    return image\n",
    "\n",
    "# Example usage\n",
    "# Load your binary image (replace 'binary_image_path.png' with the actual file path)\n",
    "\n",
    "\n",
    "# Extract ILM\n",
    "# orginal_image = binary_image\n",
    "# original_image = copy.deepcopy(binary_image)\n",
    "ilm_extracted = ilm_extraction(binary_image)\n",
    "\n",
    "# Display the original and processed images side by side\n",
    "plt.figure(figsize=(10, 5))\n",
    "\n",
    "# plt.subplot(1, 2, 1)\n",
    "# plt.imshow(original_image, cmap='gray')\n",
    "# plt.title('Original Binary Image')\n",
    "# plt.axis('off')\n",
    "\n",
    "plt.subplot(1, 2, 2)\n",
    "plt.imshow(ilm_extracted, cmap='gray')\n",
    "plt.title('ILM Extracted Image')\n",
    "plt.axis('off')\n",
    "\n",
    "plt.show()\n"
   ]
  },
  {
   "cell_type": "code",
   "execution_count": null,
   "metadata": {
    "ExecuteTime": {
     "end_time": "2024-03-13T11:04:46.764570800Z",
     "start_time": "2024-03-13T11:04:45.911591100Z"
    }
   },
   "outputs": [],
   "source": [
    "plt.imshow(ilm_extracted)"
   ]
  },
  {
   "cell_type": "code",
   "execution_count": null,
   "metadata": {
    "ExecuteTime": {
     "end_time": "2024-03-13T11:04:46.890285100Z",
     "start_time": "2024-03-13T11:04:46.780846Z"
    }
   },
   "outputs": [],
   "source": []
  },
  {
   "cell_type": "markdown",
   "metadata": {},
   "source": [
    "## Algorithm 2: RPE Extraction"
   ]
  },
  {
   "cell_type": "code",
   "execution_count": null,
   "metadata": {
    "ExecuteTime": {
     "end_time": "2024-03-13T11:09:28.957735800Z",
     "start_time": "2024-03-13T11:09:28.833566800Z"
    }
   },
   "outputs": [],
   "source": [
    "def extract_RPE(img):\n",
    "    \"\"\"\n",
    "    Step 1: START\n",
    "    Step 2: Initialize white as True\n",
    "    Step 3: Initialize black as False\n",
    "    Step 4: Initialize flag and k variable as 0\n",
    "    Step 5:For each pixel in RPE (for i = 0 to w, where w is the width of the image)\n",
    "        Step 5.1: For each pixel in RPE (for j = 0 to h, where h is the height of the image)\n",
    "        Step 5.2: IF RPE[j,i]==black then \n",
    "            i. continue\n",
    "        Step 5.3: END IF\n",
    "        Step 5.4: ELSE:\n",
    "            ii. WHILE(j!= w and RPE[j,i]==white):\n",
    "                iii. RPE[j,i]=black\n",
    "            iv. increment j by 1\n",
    "            v. set k equals to j\n",
    "            vi. break\n",
    "            vii. END WHILE\n",
    "        Step 5.5: For each pixel in RPE (for l = k to h)\n",
    "            viii. IF RPE[l,i]==black then\n",
    "                1. Continue\n",
    "            ix. END IF\n",
    "            x. IF RPE[l,i]==white then\n",
    "                1. WHILE (RPE[l,i] == white)\n",
    "                    a. increment l by 1\n",
    "                    b. increment j by 1\n",
    "                2. For each pixel in RPE(for h = l to h)\n",
    "                    a. RPE[h,i]=black\n",
    "                    b. increment j by 1\n",
    "    Step 6: STOP\n",
    "    \"\"\"\n",
    "    image = img\n",
    "    # Step 2: Initialize white as True\n",
    "    white = 255\n",
    "    # Step 3: Initialize black as False\n",
    "    black = 0\n",
    "    # Step 4: Initialize flag and k variable as 0\n",
    "    flag, k = 0, 0\n",
    "    # Step 5: For each pixel in RPE (for i = 0 to w, where w is the width of the image)\n",
    "        # Step 5.1: For each pixel in RPE (for j = 0 to h, where h is the height of the image)\n",
    "    h, w = image.shape[0], image.shape[1] \n",
    "    for i in range(w):\n",
    "        for j in range(h):\n",
    "            # Step 5.2: IF RPE[j,i]==black then \n",
    "            if image[j,i] == black:\n",
    "                # i. continue\n",
    "                continue\n",
    "            # Step 5.3: END IF\n",
    "\n",
    "            # Step 5.4: ELSE:\n",
    "            else:\n",
    "                # ii. WHILE(j!= w and RPE[j,i]==white):\n",
    "                while j != w and image[j,i] == white:\n",
    "                    # iii. RPE[j,i]=black\n",
    "                    image[j,i] = black\n",
    "                    # iv. increment j by 1s\n",
    "                    j += 1\n",
    "                # v. set k equals to j\n",
    "                k = j\n",
    "                # vi. break\n",
    "                break\n",
    "                    # vii. END WHILE\n",
    "\n",
    "        # Step 5.5: For each pixel in RPE (for l = k to h)\n",
    "        for l in range(k, h):\n",
    "            # viii. IF RPE[l,i]==black then\n",
    "            if image[l,i] == black:\n",
    "                # 1. Continue\n",
    "                continue\n",
    "            # ix. END IF\n",
    "\n",
    "            # x. IF RPE[l,i]==white then\n",
    "            if image[l,i] == white:\n",
    "                # 1. WHILE (RPE[l,i] == white)\n",
    "                while l < h and image[l,i] == white:\n",
    "                    # a. increment l by 1\n",
    "                    l += 1\n",
    "                # b. increment j by 1\n",
    "                j += 1\n",
    "                # 2. For each pixel in RPE(for h = l to h)\n",
    "                for h_index in range(l, h):\n",
    "                    # a. RPE[h,i]=black\n",
    "                    image[h_index,i] = black\n",
    "                # b. increment j by 1\n",
    "                j += 1\n",
    "    # Step 6: STOP\n",
    "    return image\n"
   ]
  },
  {
   "cell_type": "code",
   "execution_count": null,
   "metadata": {
    "ExecuteTime": {
     "end_time": "2024-03-13T11:07:55.391381200Z",
     "start_time": "2024-03-13T11:07:55.377863100Z"
    }
   },
   "outputs": [],
   "source": [
    "# Based on the provided method for thickness calculation, here is the corresponding Python function:\n",
    "\n",
    "def calculate_thickness(img):\n",
    "    \"\"\"\n",
    "    Method for Thickness Calculation\n",
    "    1. Initialize rf variable as 10\n",
    "    2. Initialize s and m variable to 0\n",
    "    3. Initialize white equals to True\n",
    "    4. for i = 0 to width\n",
    "        a. s=0\n",
    "        b. for j = 0 to height\n",
    "            c. if(binary[j,i] equals white) then\n",
    "                i. increment s by 1\n",
    "        d. m=m+(rf*s)\n",
    "    5. m=(m+ ResolutionFactor*s)/(Width*100)\n",
    "    ResolutionFactor=10\n",
    "    s=Number of white pixels in each column  \n",
    "    \"\"\"\n",
    "    image1=img\n",
    "    # Initialize rf variable as 10\n",
    "    resolution_factor=10\n",
    "    # Initialize s and m variable to 0\n",
    "    s, m = 0, 0\n",
    "    # Initialize white equals to True\n",
    "    white = 255 \n",
    "    h, w = image1.shape[0], image1.shape[1] \n",
    "\n",
    "    # for i from 0 to width\n",
    "    for i in range(w):\n",
    "        # s=0\n",
    "        s = 0  \n",
    "        # for j from 0 to height\n",
    "        for j in range(h):\n",
    "            # if(binary[j,i] equals white) then\n",
    "            if image1[j,i] == white:\n",
    "                # increment s by 1\n",
    "                s = s + 1\n",
    "\n",
    "        # m=m+(rf*s)    \n",
    "        m = m + resolution_factor * s\n",
    "\n",
    "\n",
    "    # m=(m+ ResolutionFactor*s)/(Width*100)\n",
    "    thickness = m / (w * 100) # (m+ resolution_factor*s)\n",
    "\n",
    "    return thickness"
   ]
  },
  {
   "cell_type": "code",
   "execution_count": null,
   "metadata": {
    "ExecuteTime": {
     "end_time": "2024-03-13T11:09:46.695420600Z",
     "start_time": "2024-03-13T11:09:33.118637500Z"
    }
   },
   "outputs": [],
   "source": [
    "# image = Image.open('2.png').convert('L')\n",
    "\n",
    "# binary_image = np.array(image) > 215  # Choose a suitable threshold_value\n",
    "pith_for_binary_image=\"binary_image.jpg\"\n",
    "binary_image_RPE = cv.imread(pith_for_binary_image, cv2.IMREAD_GRAYSCALE) \n",
    "threshold_value = 127 \n",
    "_, binary_image = cv2.threshold(binary_image_RPE, threshold_value, 255, cv2.THRESH_BINARY)\n",
    "plt.imshow(binary_image)\n",
    "rpe_layer = extract_RPE(binary_image)\n",
    "# output_image = Image.fromarray(np.uint8(rpe_layer * 255), 'L')  # Convert boolean to uint8\n",
    "# output_image.save('path_to_save_extracted_layer.jpg')\n",
    "# cv_image = np.array(output_image)\n",
    "# cv2.imshow('Extracted RPE Layer', cv_image)\n",
    "# cv2.waitKey(0)\n",
    "# cv2.destroyAllWindows()"
   ]
  },
  {
   "cell_type": "code",
   "execution_count": null,
   "metadata": {
    "ExecuteTime": {
     "end_time": "2024-03-13T11:09:47.469687900Z",
     "start_time": "2024-03-13T11:09:46.696810800Z"
    }
   },
   "outputs": [],
   "source": [
    "plt.imshow(binary_image)"
   ]
  },
  {
   "cell_type": "code",
   "execution_count": null,
   "metadata": {
    "ExecuteTime": {
     "end_time": "2024-03-13T11:09:48.190857500Z",
     "start_time": "2024-03-13T11:09:47.470687700Z"
    }
   },
   "outputs": [],
   "source": [
    "plt.imshow(rpe_layer)"
   ]
  },
  {
   "cell_type": "code",
   "execution_count": null,
   "metadata": {
    "ExecuteTime": {
     "end_time": "2024-03-13T11:05:17.893011800Z",
     "start_time": "2024-03-13T11:05:06.287442900Z"
    }
   },
   "outputs": [],
   "source": [
    "thickness = calculate_thickness(rpe_layer)\n",
    "print(f\"The thickness of the RPE layer is: {thickness}\")"
   ]
  },
  {
   "cell_type": "code",
   "execution_count": null,
   "metadata": {},
   "outputs": [],
   "source": [
    "print('upload')"
   ]
  },
  {
   "cell_type": "markdown",
   "metadata": {},
   "source": [
    "## Algorithm 3: Cup Diameter"
   ]
  },
  {
   "cell_type": "code",
   "execution_count": null,
   "metadata": {},
   "outputs": [],
   "source": [
    "def cup_diameter(img):\n",
    "    image = img\n",
    "    r1 = None\n",
    "    r2 = None\n",
    "    white = 255\n",
    "    black = 0\n",
    "\n",
    "    t = 0\n",
    "    t2 = 0\n",
    "    t3 = 0\n",
    "    t4 = 0\n",
    "    t5 = 0\n",
    "    t6 = 0\n",
    "\n",
    "    width = image.shape[1]\n",
    "    height = image.shape[0]\n",
    "\n",
    "    for i in range(width):\n",
    "        for j in range(height):\n",
    "            if image[j][i] == black:\n",
    "                t += 1\n",
    "                continue\n",
    "            \n",
    "            if image[j][i] == white:\n",
    "                t2 += 1\n",
    "                while j != width and image[j][i] == white:\n",
    "                    t3 += 1\n",
    "                    j += 1\n",
    "\n",
    "                for k in range(j, height):\n",
    "                    t4 += 1\n",
    "                    image[k][i] = black\n",
    "\n",
    "\n",
    "    for i in range(width):\n",
    "        if image[1300][i] == white:\n",
    "            t5 += 1\n",
    "            r1 = i\n",
    "            break\n",
    "\n",
    "    for j in range(i+10,width):\n",
    "        if image[1300][j] == white:\n",
    "            t6 += 1\n",
    "            r2 = j\n",
    "            break\n",
    "\n",
    "    print(r1)        \n",
    "    print(r2) \n",
    "    print(t) \n",
    "    print(t2) \n",
    "    print(t3) \n",
    "    print(t4) \n",
    "    print(t5) \n",
    "    print(t6) \n",
    "    print(image[100,j])\n",
    "\n",
    "\n",
    "    if r1 is not None and r2 is not None:\n",
    "        distance = abs(r2 - r1)\n",
    "        return distance ,image\n",
    "\n",
    "    return None  , image                         "
   ]
  },
  {
   "cell_type": "code",
   "execution_count": null,
   "metadata": {},
   "outputs": [],
   "source": [
    "print(ilm_extracted.shape)"
   ]
  },
  {
   "cell_type": "code",
   "execution_count": null,
   "metadata": {},
   "outputs": [],
   "source": [
    "cup_diameter_value,cup_diameter_image = cup_diameter(ilm_extracted)\n",
    "print(\"Cup Diameter: \",cup_diameter_value)"
   ]
  },
  {
   "cell_type": "code",
   "execution_count": null,
   "metadata": {},
   "outputs": [],
   "source": [
    "plt.imshow(cup_diameter_image)"
   ]
  },
  {
   "cell_type": "code",
   "execution_count": null,
   "metadata": {},
   "outputs": [],
   "source": []
  },
  {
   "cell_type": "markdown",
   "metadata": {},
   "source": [
    "## Algorithm 4: Disc Diameter"
   ]
  },
  {
   "cell_type": "code",
   "execution_count": null,
   "metadata": {},
   "outputs": [],
   "source": [
    "# def disc_diameter(img):\n",
    "#     image = img\n",
    "#     white = 255\n",
    "#     black = 0\n",
    "    \n",
    "#     flag=0\n",
    "#     k =  0\n",
    "#     width = image.shape[1]\n",
    "#     height = image.shape[0]\n",
    "#     r1 = 0\n",
    "#     c1 = 0\n",
    "#     r2 = 0\n",
    "#     c2 = 0\n",
    "\n",
    "#     for i in range(width):\n",
    "#         for j in range(height):\n",
    "#             if image[j][i] ==black:\n",
    "#                 continue\n",
    "\n",
    "#             else:\n",
    "#                 while j != width and image[j][i] == white:\n",
    "#                     image[j][i] = black\n",
    "#                     j += 1\n",
    "#                 k = j\n",
    "#                 break\n",
    "\n",
    "        \n",
    "#         for l in range(k,height):\n",
    "#             if image[l][i] == black:\n",
    "#                 continue\n",
    "\n",
    "#             if image[l][i] == white:\n",
    "#                 while image[l][i] == white:\n",
    "#                     l += 1\n",
    "#                     j += 1\n",
    "\n",
    "#                 for h in range(l,height):\n",
    "#                         image[h][i] = black\n",
    "#                         j += 1\n",
    "\n",
    "\n",
    "    \n",
    "\n",
    "#     for i in range(width):\n",
    "#         for j in range(height):\n",
    "#             if image[j][i] == white:\n",
    "#                 r1 = j\n",
    "#                 c1 = i\n",
    "#                 break\n",
    "\n",
    "#         if j == 199:\n",
    "#             break        \n",
    "                \n",
    "\n",
    "    \n",
    "\n",
    "#     for i in range(width - 1,0,-1):\n",
    "#         for j in range(height - 1,0,-1):\n",
    "#             if image[j][i] == white:\n",
    "#                 r2 = j\n",
    "#                 c2 = i\n",
    "#                 break\n",
    "\n",
    "\n",
    "#         if j == 1:\n",
    "#             break                \n",
    "\n",
    "\n",
    "#     return (r1, c1), (r2, c2)"
   ]
  },
  {
   "cell_type": "code",
   "execution_count": null,
   "metadata": {},
   "outputs": [],
   "source": [
    "# print(disc_diameter(rpe_layer))"
   ]
  },
  {
   "cell_type": "code",
   "execution_count": null,
   "metadata": {},
   "outputs": [],
   "source": [
    "# def disc_diameter(img):\n",
    "#     image = img.copy()  # Make a copy of the input image to avoid modifying the original\n",
    "#     white = 255\n",
    "#     black = 0\n",
    "\n",
    "#     # Initialize variables\n",
    "#     flag = 0\n",
    "#     k = 0\n",
    "#     width = image.shape[1]\n",
    "#     height = image.shape[0]\n",
    "#     r1 = 0\n",
    "#     c1 = 0\n",
    "#     r2 = 0\n",
    "#     c2 = 0\n",
    "\n",
    "#     # Find the top boundary of the disc\n",
    "#     for i in range(width):\n",
    "#         for j in range(height):\n",
    "#             if image[j][i] == black:\n",
    "#                 continue\n",
    "#             else:\n",
    "#                 while j != height and image[j][i] == white:\n",
    "#                     image[j][i] = black\n",
    "#                     j += 1\n",
    "#                 k = j\n",
    "#                 break\n",
    "\n",
    "#     # Find the bottom boundary of the disc\n",
    "#     for i in range(width):\n",
    "#         for l in range(k, height):\n",
    "#             if image[l][i] == black:\n",
    "#                 continue\n",
    "#             if image[l][i] == white:\n",
    "#                 while l < height and image[l][i] == white:\n",
    "#                     l += 1\n",
    "#                 for h in range(l, height):\n",
    "#                     image[h][i] = black\n",
    "\n",
    "#     # Find the left boundary of the disc\n",
    "#     for i in range(width):\n",
    "#         for j in range(height):\n",
    "#             if image[j][i] == white:\n",
    "#                 r1 = j\n",
    "#                 c1 = i\n",
    "#                 break\n",
    "#         if j == height - 1:  # Use height - 1 instead of 199\n",
    "#             break\n",
    "\n",
    "#     # Find the right boundary of the disc\n",
    "#     for i in range(width - 1, 0, -1):\n",
    "#         for j in range(height - 1, 0, -1):\n",
    "#             if image[j][i] == white:\n",
    "#                 r2 = j\n",
    "#                 c2 = i\n",
    "#                 break\n",
    "#         if j == 0:\n",
    "#             break\n",
    "\n",
    "#     return (r1, c1), (r2, c2)\n",
    "\n",
    "# # Note: Ensure that the input image is in the format expected by this function, typically a numpy array.\n"
   ]
  },
  {
   "cell_type": "code",
   "execution_count": null,
   "metadata": {},
   "outputs": [],
   "source": [
    "# print(disc_diameter(rpe_layer))"
   ]
  },
  {
   "cell_type": "code",
   "execution_count": null,
   "metadata": {},
   "outputs": [],
   "source": []
  }
 ],
 "metadata": {
  "kernelspec": {
   "display_name": "Python 3",
   "language": "python",
   "name": "python3"
  },
  "language_info": {
   "codemirror_mode": {
    "name": "ipython",
    "version": 3
   },
   "file_extension": ".py",
   "mimetype": "text/x-python",
   "name": "python",
   "nbconvert_exporter": "python",
   "pygments_lexer": "ipython3",
   "version": "3.10.9"
  }
 },
 "nbformat": 4,
 "nbformat_minor": 2
}
