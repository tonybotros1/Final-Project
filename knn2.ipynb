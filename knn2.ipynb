{
 "cells": [
  {
   "cell_type": "code",
   "execution_count": 40,
   "metadata": {},
   "outputs": [],
   "source": [
    "# Importing necessary libraries\n",
    "from sklearn.model_selection import train_test_split\n",
    "from sklearn.neighbors import KNeighborsRegressor\n",
    "from sklearn.metrics import mean_absolute_error \n",
    "from sklearn.metrics import mean_squared_error \n",
    "from sklearn.metrics import median_absolute_error\n",
    "from sklearn.datasets import fetch_openml\n",
    "from sklearn.impute import SimpleImputer\n",
    "import pandas as pd\n",
    "import re\n",
    "from sklearn.neighbors import KNeighborsClassifier\n",
    "from sklearn.pipeline import make_pipeline\n",
    "from sklearn.preprocessing import StandardScaler\n",
    "from sklearn.feature_selection import SelectKBest, f_classif\n",
    "from sklearn.ensemble import BaggingClassifier\n",
    "import matplotlib.pyplot as plt\n",
    "import seaborn as sns\n",
    "from sklearn.model_selection import learning_curve\n",
    "import numpy as np\n",
    "import cv2 as cv\n",
    "from sklearn.preprocessing import MinMaxScaler\n",
    "\n",
    "# Loading the Boston housing dataset\n",
    "# housing = fetch_openml(name=\"house_prices\", as_frame=True)\n",
    "\n"
   ]
  },
  {
   "cell_type": "code",
   "execution_count": 41,
   "metadata": {},
   "outputs": [],
   "source": [
    "split_df =  pd.read_csv('split_df.csv',encoding='utf-8-sig')"
   ]
  },
  {
   "cell_type": "code",
   "execution_count": 42,
   "metadata": {},
   "outputs": [],
   "source": [
    "# split_df.drop('Name', axis=1, inplace=True)\n",
    "\n",
    "# Create a new \"ID\" column with sequential numbers starting from 1\n",
    "split_df['ID'] = range(1, len(split_df) + 1)"
   ]
  },
  {
   "cell_type": "code",
   "execution_count": 43,
   "metadata": {},
   "outputs": [
    {
     "data": {
      "text/plain": [
       "5"
      ]
     },
     "execution_count": 43,
     "metadata": {},
     "output_type": "execute_result"
    }
   ],
   "source": [
    "split_df['VA'].isnull().sum()"
   ]
  },
  {
   "cell_type": "code",
   "execution_count": 44,
   "metadata": {},
   "outputs": [
    {
     "data": {
      "text/plain": [
       "3"
      ]
     },
     "execution_count": 44,
     "metadata": {},
     "output_type": "execute_result"
    }
   ],
   "source": [
    "split_df['IOP'].isnull().sum()"
   ]
  },
  {
   "cell_type": "code",
   "execution_count": 45,
   "metadata": {},
   "outputs": [
    {
     "data": {
      "text/plain": [
       "15"
      ]
     },
     "execution_count": 45,
     "metadata": {},
     "output_type": "execute_result"
    }
   ],
   "source": [
    "split_df['CDR'].isnull().sum()"
   ]
  },
  {
   "cell_type": "code",
   "execution_count": 46,
   "metadata": {},
   "outputs": [
    {
     "data": {
      "text/plain": [
       "Age\n",
       "64    10\n",
       "65     6\n",
       "25     4\n",
       "67     4\n",
       "73     4\n",
       "62     4\n",
       "55     4\n",
       "58     4\n",
       "70     4\n",
       "50     2\n",
       "59     2\n",
       "29     2\n",
       "17     2\n",
       "48     2\n",
       "37     2\n",
       "52     2\n",
       "32     2\n",
       "45     2\n",
       "60     2\n",
       "44     2\n",
       "69     2\n",
       "43     2\n",
       "12     2\n",
       "66     2\n",
       "24     2\n",
       "53     2\n",
       "56     2\n",
       "39     2\n",
       "68     2\n",
       "61     2\n",
       "76     2\n",
       "71     2\n",
       "Name: count, dtype: int64"
      ]
     },
     "execution_count": 46,
     "metadata": {},
     "output_type": "execute_result"
    }
   ],
   "source": [
    "split_df['Age'].value_counts()"
   ]
  },
  {
   "cell_type": "code",
   "execution_count": 47,
   "metadata": {},
   "outputs": [],
   "source": [
    "# Example DataFrame 'data' with an 'Age' column\n",
    "data = split_df['Age']\n",
    "# Calculate quantiles to divide data into 3 groups\n",
    "quantiles = [0, 1/3, 2/3, 1]\n",
    "\n",
    "# Assign labels to the quantiles\n",
    "labels = ['Low', 'Medium', 'High']\n",
    "\n",
    "# Create a new column 'Age Group' based on the quantiles\n",
    "split_df['Age Group'] = pd.qcut(data, q=quantiles, labels=labels)"
   ]
  },
  {
   "cell_type": "code",
   "execution_count": null,
   "metadata": {},
   "outputs": [],
   "source": []
  },
  {
   "cell_type": "code",
   "execution_count": 48,
   "metadata": {},
   "outputs": [],
   "source": [
    "# split_df.dropna(inplace=True)\n",
    "sp = split_df.drop(['Table 1','Gender','ID','Age','Spectacles','id'],axis=1)\n"
   ]
  },
  {
   "cell_type": "code",
   "execution_count": 49,
   "metadata": {},
   "outputs": [
    {
     "data": {
      "text/html": [
       "<div>\n",
       "<style scoped>\n",
       "    .dataframe tbody tr th:only-of-type {\n",
       "        vertical-align: middle;\n",
       "    }\n",
       "\n",
       "    .dataframe tbody tr th {\n",
       "        vertical-align: top;\n",
       "    }\n",
       "\n",
       "    .dataframe thead th {\n",
       "        text-align: right;\n",
       "    }\n",
       "</style>\n",
       "<table border=\"1\" class=\"dataframe\">\n",
       "  <thead>\n",
       "    <tr style=\"text-align: right;\">\n",
       "      <th></th>\n",
       "      <th>Name</th>\n",
       "      <th>Eye</th>\n",
       "      <th>VA</th>\n",
       "      <th>CDR</th>\n",
       "      <th>Diagnosis</th>\n",
       "      <th>IOP</th>\n",
       "      <th>Image</th>\n",
       "      <th>Age Group</th>\n",
       "    </tr>\n",
       "  </thead>\n",
       "  <tbody>\n",
       "    <tr>\n",
       "      <th>0</th>\n",
       "      <td>شاهين ميرو</td>\n",
       "      <td>0</td>\n",
       "      <td>0.6</td>\n",
       "      <td>0.5</td>\n",
       "      <td>0</td>\n",
       "      <td>14.0</td>\n",
       "      <td>Data/SHAHEN_MERO Optic nerve.png_ left.png</td>\n",
       "      <td>Medium</td>\n",
       "    </tr>\n",
       "    <tr>\n",
       "      <th>1</th>\n",
       "      <td>شاهين ميرو</td>\n",
       "      <td>1</td>\n",
       "      <td>0.7</td>\n",
       "      <td>0.9</td>\n",
       "      <td>1</td>\n",
       "      <td>23.0</td>\n",
       "      <td>Data/SHAHEN_MERO Optic nerve.png_ left.png</td>\n",
       "      <td>Medium</td>\n",
       "    </tr>\n",
       "    <tr>\n",
       "      <th>2</th>\n",
       "      <td>أيمن سمارة</td>\n",
       "      <td>0</td>\n",
       "      <td>NaN</td>\n",
       "      <td>NaN</td>\n",
       "      <td>1</td>\n",
       "      <td>25.0</td>\n",
       "      <td>Data/SHAHEN_MERO Optic nerve.png_ right.png</td>\n",
       "      <td>Medium</td>\n",
       "    </tr>\n",
       "    <tr>\n",
       "      <th>3</th>\n",
       "      <td>أيمن سمارة</td>\n",
       "      <td>1</td>\n",
       "      <td>9.0</td>\n",
       "      <td>0.8</td>\n",
       "      <td>1</td>\n",
       "      <td>40.0</td>\n",
       "      <td>Data/SHAHEN_MERO Optic nerve.png_ right.png</td>\n",
       "      <td>Medium</td>\n",
       "    </tr>\n",
       "    <tr>\n",
       "      <th>4</th>\n",
       "      <td>رندة ناصر</td>\n",
       "      <td>0</td>\n",
       "      <td>1.0</td>\n",
       "      <td>0.5</td>\n",
       "      <td>0</td>\n",
       "      <td>15.0</td>\n",
       "      <td>NaN</td>\n",
       "      <td>Low</td>\n",
       "    </tr>\n",
       "    <tr>\n",
       "      <th>...</th>\n",
       "      <td>...</td>\n",
       "      <td>...</td>\n",
       "      <td>...</td>\n",
       "      <td>...</td>\n",
       "      <td>...</td>\n",
       "      <td>...</td>\n",
       "      <td>...</td>\n",
       "      <td>...</td>\n",
       "    </tr>\n",
       "    <tr>\n",
       "      <th>85</th>\n",
       "      <td>زريفة المحمد</td>\n",
       "      <td>1</td>\n",
       "      <td>NaN</td>\n",
       "      <td>NaN</td>\n",
       "      <td>0</td>\n",
       "      <td>NaN</td>\n",
       "      <td>Data/BASEL_BASH Optic nerve.png_ left.png</td>\n",
       "      <td>Medium</td>\n",
       "    </tr>\n",
       "    <tr>\n",
       "      <th>86</th>\n",
       "      <td>هيثم قزاز</td>\n",
       "      <td>0</td>\n",
       "      <td>0.3</td>\n",
       "      <td>0.5</td>\n",
       "      <td>1</td>\n",
       "      <td>15.0</td>\n",
       "      <td>Data/BASEL_BASH Optic nerve.png_ right.png</td>\n",
       "      <td>High</td>\n",
       "    </tr>\n",
       "    <tr>\n",
       "      <th>87</th>\n",
       "      <td>هيثم قزاز</td>\n",
       "      <td>1</td>\n",
       "      <td>0.6</td>\n",
       "      <td>0.7</td>\n",
       "      <td>1</td>\n",
       "      <td>16.0</td>\n",
       "      <td>Data/BASEL_BASH Optic nerve.png_ right.png</td>\n",
       "      <td>High</td>\n",
       "    </tr>\n",
       "    <tr>\n",
       "      <th>88</th>\n",
       "      <td>حمود غشام</td>\n",
       "      <td>0</td>\n",
       "      <td>0.5</td>\n",
       "      <td>0.3</td>\n",
       "      <td>0</td>\n",
       "      <td>15.0</td>\n",
       "      <td>Data/NEZAR_HELOU Optic nerve.png_ left.png</td>\n",
       "      <td>High</td>\n",
       "    </tr>\n",
       "    <tr>\n",
       "      <th>89</th>\n",
       "      <td>حمود غشام</td>\n",
       "      <td>1</td>\n",
       "      <td>0.2</td>\n",
       "      <td>0.3</td>\n",
       "      <td>0</td>\n",
       "      <td>12.0</td>\n",
       "      <td>Data/NEZAR_HELOU Optic nerve.png_ left.png</td>\n",
       "      <td>High</td>\n",
       "    </tr>\n",
       "  </tbody>\n",
       "</table>\n",
       "<p>90 rows × 8 columns</p>\n",
       "</div>"
      ],
      "text/plain": [
       "            Name  Eye   VA  CDR  Diagnosis   IOP  \\\n",
       "0     شاهين ميرو    0  0.6  0.5          0  14.0   \n",
       "1     شاهين ميرو    1  0.7  0.9          1  23.0   \n",
       "2     أيمن سمارة    0  NaN  NaN          1  25.0   \n",
       "3     أيمن سمارة    1  9.0  0.8          1  40.0   \n",
       "4      رندة ناصر    0  1.0  0.5          0  15.0   \n",
       "..           ...  ...  ...  ...        ...   ...   \n",
       "85  زريفة المحمد    1  NaN  NaN          0   NaN   \n",
       "86     هيثم قزاز    0  0.3  0.5          1  15.0   \n",
       "87     هيثم قزاز    1  0.6  0.7          1  16.0   \n",
       "88     حمود غشام    0  0.5  0.3          0  15.0   \n",
       "89     حمود غشام    1  0.2  0.3          0  12.0   \n",
       "\n",
       "                                          Image Age Group  \n",
       "0    Data/SHAHEN_MERO Optic nerve.png_ left.png    Medium  \n",
       "1    Data/SHAHEN_MERO Optic nerve.png_ left.png    Medium  \n",
       "2   Data/SHAHEN_MERO Optic nerve.png_ right.png    Medium  \n",
       "3   Data/SHAHEN_MERO Optic nerve.png_ right.png    Medium  \n",
       "4                                           NaN       Low  \n",
       "..                                          ...       ...  \n",
       "85    Data/BASEL_BASH Optic nerve.png_ left.png    Medium  \n",
       "86   Data/BASEL_BASH Optic nerve.png_ right.png      High  \n",
       "87   Data/BASEL_BASH Optic nerve.png_ right.png      High  \n",
       "88   Data/NEZAR_HELOU Optic nerve.png_ left.png      High  \n",
       "89   Data/NEZAR_HELOU Optic nerve.png_ left.png      High  \n",
       "\n",
       "[90 rows x 8 columns]"
      ]
     },
     "execution_count": 49,
     "metadata": {},
     "output_type": "execute_result"
    }
   ],
   "source": [
    "sp"
   ]
  },
  {
   "cell_type": "code",
   "execution_count": 50,
   "metadata": {},
   "outputs": [],
   "source": [
    "sp = sp.drop(['Eye','Name'],axis=1)"
   ]
  },
  {
   "cell_type": "code",
   "execution_count": 51,
   "metadata": {},
   "outputs": [],
   "source": [
    "# sp.dropna(inplace=True)\n"
   ]
  },
  {
   "cell_type": "code",
   "execution_count": 52,
   "metadata": {},
   "outputs": [],
   "source": [
    "sp.dropna(thresh=sp.shape[1]-1, inplace=True)\n"
   ]
  },
  {
   "cell_type": "code",
   "execution_count": null,
   "metadata": {},
   "outputs": [],
   "source": []
  },
  {
   "cell_type": "code",
   "execution_count": 53,
   "metadata": {},
   "outputs": [],
   "source": [
    "y_data = sp['Diagnosis']\n",
    "X_data = sp.drop(['Diagnosis','Image'],axis=1)"
   ]
  },
  {
   "cell_type": "code",
   "execution_count": 54,
   "metadata": {},
   "outputs": [
    {
     "data": {
      "text/html": [
       "<div>\n",
       "<style scoped>\n",
       "    .dataframe tbody tr th:only-of-type {\n",
       "        vertical-align: middle;\n",
       "    }\n",
       "\n",
       "    .dataframe tbody tr th {\n",
       "        vertical-align: top;\n",
       "    }\n",
       "\n",
       "    .dataframe thead th {\n",
       "        text-align: right;\n",
       "    }\n",
       "</style>\n",
       "<table border=\"1\" class=\"dataframe\">\n",
       "  <thead>\n",
       "    <tr style=\"text-align: right;\">\n",
       "      <th></th>\n",
       "      <th>VA</th>\n",
       "      <th>CDR</th>\n",
       "      <th>IOP</th>\n",
       "      <th>Age Group</th>\n",
       "    </tr>\n",
       "  </thead>\n",
       "  <tbody>\n",
       "    <tr>\n",
       "      <th>0</th>\n",
       "      <td>0.6</td>\n",
       "      <td>0.5</td>\n",
       "      <td>14.0</td>\n",
       "      <td>Medium</td>\n",
       "    </tr>\n",
       "    <tr>\n",
       "      <th>1</th>\n",
       "      <td>0.7</td>\n",
       "      <td>0.9</td>\n",
       "      <td>23.0</td>\n",
       "      <td>Medium</td>\n",
       "    </tr>\n",
       "    <tr>\n",
       "      <th>3</th>\n",
       "      <td>9.0</td>\n",
       "      <td>0.8</td>\n",
       "      <td>40.0</td>\n",
       "      <td>Medium</td>\n",
       "    </tr>\n",
       "    <tr>\n",
       "      <th>4</th>\n",
       "      <td>1.0</td>\n",
       "      <td>0.5</td>\n",
       "      <td>15.0</td>\n",
       "      <td>Low</td>\n",
       "    </tr>\n",
       "    <tr>\n",
       "      <th>5</th>\n",
       "      <td>1.0</td>\n",
       "      <td>0.4</td>\n",
       "      <td>14.0</td>\n",
       "      <td>Low</td>\n",
       "    </tr>\n",
       "    <tr>\n",
       "      <th>...</th>\n",
       "      <td>...</td>\n",
       "      <td>...</td>\n",
       "      <td>...</td>\n",
       "      <td>...</td>\n",
       "    </tr>\n",
       "    <tr>\n",
       "      <th>84</th>\n",
       "      <td>0.2</td>\n",
       "      <td>0.8</td>\n",
       "      <td>10.0</td>\n",
       "      <td>Medium</td>\n",
       "    </tr>\n",
       "    <tr>\n",
       "      <th>86</th>\n",
       "      <td>0.3</td>\n",
       "      <td>0.5</td>\n",
       "      <td>15.0</td>\n",
       "      <td>High</td>\n",
       "    </tr>\n",
       "    <tr>\n",
       "      <th>87</th>\n",
       "      <td>0.6</td>\n",
       "      <td>0.7</td>\n",
       "      <td>16.0</td>\n",
       "      <td>High</td>\n",
       "    </tr>\n",
       "    <tr>\n",
       "      <th>88</th>\n",
       "      <td>0.5</td>\n",
       "      <td>0.3</td>\n",
       "      <td>15.0</td>\n",
       "      <td>High</td>\n",
       "    </tr>\n",
       "    <tr>\n",
       "      <th>89</th>\n",
       "      <td>0.2</td>\n",
       "      <td>0.3</td>\n",
       "      <td>12.0</td>\n",
       "      <td>High</td>\n",
       "    </tr>\n",
       "  </tbody>\n",
       "</table>\n",
       "<p>88 rows × 4 columns</p>\n",
       "</div>"
      ],
      "text/plain": [
       "     VA  CDR   IOP Age Group\n",
       "0   0.6  0.5  14.0    Medium\n",
       "1   0.7  0.9  23.0    Medium\n",
       "3   9.0  0.8  40.0    Medium\n",
       "4   1.0  0.5  15.0       Low\n",
       "5   1.0  0.4  14.0       Low\n",
       "..  ...  ...   ...       ...\n",
       "84  0.2  0.8  10.0    Medium\n",
       "86  0.3  0.5  15.0      High\n",
       "87  0.6  0.7  16.0      High\n",
       "88  0.5  0.3  15.0      High\n",
       "89  0.2  0.3  12.0      High\n",
       "\n",
       "[88 rows x 4 columns]"
      ]
     },
     "execution_count": 54,
     "metadata": {},
     "output_type": "execute_result"
    }
   ],
   "source": [
    "X_data"
   ]
  },
  {
   "cell_type": "code",
   "execution_count": 55,
   "metadata": {},
   "outputs": [],
   "source": [
    "# orb = cv.ORB_create()\n",
    "\n",
    "# def extract_orb_features(image_path):\n",
    "#     image = cv.imread(image_path)\n",
    "#     gray = cv.cvtColor(image, cv.COLOR_BGR2GRAY)\n",
    "#     keypoints, descriptors = orb.detectAndCompute(gray, None)\n",
    "#     return descriptors.flatten() if descriptors is not None else np.zeros(500)"
   ]
  },
  {
   "cell_type": "code",
   "execution_count": 56,
   "metadata": {},
   "outputs": [],
   "source": [
    "# X_data['ORB_features'] = X_data['Image'].apply(extract_orb_features)"
   ]
  },
  {
   "cell_type": "code",
   "execution_count": 57,
   "metadata": {},
   "outputs": [
    {
     "data": {
      "text/plain": [
       "Diagnosis\n",
       "1    48\n",
       "0    40\n",
       "Name: count, dtype: int64"
      ]
     },
     "execution_count": 57,
     "metadata": {},
     "output_type": "execute_result"
    }
   ],
   "source": [
    "sp['Diagnosis'].value_counts()"
   ]
  },
  {
   "cell_type": "code",
   "execution_count": 58,
   "metadata": {},
   "outputs": [
    {
     "data": {
      "text/html": [
       "<div>\n",
       "<style scoped>\n",
       "    .dataframe tbody tr th:only-of-type {\n",
       "        vertical-align: middle;\n",
       "    }\n",
       "\n",
       "    .dataframe tbody tr th {\n",
       "        vertical-align: top;\n",
       "    }\n",
       "\n",
       "    .dataframe thead th {\n",
       "        text-align: right;\n",
       "    }\n",
       "</style>\n",
       "<table border=\"1\" class=\"dataframe\">\n",
       "  <thead>\n",
       "    <tr style=\"text-align: right;\">\n",
       "      <th></th>\n",
       "      <th>VA</th>\n",
       "      <th>CDR</th>\n",
       "      <th>IOP</th>\n",
       "      <th>Age Group</th>\n",
       "    </tr>\n",
       "  </thead>\n",
       "  <tbody>\n",
       "    <tr>\n",
       "      <th>0</th>\n",
       "      <td>0.6</td>\n",
       "      <td>0.5</td>\n",
       "      <td>14.0</td>\n",
       "      <td>Medium</td>\n",
       "    </tr>\n",
       "    <tr>\n",
       "      <th>1</th>\n",
       "      <td>0.7</td>\n",
       "      <td>0.9</td>\n",
       "      <td>23.0</td>\n",
       "      <td>Medium</td>\n",
       "    </tr>\n",
       "    <tr>\n",
       "      <th>3</th>\n",
       "      <td>9.0</td>\n",
       "      <td>0.8</td>\n",
       "      <td>40.0</td>\n",
       "      <td>Medium</td>\n",
       "    </tr>\n",
       "    <tr>\n",
       "      <th>4</th>\n",
       "      <td>1.0</td>\n",
       "      <td>0.5</td>\n",
       "      <td>15.0</td>\n",
       "      <td>Low</td>\n",
       "    </tr>\n",
       "    <tr>\n",
       "      <th>5</th>\n",
       "      <td>1.0</td>\n",
       "      <td>0.4</td>\n",
       "      <td>14.0</td>\n",
       "      <td>Low</td>\n",
       "    </tr>\n",
       "    <tr>\n",
       "      <th>...</th>\n",
       "      <td>...</td>\n",
       "      <td>...</td>\n",
       "      <td>...</td>\n",
       "      <td>...</td>\n",
       "    </tr>\n",
       "    <tr>\n",
       "      <th>84</th>\n",
       "      <td>0.2</td>\n",
       "      <td>0.8</td>\n",
       "      <td>10.0</td>\n",
       "      <td>Medium</td>\n",
       "    </tr>\n",
       "    <tr>\n",
       "      <th>86</th>\n",
       "      <td>0.3</td>\n",
       "      <td>0.5</td>\n",
       "      <td>15.0</td>\n",
       "      <td>High</td>\n",
       "    </tr>\n",
       "    <tr>\n",
       "      <th>87</th>\n",
       "      <td>0.6</td>\n",
       "      <td>0.7</td>\n",
       "      <td>16.0</td>\n",
       "      <td>High</td>\n",
       "    </tr>\n",
       "    <tr>\n",
       "      <th>88</th>\n",
       "      <td>0.5</td>\n",
       "      <td>0.3</td>\n",
       "      <td>15.0</td>\n",
       "      <td>High</td>\n",
       "    </tr>\n",
       "    <tr>\n",
       "      <th>89</th>\n",
       "      <td>0.2</td>\n",
       "      <td>0.3</td>\n",
       "      <td>12.0</td>\n",
       "      <td>High</td>\n",
       "    </tr>\n",
       "  </tbody>\n",
       "</table>\n",
       "<p>88 rows × 4 columns</p>\n",
       "</div>"
      ],
      "text/plain": [
       "     VA  CDR   IOP Age Group\n",
       "0   0.6  0.5  14.0    Medium\n",
       "1   0.7  0.9  23.0    Medium\n",
       "3   9.0  0.8  40.0    Medium\n",
       "4   1.0  0.5  15.0       Low\n",
       "5   1.0  0.4  14.0       Low\n",
       "..  ...  ...   ...       ...\n",
       "84  0.2  0.8  10.0    Medium\n",
       "86  0.3  0.5  15.0      High\n",
       "87  0.6  0.7  16.0      High\n",
       "88  0.5  0.3  15.0      High\n",
       "89  0.2  0.3  12.0      High\n",
       "\n",
       "[88 rows x 4 columns]"
      ]
     },
     "execution_count": 58,
     "metadata": {},
     "output_type": "execute_result"
    }
   ],
   "source": [
    "X_data"
   ]
  },
  {
   "cell_type": "code",
   "execution_count": 59,
   "metadata": {},
   "outputs": [
    {
     "data": {
      "text/plain": [
       "VA            3\n",
       "CDR          13\n",
       "IOP           2\n",
       "Age Group     0\n",
       "dtype: int64"
      ]
     },
     "execution_count": 59,
     "metadata": {},
     "output_type": "execute_result"
    }
   ],
   "source": [
    "X_data.isnull().sum()"
   ]
  },
  {
   "cell_type": "code",
   "execution_count": 60,
   "metadata": {},
   "outputs": [
    {
     "data": {
      "text/plain": [
       "(88,)"
      ]
     },
     "execution_count": 60,
     "metadata": {},
     "output_type": "execute_result"
    }
   ],
   "source": [
    "y_data.shape"
   ]
  },
  {
   "cell_type": "code",
   "execution_count": 61,
   "metadata": {},
   "outputs": [
    {
     "data": {
      "text/html": [
       "<div>\n",
       "<style scoped>\n",
       "    .dataframe tbody tr th:only-of-type {\n",
       "        vertical-align: middle;\n",
       "    }\n",
       "\n",
       "    .dataframe tbody tr th {\n",
       "        vertical-align: top;\n",
       "    }\n",
       "\n",
       "    .dataframe thead th {\n",
       "        text-align: right;\n",
       "    }\n",
       "</style>\n",
       "<table border=\"1\" class=\"dataframe\">\n",
       "  <thead>\n",
       "    <tr style=\"text-align: right;\">\n",
       "      <th></th>\n",
       "      <th>VA</th>\n",
       "      <th>CDR</th>\n",
       "      <th>IOP</th>\n",
       "      <th>Age Group</th>\n",
       "    </tr>\n",
       "  </thead>\n",
       "  <tbody>\n",
       "    <tr>\n",
       "      <th>0</th>\n",
       "      <td>0.6</td>\n",
       "      <td>0.5</td>\n",
       "      <td>14.0</td>\n",
       "      <td>Medium</td>\n",
       "    </tr>\n",
       "    <tr>\n",
       "      <th>1</th>\n",
       "      <td>0.7</td>\n",
       "      <td>0.9</td>\n",
       "      <td>23.0</td>\n",
       "      <td>Medium</td>\n",
       "    </tr>\n",
       "    <tr>\n",
       "      <th>3</th>\n",
       "      <td>9.0</td>\n",
       "      <td>0.8</td>\n",
       "      <td>40.0</td>\n",
       "      <td>Medium</td>\n",
       "    </tr>\n",
       "    <tr>\n",
       "      <th>4</th>\n",
       "      <td>1.0</td>\n",
       "      <td>0.5</td>\n",
       "      <td>15.0</td>\n",
       "      <td>Low</td>\n",
       "    </tr>\n",
       "    <tr>\n",
       "      <th>5</th>\n",
       "      <td>1.0</td>\n",
       "      <td>0.4</td>\n",
       "      <td>14.0</td>\n",
       "      <td>Low</td>\n",
       "    </tr>\n",
       "    <tr>\n",
       "      <th>...</th>\n",
       "      <td>...</td>\n",
       "      <td>...</td>\n",
       "      <td>...</td>\n",
       "      <td>...</td>\n",
       "    </tr>\n",
       "    <tr>\n",
       "      <th>84</th>\n",
       "      <td>0.2</td>\n",
       "      <td>0.8</td>\n",
       "      <td>10.0</td>\n",
       "      <td>Medium</td>\n",
       "    </tr>\n",
       "    <tr>\n",
       "      <th>86</th>\n",
       "      <td>0.3</td>\n",
       "      <td>0.5</td>\n",
       "      <td>15.0</td>\n",
       "      <td>High</td>\n",
       "    </tr>\n",
       "    <tr>\n",
       "      <th>87</th>\n",
       "      <td>0.6</td>\n",
       "      <td>0.7</td>\n",
       "      <td>16.0</td>\n",
       "      <td>High</td>\n",
       "    </tr>\n",
       "    <tr>\n",
       "      <th>88</th>\n",
       "      <td>0.5</td>\n",
       "      <td>0.3</td>\n",
       "      <td>15.0</td>\n",
       "      <td>High</td>\n",
       "    </tr>\n",
       "    <tr>\n",
       "      <th>89</th>\n",
       "      <td>0.2</td>\n",
       "      <td>0.3</td>\n",
       "      <td>12.0</td>\n",
       "      <td>High</td>\n",
       "    </tr>\n",
       "  </tbody>\n",
       "</table>\n",
       "<p>88 rows × 4 columns</p>\n",
       "</div>"
      ],
      "text/plain": [
       "     VA  CDR   IOP Age Group\n",
       "0   0.6  0.5  14.0    Medium\n",
       "1   0.7  0.9  23.0    Medium\n",
       "3   9.0  0.8  40.0    Medium\n",
       "4   1.0  0.5  15.0       Low\n",
       "5   1.0  0.4  14.0       Low\n",
       "..  ...  ...   ...       ...\n",
       "84  0.2  0.8  10.0    Medium\n",
       "86  0.3  0.5  15.0      High\n",
       "87  0.6  0.7  16.0      High\n",
       "88  0.5  0.3  15.0      High\n",
       "89  0.2  0.3  12.0      High\n",
       "\n",
       "[88 rows x 4 columns]"
      ]
     },
     "execution_count": 61,
     "metadata": {},
     "output_type": "execute_result"
    }
   ],
   "source": [
    "X_data.head(88)"
   ]
  },
  {
   "cell_type": "code",
   "execution_count": 62,
   "metadata": {},
   "outputs": [],
   "source": [
    "from sklearn.feature_extraction.text import TfidfVectorizer\n",
    "\n",
    "vectorizer = TfidfVectorizer()\n",
    "\n",
    "vic = vectorizer.fit_transform(X_data['Age Group'])\n",
    "\n",
    "for i, feature_name in enumerate(vectorizer.get_feature_names_out()):\n",
    "    X_data[f'Vic_{feature_name}'] = vic[:, i].toarray().ravel()"
   ]
  },
  {
   "cell_type": "code",
   "execution_count": 63,
   "metadata": {},
   "outputs": [],
   "source": [
    "X_data.drop('Age Group',axis=1,inplace=True)"
   ]
  },
  {
   "cell_type": "code",
   "execution_count": 64,
   "metadata": {},
   "outputs": [],
   "source": [
    "X_train, X_test, y_train, y_test = train_test_split(X_data, y_data, test_size=0.1, random_state=44, shuffle=True)\n"
   ]
  },
  {
   "cell_type": "code",
   "execution_count": 65,
   "metadata": {},
   "outputs": [],
   "source": [
    "# scaler = MinMaxScaler()\n",
    "\n",
    "# # Fit the scaler on training data and transform both training and testing data\n",
    "# X_train = scaler.fit_transform(X_train)\n",
    "# X_test = scaler.transform(X_test)"
   ]
  },
  {
   "cell_type": "code",
   "execution_count": 66,
   "metadata": {},
   "outputs": [
    {
     "data": {
      "text/plain": [
       "(79, 6)"
      ]
     },
     "execution_count": 66,
     "metadata": {},
     "output_type": "execute_result"
    }
   ],
   "source": [
    "X_train.shape"
   ]
  },
  {
   "cell_type": "code",
   "execution_count": 67,
   "metadata": {},
   "outputs": [
    {
     "data": {
      "text/html": [
       "<div>\n",
       "<style scoped>\n",
       "    .dataframe tbody tr th:only-of-type {\n",
       "        vertical-align: middle;\n",
       "    }\n",
       "\n",
       "    .dataframe tbody tr th {\n",
       "        vertical-align: top;\n",
       "    }\n",
       "\n",
       "    .dataframe thead th {\n",
       "        text-align: right;\n",
       "    }\n",
       "</style>\n",
       "<table border=\"1\" class=\"dataframe\">\n",
       "  <thead>\n",
       "    <tr style=\"text-align: right;\">\n",
       "      <th></th>\n",
       "      <th>VA</th>\n",
       "      <th>CDR</th>\n",
       "      <th>IOP</th>\n",
       "      <th>Vic_high</th>\n",
       "      <th>Vic_low</th>\n",
       "      <th>Vic_medium</th>\n",
       "    </tr>\n",
       "  </thead>\n",
       "  <tbody>\n",
       "    <tr>\n",
       "      <th>41</th>\n",
       "      <td>NaN</td>\n",
       "      <td>0.3</td>\n",
       "      <td>12.0</td>\n",
       "      <td>1.0</td>\n",
       "      <td>0.0</td>\n",
       "      <td>0.0</td>\n",
       "    </tr>\n",
       "    <tr>\n",
       "      <th>40</th>\n",
       "      <td>NaN</td>\n",
       "      <td>0.3</td>\n",
       "      <td>12.0</td>\n",
       "      <td>1.0</td>\n",
       "      <td>0.0</td>\n",
       "      <td>0.0</td>\n",
       "    </tr>\n",
       "    <tr>\n",
       "      <th>66</th>\n",
       "      <td>1.0</td>\n",
       "      <td>NaN</td>\n",
       "      <td>12.0</td>\n",
       "      <td>0.0</td>\n",
       "      <td>1.0</td>\n",
       "      <td>0.0</td>\n",
       "    </tr>\n",
       "    <tr>\n",
       "      <th>53</th>\n",
       "      <td>1.0</td>\n",
       "      <td>0.3</td>\n",
       "      <td>19.0</td>\n",
       "      <td>0.0</td>\n",
       "      <td>1.0</td>\n",
       "      <td>0.0</td>\n",
       "    </tr>\n",
       "    <tr>\n",
       "      <th>20</th>\n",
       "      <td>0.1</td>\n",
       "      <td>0.8</td>\n",
       "      <td>44.0</td>\n",
       "      <td>1.0</td>\n",
       "      <td>0.0</td>\n",
       "      <td>0.0</td>\n",
       "    </tr>\n",
       "    <tr>\n",
       "      <th>...</th>\n",
       "      <td>...</td>\n",
       "      <td>...</td>\n",
       "      <td>...</td>\n",
       "      <td>...</td>\n",
       "      <td>...</td>\n",
       "      <td>...</td>\n",
       "    </tr>\n",
       "    <tr>\n",
       "      <th>4</th>\n",
       "      <td>1.0</td>\n",
       "      <td>0.5</td>\n",
       "      <td>15.0</td>\n",
       "      <td>0.0</td>\n",
       "      <td>1.0</td>\n",
       "      <td>0.0</td>\n",
       "    </tr>\n",
       "    <tr>\n",
       "      <th>60</th>\n",
       "      <td>1.0</td>\n",
       "      <td>0.3</td>\n",
       "      <td>14.0</td>\n",
       "      <td>0.0</td>\n",
       "      <td>1.0</td>\n",
       "      <td>0.0</td>\n",
       "    </tr>\n",
       "    <tr>\n",
       "      <th>46</th>\n",
       "      <td>1.0</td>\n",
       "      <td>0.5</td>\n",
       "      <td>12.0</td>\n",
       "      <td>0.0</td>\n",
       "      <td>1.0</td>\n",
       "      <td>0.0</td>\n",
       "    </tr>\n",
       "    <tr>\n",
       "      <th>36</th>\n",
       "      <td>0.9</td>\n",
       "      <td>0.8</td>\n",
       "      <td>24.0</td>\n",
       "      <td>0.0</td>\n",
       "      <td>0.0</td>\n",
       "      <td>1.0</td>\n",
       "    </tr>\n",
       "    <tr>\n",
       "      <th>21</th>\n",
       "      <td>0.2</td>\n",
       "      <td>10.0</td>\n",
       "      <td>33.0</td>\n",
       "      <td>1.0</td>\n",
       "      <td>0.0</td>\n",
       "      <td>0.0</td>\n",
       "    </tr>\n",
       "  </tbody>\n",
       "</table>\n",
       "<p>79 rows × 6 columns</p>\n",
       "</div>"
      ],
      "text/plain": [
       "     VA   CDR   IOP  Vic_high  Vic_low  Vic_medium\n",
       "41  NaN   0.3  12.0       1.0      0.0         0.0\n",
       "40  NaN   0.3  12.0       1.0      0.0         0.0\n",
       "66  1.0   NaN  12.0       0.0      1.0         0.0\n",
       "53  1.0   0.3  19.0       0.0      1.0         0.0\n",
       "20  0.1   0.8  44.0       1.0      0.0         0.0\n",
       "..  ...   ...   ...       ...      ...         ...\n",
       "4   1.0   0.5  15.0       0.0      1.0         0.0\n",
       "60  1.0   0.3  14.0       0.0      1.0         0.0\n",
       "46  1.0   0.5  12.0       0.0      1.0         0.0\n",
       "36  0.9   0.8  24.0       0.0      0.0         1.0\n",
       "21  0.2  10.0  33.0       1.0      0.0         0.0\n",
       "\n",
       "[79 rows x 6 columns]"
      ]
     },
     "execution_count": 67,
     "metadata": {},
     "output_type": "execute_result"
    }
   ],
   "source": [
    "X_train"
   ]
  },
  {
   "cell_type": "code",
   "execution_count": 68,
   "metadata": {},
   "outputs": [
    {
     "data": {
      "text/plain": [
       "\"\\n\\n1. **SimpleImputer**: هذه الخطوة تتعامل مع القيم المفقودة في مجموعة البيانات. هنا، نستخدم استراتيجية الوسيط البسيطة، التي تقوم بتعويض القيم المفقودة بالمتوسط \\u200b\\u200bمن القيم غير المفقودة في نفس العمود.\\n\\n2. **StandardScaler**: تقوم هذه الخطوة بتوحيد الميزات عن طريق إزالة المتوسط \\u200b\\u200bوالتوحيد إلى الانحراف المعياري الواحد. يضمن التوحيد أن جميع الميزات لديها نفس المقياس، مما يمكن أن يحسن أداء بعض خوارزميات التعلم الآلي، مثل KNN.\\n\\n3. **SelectKBest**: تقوم هذه الخطوة بتحديد الميزات. تختار أفضل k ميزات استنادًا إلى قيمة F-value لتحليل الانحدار الثنائي، وهو مقياس للتبعية الخطية بين الميزة والمتغير المستهدف. في هذه الحالة، نختار أفضل 4 ميزات.\\n\\n4. **BaggingClassifier**: تنفذ هذه الخطوة تجميع البيانات، وهو خوارزمية تعلم تعمل على تحسين الاستقرار ودقة خوارزميات التعلم الآلي. تعمل عن طريق تدريب عدة نماذج تصنيفية قاعدية على مجموعات فرعية مختلفة من البيانات التدريبية ثم تجميع توقعاتها. هنا، نستخدم BaggingClassifier مع KNeighborsClassifier كمقدم خدمة قاعدية. يجمع BaggingClassifier توقعات 10 نماذج KNeighborsClassifier الأساسية (المحددة بواسطة `n_estimators`) المدربة على مجموعات فرعية مختلفة من البيانات. يساعد ذلك في تقليل التحديد الزائد وتحسين أداء التعميم للنموذج.\\n\\nداخل BaggingClassifier:\\n\\n- **KNeighborsClassifier**: هذا هو المقدم الأساسي المستخدم للتصنيف. ينفذ خوارزمية الجير الأقرب للجير للتصنيف، حيث يتم تحديد علامة الفئة لعينة غير مرئية بواسطة الفئة الأكثرية بين k أقرب جير لها. هنا، نستخدم `n_neighbors=3` (3 أقرب جير)، `weights='uniform'` (أوزان متساوية لجميع الأقرباء)، `algorithm='auto'` (اختيار تلقائي للخوارزمية)، و `p=2` (مقياس المسافة الأوروبية، والذي يتوافق مع المسافة L2).\\n\\n- **n_estimators**: يحدد هذا المعلم عدد المقدمين الأساسيين (نماذج KNeighborsClassifier) التي سيتم تدريبها في التجميع.\\n\\n- **random_state**: يضمن هذا المعلم تكرارية النتائج عن طريق تعيين بذرة لتوليد الأرقام العشوائية. يضمن أن نفس النتائج العشوائية للبيانات يتم استخدامها لتدريب المقدمين الأساسيين في كل تكرار من عملية التجميع.\\n \""
      ]
     },
     "execution_count": 68,
     "metadata": {},
     "output_type": "execute_result"
    }
   ],
   "source": [
    "# imputer = SimpleImputer(strategy='mean')\n",
    "# X_train_imputed = imputer.fit_transform(X_train)\n",
    "# X_test_imputed = imputer.transform(X_test)\n",
    "\n",
    "\n",
    "pipeline = make_pipeline(\n",
    "    SimpleImputer(strategy='most_frequent'),\n",
    "    StandardScaler(),\n",
    "    # SelectKBest(f_classif, k=3),  # Select the top 5 features based on ANOVA F-value\n",
    "    BaggingClassifier(\n",
    "        KNeighborsClassifier(n_neighbors=3, weights='uniform', algorithm='auto', p=2),  # p=2 for Euclidean distance (L2)\n",
    "        n_estimators=10,  # Number of base estimators in the ensemble\n",
    "        random_state=42\n",
    "    )\n",
    ")\n",
    "\n",
    "\"\"\"\n",
    "\n",
    "1. **SimpleImputer**: هذه الخطوة تتعامل مع القيم المفقودة في مجموعة البيانات. هنا، نستخدم استراتيجية الوسيط البسيطة، التي تقوم بتعويض القيم المفقودة بالمتوسط ​​من القيم غير المفقودة في نفس العمود.\n",
    "\n",
    "2. **StandardScaler**: تقوم هذه الخطوة بتوحيد الميزات عن طريق إزالة المتوسط ​​والتوحيد إلى الانحراف المعياري الواحد. يضمن التوحيد أن جميع الميزات لديها نفس المقياس، مما يمكن أن يحسن أداء بعض خوارزميات التعلم الآلي، مثل KNN.\n",
    "\n",
    "3. **SelectKBest**: تقوم هذه الخطوة بتحديد الميزات. تختار أفضل k ميزات استنادًا إلى قيمة F-value لتحليل الانحدار الثنائي، وهو مقياس للتبعية الخطية بين الميزة والمتغير المستهدف. في هذه الحالة، نختار أفضل 4 ميزات.\n",
    "\n",
    "4. **BaggingClassifier**: تنفذ هذه الخطوة تجميع البيانات، وهو خوارزمية تعلم تعمل على تحسين الاستقرار ودقة خوارزميات التعلم الآلي. تعمل عن طريق تدريب عدة نماذج تصنيفية قاعدية على مجموعات فرعية مختلفة من البيانات التدريبية ثم تجميع توقعاتها. هنا، نستخدم BaggingClassifier مع KNeighborsClassifier كمقدم خدمة قاعدية. يجمع BaggingClassifier توقعات 10 نماذج KNeighborsClassifier الأساسية (المحددة بواسطة `n_estimators`) المدربة على مجموعات فرعية مختلفة من البيانات. يساعد ذلك في تقليل التحديد الزائد وتحسين أداء التعميم للنموذج.\n",
    "\n",
    "داخل BaggingClassifier:\n",
    "\n",
    "- **KNeighborsClassifier**: هذا هو المقدم الأساسي المستخدم للتصنيف. ينفذ خوارزمية الجير الأقرب للجير للتصنيف، حيث يتم تحديد علامة الفئة لعينة غير مرئية بواسطة الفئة الأكثرية بين k أقرب جير لها. هنا، نستخدم `n_neighbors=3` (3 أقرب جير)، `weights='uniform'` (أوزان متساوية لجميع الأقرباء)، `algorithm='auto'` (اختيار تلقائي للخوارزمية)، و `p=2` (مقياس المسافة الأوروبية، والذي يتوافق مع المسافة L2).\n",
    "\n",
    "- **n_estimators**: يحدد هذا المعلم عدد المقدمين الأساسيين (نماذج KNeighborsClassifier) التي سيتم تدريبها في التجميع.\n",
    "\n",
    "- **random_state**: يضمن هذا المعلم تكرارية النتائج عن طريق تعيين بذرة لتوليد الأرقام العشوائية. يضمن أن نفس النتائج العشوائية للبيانات يتم استخدامها لتدريب المقدمين الأساسيين في كل تكرار من عملية التجميع.\n",
    " \"\"\"\n",
    "\n"
   ]
  },
  {
   "cell_type": "code",
   "execution_count": 69,
   "metadata": {},
   "outputs": [
    {
     "data": {
      "text/html": [
       "<style>#sk-container-id-2 {color: black;}#sk-container-id-2 pre{padding: 0;}#sk-container-id-2 div.sk-toggleable {background-color: white;}#sk-container-id-2 label.sk-toggleable__label {cursor: pointer;display: block;width: 100%;margin-bottom: 0;padding: 0.3em;box-sizing: border-box;text-align: center;}#sk-container-id-2 label.sk-toggleable__label-arrow:before {content: \"▸\";float: left;margin-right: 0.25em;color: #696969;}#sk-container-id-2 label.sk-toggleable__label-arrow:hover:before {color: black;}#sk-container-id-2 div.sk-estimator:hover label.sk-toggleable__label-arrow:before {color: black;}#sk-container-id-2 div.sk-toggleable__content {max-height: 0;max-width: 0;overflow: hidden;text-align: left;background-color: #f0f8ff;}#sk-container-id-2 div.sk-toggleable__content pre {margin: 0.2em;color: black;border-radius: 0.25em;background-color: #f0f8ff;}#sk-container-id-2 input.sk-toggleable__control:checked~div.sk-toggleable__content {max-height: 200px;max-width: 100%;overflow: auto;}#sk-container-id-2 input.sk-toggleable__control:checked~label.sk-toggleable__label-arrow:before {content: \"▾\";}#sk-container-id-2 div.sk-estimator input.sk-toggleable__control:checked~label.sk-toggleable__label {background-color: #d4ebff;}#sk-container-id-2 div.sk-label input.sk-toggleable__control:checked~label.sk-toggleable__label {background-color: #d4ebff;}#sk-container-id-2 input.sk-hidden--visually {border: 0;clip: rect(1px 1px 1px 1px);clip: rect(1px, 1px, 1px, 1px);height: 1px;margin: -1px;overflow: hidden;padding: 0;position: absolute;width: 1px;}#sk-container-id-2 div.sk-estimator {font-family: monospace;background-color: #f0f8ff;border: 1px dotted black;border-radius: 0.25em;box-sizing: border-box;margin-bottom: 0.5em;}#sk-container-id-2 div.sk-estimator:hover {background-color: #d4ebff;}#sk-container-id-2 div.sk-parallel-item::after {content: \"\";width: 100%;border-bottom: 1px solid gray;flex-grow: 1;}#sk-container-id-2 div.sk-label:hover label.sk-toggleable__label {background-color: #d4ebff;}#sk-container-id-2 div.sk-serial::before {content: \"\";position: absolute;border-left: 1px solid gray;box-sizing: border-box;top: 0;bottom: 0;left: 50%;z-index: 0;}#sk-container-id-2 div.sk-serial {display: flex;flex-direction: column;align-items: center;background-color: white;padding-right: 0.2em;padding-left: 0.2em;position: relative;}#sk-container-id-2 div.sk-item {position: relative;z-index: 1;}#sk-container-id-2 div.sk-parallel {display: flex;align-items: stretch;justify-content: center;background-color: white;position: relative;}#sk-container-id-2 div.sk-item::before, #sk-container-id-2 div.sk-parallel-item::before {content: \"\";position: absolute;border-left: 1px solid gray;box-sizing: border-box;top: 0;bottom: 0;left: 50%;z-index: -1;}#sk-container-id-2 div.sk-parallel-item {display: flex;flex-direction: column;z-index: 1;position: relative;background-color: white;}#sk-container-id-2 div.sk-parallel-item:first-child::after {align-self: flex-end;width: 50%;}#sk-container-id-2 div.sk-parallel-item:last-child::after {align-self: flex-start;width: 50%;}#sk-container-id-2 div.sk-parallel-item:only-child::after {width: 0;}#sk-container-id-2 div.sk-dashed-wrapped {border: 1px dashed gray;margin: 0 0.4em 0.5em 0.4em;box-sizing: border-box;padding-bottom: 0.4em;background-color: white;}#sk-container-id-2 div.sk-label label {font-family: monospace;font-weight: bold;display: inline-block;line-height: 1.2em;}#sk-container-id-2 div.sk-label-container {text-align: center;}#sk-container-id-2 div.sk-container {/* jupyter's `normalize.less` sets `[hidden] { display: none; }` but bootstrap.min.css set `[hidden] { display: none !important; }` so we also need the `!important` here to be able to override the default hidden behavior on the sphinx rendered scikit-learn.org. See: https://github.com/scikit-learn/scikit-learn/issues/21755 */display: inline-block !important;position: relative;}#sk-container-id-2 div.sk-text-repr-fallback {display: none;}</style><div id=\"sk-container-id-2\" class=\"sk-top-container\"><div class=\"sk-text-repr-fallback\"><pre>Pipeline(steps=[(&#x27;simpleimputer&#x27;, SimpleImputer(strategy=&#x27;most_frequent&#x27;)),\n",
       "                (&#x27;standardscaler&#x27;, StandardScaler()),\n",
       "                (&#x27;baggingclassifier&#x27;,\n",
       "                 BaggingClassifier(estimator=KNeighborsClassifier(n_neighbors=3),\n",
       "                                   random_state=42))])</pre><b>In a Jupyter environment, please rerun this cell to show the HTML representation or trust the notebook. <br />On GitHub, the HTML representation is unable to render, please try loading this page with nbviewer.org.</b></div><div class=\"sk-container\" hidden><div class=\"sk-item sk-dashed-wrapped\"><div class=\"sk-label-container\"><div class=\"sk-label sk-toggleable\"><input class=\"sk-toggleable__control sk-hidden--visually\" id=\"sk-estimator-id-7\" type=\"checkbox\" ><label for=\"sk-estimator-id-7\" class=\"sk-toggleable__label sk-toggleable__label-arrow\">Pipeline</label><div class=\"sk-toggleable__content\"><pre>Pipeline(steps=[(&#x27;simpleimputer&#x27;, SimpleImputer(strategy=&#x27;most_frequent&#x27;)),\n",
       "                (&#x27;standardscaler&#x27;, StandardScaler()),\n",
       "                (&#x27;baggingclassifier&#x27;,\n",
       "                 BaggingClassifier(estimator=KNeighborsClassifier(n_neighbors=3),\n",
       "                                   random_state=42))])</pre></div></div></div><div class=\"sk-serial\"><div class=\"sk-item\"><div class=\"sk-estimator sk-toggleable\"><input class=\"sk-toggleable__control sk-hidden--visually\" id=\"sk-estimator-id-8\" type=\"checkbox\" ><label for=\"sk-estimator-id-8\" class=\"sk-toggleable__label sk-toggleable__label-arrow\">SimpleImputer</label><div class=\"sk-toggleable__content\"><pre>SimpleImputer(strategy=&#x27;most_frequent&#x27;)</pre></div></div></div><div class=\"sk-item\"><div class=\"sk-estimator sk-toggleable\"><input class=\"sk-toggleable__control sk-hidden--visually\" id=\"sk-estimator-id-9\" type=\"checkbox\" ><label for=\"sk-estimator-id-9\" class=\"sk-toggleable__label sk-toggleable__label-arrow\">StandardScaler</label><div class=\"sk-toggleable__content\"><pre>StandardScaler()</pre></div></div></div><div class=\"sk-item sk-dashed-wrapped\"><div class=\"sk-label-container\"><div class=\"sk-label sk-toggleable\"><input class=\"sk-toggleable__control sk-hidden--visually\" id=\"sk-estimator-id-10\" type=\"checkbox\" ><label for=\"sk-estimator-id-10\" class=\"sk-toggleable__label sk-toggleable__label-arrow\">baggingclassifier: BaggingClassifier</label><div class=\"sk-toggleable__content\"><pre>BaggingClassifier(estimator=KNeighborsClassifier(n_neighbors=3),\n",
       "                  random_state=42)</pre></div></div></div><div class=\"sk-parallel\"><div class=\"sk-parallel-item\"><div class=\"sk-item\"><div class=\"sk-label-container\"><div class=\"sk-label sk-toggleable\"><input class=\"sk-toggleable__control sk-hidden--visually\" id=\"sk-estimator-id-11\" type=\"checkbox\" ><label for=\"sk-estimator-id-11\" class=\"sk-toggleable__label sk-toggleable__label-arrow\">estimator: KNeighborsClassifier</label><div class=\"sk-toggleable__content\"><pre>KNeighborsClassifier(n_neighbors=3)</pre></div></div></div><div class=\"sk-serial\"><div class=\"sk-item\"><div class=\"sk-estimator sk-toggleable\"><input class=\"sk-toggleable__control sk-hidden--visually\" id=\"sk-estimator-id-12\" type=\"checkbox\" ><label for=\"sk-estimator-id-12\" class=\"sk-toggleable__label sk-toggleable__label-arrow\">KNeighborsClassifier</label><div class=\"sk-toggleable__content\"><pre>KNeighborsClassifier(n_neighbors=3)</pre></div></div></div></div></div></div></div></div></div></div></div></div>"
      ],
      "text/plain": [
       "Pipeline(steps=[('simpleimputer', SimpleImputer(strategy='most_frequent')),\n",
       "                ('standardscaler', StandardScaler()),\n",
       "                ('baggingclassifier',\n",
       "                 BaggingClassifier(estimator=KNeighborsClassifier(n_neighbors=3),\n",
       "                                   random_state=42))])"
      ]
     },
     "execution_count": 69,
     "metadata": {},
     "output_type": "execute_result"
    }
   ],
   "source": [
    "# KNNClassifierModel = KNeighborsClassifier(n_neighbors=4, weights='uniform', algorithm='auto',p=2)\n",
    "# KNNClassifierModel.fit(X_train_imputed, y_train)\n",
    "pipeline.fit(X_train, y_train)\n"
   ]
  },
  {
   "cell_type": "code",
   "execution_count": null,
   "metadata": {},
   "outputs": [],
   "source": []
  },
  {
   "cell_type": "code",
   "execution_count": 70,
   "metadata": {},
   "outputs": [
    {
     "name": "stdout",
     "output_type": "stream",
     "text": [
      "KNeighborsClassifier Train Score is :  0.8987341772151899\n",
      "KNeighborsClassifier Test Score is :  0.8888888888888888\n"
     ]
    }
   ],
   "source": [
    "print('KNeighborsClassifier Train Score is : ', pipeline.score(X_train, y_train))\n",
    "print('KNeighborsClassifier Test Score is : ', pipeline.score(X_test, y_test))\n"
   ]
  },
  {
   "cell_type": "code",
   "execution_count": 71,
   "metadata": {},
   "outputs": [],
   "source": [
    "def predict_category(s, model=pipeline):\n",
    "    num_features = np.array(s).reshape(1, -1)\n",
    "    # arr = np.hstack([num_features])\n",
    "    pred = model.predict(num_features)\n",
    "    if pred[0] == 0:\n",
    "        return 'Not Glaucoma'\n",
    "    else:\n",
    "        return 'Glaucoma'"
   ]
  },
  {
   "cell_type": "code",
   "execution_count": 72,
   "metadata": {},
   "outputs": [
    {
     "name": "stderr",
     "output_type": "stream",
     "text": [
      "g:\\python installation\\python 10\\lib\\site-packages\\sklearn\\base.py:465: UserWarning: X does not have valid feature names, but SimpleImputer was fitted with feature names\n",
      "  warnings.warn(\n"
     ]
    },
    {
     "data": {
      "text/plain": [
       "'Glaucoma'"
      ]
     },
     "execution_count": 72,
     "metadata": {},
     "output_type": "execute_result"
    }
   ],
   "source": [
    "predict_category([[0.5],[0.5],[15.0],[0],[0],[1]])"
   ]
  },
  {
   "cell_type": "code",
   "execution_count": 73,
   "metadata": {},
   "outputs": [
    {
     "name": "stdout",
     "output_type": "stream",
     "text": [
      "Predicted Value for KNeighborsClassifier is :  [0 0 1 0 1 1 1 1 0]\n",
      "Mean Absolute Error Value is :  0.1111111111111111\n",
      "Mean Squared Error Value is :  0.1111111111111111\n",
      "Median Squared Error Value is :  0.0\n",
      "Predicted Value for KNNClassifierModel is :  [0 0 1 0 1 1 1 1 0]\n",
      "Prediction Probabilities Value for KNNClassifierModel is :  [[1.         0.        ]\n",
      " [0.83333333 0.16666667]\n",
      " [0.13333333 0.86666667]\n",
      " [0.56666667 0.43333333]\n",
      " [0.03333333 0.96666667]\n",
      " [0.06666667 0.93333333]\n",
      " [0.2        0.8       ]\n",
      " [0.06666667 0.93333333]\n",
      " [0.96666667 0.03333333]]\n"
     ]
    }
   ],
   "source": [
    "y_pred = pipeline.predict(X_test)\n",
    "print('Predicted Value for KNeighborsClassifier is : ', y_pred[:10])\n",
    "\n",
    "y_pred_prob = pipeline.predict_proba(X_test)\n",
    "\n",
    "\n",
    "# Calculating mean absolute error\n",
    "MAEValue = mean_absolute_error(y_test, y_pred, multioutput='uniform_average')\n",
    "print('Mean Absolute Error Value is : ', MAEValue)\n",
    "\n",
    "# Calculating mean squared error\n",
    "MSEValue = mean_squared_error(y_test, y_pred, multioutput='uniform_average')\n",
    "print('Mean Squared Error Value is : ', MSEValue)\n",
    "\n",
    "# Calculating median squared error\n",
    "MdSEValue = median_absolute_error(y_test, y_pred)\n",
    "print('Median Squared Error Value is : ', MdSEValue)\n",
    "\n",
    "print('Predicted Value for KNNClassifierModel is : ' , y_pred[:10])\n",
    "print('Prediction Probabilities Value for KNNClassifierModel is : ' , y_pred_prob[:10])"
   ]
  },
  {
   "cell_type": "code",
   "execution_count": 74,
   "metadata": {},
   "outputs": [
    {
     "name": "stdout",
     "output_type": "stream",
     "text": [
      "Classification Report:\n",
      "              precision    recall  f1-score   support\n",
      "\n",
      "           0       0.75      1.00      0.86         3\n",
      "           1       1.00      0.83      0.91         6\n",
      "\n",
      "    accuracy                           0.89         9\n",
      "   macro avg       0.88      0.92      0.88         9\n",
      "weighted avg       0.92      0.89      0.89         9\n",
      "\n",
      "Confusion Matrix:\n",
      "[[3 0]\n",
      " [1 5]]\n"
     ]
    }
   ],
   "source": [
    "from sklearn.metrics import classification_report, confusion_matrix\n",
    "\n",
    "print('Classification Report:')\n",
    "print(classification_report(y_test, y_pred))\n",
    "\n",
    "print('Confusion Matrix:')\n",
    "print(confusion_matrix(y_test, y_pred))"
   ]
  },
  {
   "cell_type": "code",
   "execution_count": 75,
   "metadata": {},
   "outputs": [
    {
     "data": {
      "image/png": "[encoded data removed]",
      "text/plain": [
       "<Figure size 800x600 with 2 Axes>"
      ]
     },
     "metadata": {},
     "output_type": "display_data"
    },
    {
     "data": {
      "image/png": "[encoded data removed]",
      "text/plain": [
       "<Figure size 800x600 with 2 Axes>"
      ]
     },
     "metadata": {},
     "output_type": "display_data"
    }
   ],
   "source": [
    "# Calculate confusion matrix for train and test sets\n",
    "train_predictions = pipeline.predict(X_train)\n",
    "test_predictions = pipeline.predict(X_test)\n",
    "\n",
    "train_cm = confusion_matrix(y_train, train_predictions)\n",
    "test_cm = confusion_matrix(y_test, test_predictions)\n",
    "\n",
    "# Plot confusion matrix for train set\n",
    "plt.figure(figsize=(8, 6))\n",
    "sns.heatmap(train_cm, annot=True, cmap='Blues', fmt='g', xticklabels=['Predicted 0', 'Predicted 1'], yticklabels=['Actual 0', 'Actual 1'])\n",
    "plt.title('Confusion Matrix - Train Set')\n",
    "plt.xlabel('Predicted Label')\n",
    "plt.ylabel('True Label')\n",
    "plt.show()\n",
    "\n",
    "# Plot confusion matrix for test set\n",
    "plt.figure(figsize=(8, 6))\n",
    "sns.heatmap(test_cm, annot=True, cmap='Blues', fmt='g', xticklabels=['Predicted 0', 'Predicted 1'], yticklabels=['Actual 0', 'Actual 1'])\n",
    "plt.title('Confusion Matrix - Test Set')\n",
    "plt.xlabel('Predicted Label')\n",
    "plt.ylabel('True Label')\n",
    "plt.show()\n"
   ]
  },
  {
   "cell_type": "code",
   "execution_count": 76,
   "metadata": {},
   "outputs": [
    {
     "data": {
      "image/png": "[encoded data removed]",
      "text/plain": [
       "<Figure size 1000x600 with 1 Axes>"
      ]
     },
     "metadata": {},
     "output_type": "display_data"
    }
   ],
   "source": [
    "# Define function to plot learning curves\n",
    "def plot_learning_curve(estimator, X, y, title):\n",
    "    train_sizes, train_scores, test_scores = learning_curve(estimator, X, y, cv=5, train_sizes=np.linspace(0.1, 1.0, 10), scoring='accuracy')\n",
    "    \n",
    "    train_scores_mean = np.mean(train_scores, axis=1)\n",
    "    train_scores_std = np.std(train_scores, axis=1)\n",
    "    test_scores_mean = np.mean(test_scores, axis=1)\n",
    "    test_scores_std = np.std(test_scores, axis=1)\n",
    "    \n",
    "    plt.figure(figsize=(10, 6))\n",
    "    plt.title(title)\n",
    "    plt.xlabel(\"Training examples\")\n",
    "    plt.ylabel(\"Score\")\n",
    "    plt.grid()\n",
    "    \n",
    "    plt.fill_between(train_sizes, train_scores_mean - train_scores_std, train_scores_mean + train_scores_std, alpha=0.1, color=\"r\")\n",
    "    plt.fill_between(train_sizes, test_scores_mean - test_scores_std, test_scores_mean + test_scores_std, alpha=0.1, color=\"g\")\n",
    "    \n",
    "    plt.plot(train_sizes, train_scores_mean, 'o-', color=\"r\", label=\"Training score\")\n",
    "    plt.plot(train_sizes, test_scores_mean, 'o-', color=\"g\", label=\"Cross-validation score\")\n",
    "    \n",
    "    plt.legend(loc=\"best\")\n",
    "    return plt\n",
    "\n",
    "# Plot learning curves for the model\n",
    "plot_learning_curve(pipeline, X_data, y_data, \"Learning Curves (KNeighborsClassifier)\")\n",
    "plt.show()\n"
   ]
  },
  {
   "cell_type": "code",
   "execution_count": null,
   "metadata": {},
   "outputs": [],
   "source": []
  }
 ],
 "metadata": {
  "kernelspec": {
   "display_name": "Python 3",
   "language": "python",
   "name": "python3"
  },
  "language_info": {
   "codemirror_mode": {
    "name": "ipython",
    "version": 3
   },
   "file_extension": ".py",
   "mimetype": "text/x-python",
   "name": "python",
   "nbconvert_exporter": "python",
   "pygments_lexer": "ipython3",
   "version": "3.10.5"
  }
 },
 "nbformat": 4,
 "nbformat_minor": 2
}
