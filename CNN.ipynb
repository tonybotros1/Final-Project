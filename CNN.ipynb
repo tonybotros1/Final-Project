{
 "cells": [
  {
   "cell_type": "code",
   "execution_count": 5,
   "metadata": {},
   "outputs": [],
   "source": [
    "import pandas as pd\n",
    "import numpy as np\n",
    "import matplotlib.pyplot as plt\n",
    "from sklearn.model_selection import train_test_split\n",
    "from sklearn.impute import SimpleImputer\n",
    "from sklearn.preprocessing import StandardScaler\n",
    "from sklearn.metrics import classification_report, confusion_matrix\n",
    "from tensorflow.keras.models import Sequential # type: ignore\n",
    "from tensorflow.keras.layers import Conv2D, MaxPooling2D, Flatten, Dense, Dropout ,BatchNormalization# type: ignore\n",
    "from keras.optimizers import Adam\n",
    "import cv2 as cv\n",
    "from keras.utils import to_categorical\n",
    "\n",
    "from PIL import Image"
   ]
  },
  {
   "cell_type": "code",
   "execution_count": 6,
   "metadata": {},
   "outputs": [],
   "source": [
    "# Load the data\n",
    "split_df = pd.read_csv('split_df.csv', encoding='utf-8-sig')\n"
   ]
  },
  {
   "cell_type": "code",
   "execution_count": 7,
   "metadata": {},
   "outputs": [
    {
     "data": {
      "text/html": [
       "<div>\n",
       "<style scoped>\n",
       "    .dataframe tbody tr th:only-of-type {\n",
       "        vertical-align: middle;\n",
       "    }\n",
       "\n",
       "    .dataframe tbody tr th {\n",
       "        vertical-align: top;\n",
       "    }\n",
       "\n",
       "    .dataframe thead th {\n",
       "        text-align: right;\n",
       "    }\n",
       "</style>\n",
       "<table border=\"1\" class=\"dataframe\">\n",
       "  <thead>\n",
       "    <tr style=\"text-align: right;\">\n",
       "      <th></th>\n",
       "      <th>Table 1</th>\n",
       "      <th>Spectacles</th>\n",
       "      <th>Age</th>\n",
       "      <th>Gender</th>\n",
       "      <th>Name</th>\n",
       "      <th>id</th>\n",
       "      <th>Eye</th>\n",
       "      <th>VA</th>\n",
       "      <th>CDR</th>\n",
       "      <th>Diagnosis</th>\n",
       "      <th>IOP</th>\n",
       "      <th>Image</th>\n",
       "    </tr>\n",
       "  </thead>\n",
       "  <tbody>\n",
       "    <tr>\n",
       "      <th>0</th>\n",
       "      <td>زرق أيمن تم معالجته جراحيا</td>\n",
       "      <td>0.0</td>\n",
       "      <td>64</td>\n",
       "      <td>0</td>\n",
       "      <td>شاهين ميرو</td>\n",
       "      <td>1.0</td>\n",
       "      <td>0</td>\n",
       "      <td>0.6</td>\n",
       "      <td>0.5</td>\n",
       "      <td>0</td>\n",
       "      <td>14.0</td>\n",
       "      <td>Data/SHAHEN_MERO Optic nerve.png_ left.png</td>\n",
       "    </tr>\n",
       "    <tr>\n",
       "      <th>1</th>\n",
       "      <td>زرق أيمن تم معالجته جراحيا</td>\n",
       "      <td>0.0</td>\n",
       "      <td>64</td>\n",
       "      <td>0</td>\n",
       "      <td>شاهين ميرو</td>\n",
       "      <td>1.0</td>\n",
       "      <td>1</td>\n",
       "      <td>0.7</td>\n",
       "      <td>0.9</td>\n",
       "      <td>1</td>\n",
       "      <td>23.0</td>\n",
       "      <td>Data/SHAHEN_MERO Optic nerve.png_ left.png</td>\n",
       "    </tr>\n",
       "    <tr>\n",
       "      <th>2</th>\n",
       "      <td>زرق متقدم</td>\n",
       "      <td>1.0</td>\n",
       "      <td>62</td>\n",
       "      <td>0</td>\n",
       "      <td>أيمن سمارة</td>\n",
       "      <td>2.0</td>\n",
       "      <td>0</td>\n",
       "      <td>NaN</td>\n",
       "      <td>NaN</td>\n",
       "      <td>1</td>\n",
       "      <td>25.0</td>\n",
       "      <td>Data/SHAHEN_MERO Optic nerve.png_ right.png</td>\n",
       "    </tr>\n",
       "    <tr>\n",
       "      <th>3</th>\n",
       "      <td>زرق متقدم</td>\n",
       "      <td>1.0</td>\n",
       "      <td>62</td>\n",
       "      <td>0</td>\n",
       "      <td>أيمن سمارة</td>\n",
       "      <td>2.0</td>\n",
       "      <td>1</td>\n",
       "      <td>9.0</td>\n",
       "      <td>0.8</td>\n",
       "      <td>1</td>\n",
       "      <td>40.0</td>\n",
       "      <td>Data/SHAHEN_MERO Optic nerve.png_ right.png</td>\n",
       "    </tr>\n",
       "    <tr>\n",
       "      <th>4</th>\n",
       "      <td>لا يوجد زرق</td>\n",
       "      <td>0.0</td>\n",
       "      <td>48</td>\n",
       "      <td>1</td>\n",
       "      <td>رندة ناصر</td>\n",
       "      <td>3.0</td>\n",
       "      <td>0</td>\n",
       "      <td>1.0</td>\n",
       "      <td>0.5</td>\n",
       "      <td>0</td>\n",
       "      <td>15.0</td>\n",
       "      <td>NaN</td>\n",
       "    </tr>\n",
       "    <tr>\n",
       "      <th>...</th>\n",
       "      <td>...</td>\n",
       "      <td>...</td>\n",
       "      <td>...</td>\n",
       "      <td>...</td>\n",
       "      <td>...</td>\n",
       "      <td>...</td>\n",
       "      <td>...</td>\n",
       "      <td>...</td>\n",
       "      <td>...</td>\n",
       "      <td>...</td>\n",
       "      <td>...</td>\n",
       "      <td>...</td>\n",
       "    </tr>\n",
       "    <tr>\n",
       "      <th>85</th>\n",
       "      <td>زرق أيسر تم معالجته جراحيا</td>\n",
       "      <td>1.0</td>\n",
       "      <td>55</td>\n",
       "      <td>1</td>\n",
       "      <td>زريفة المحمد</td>\n",
       "      <td>43.0</td>\n",
       "      <td>1</td>\n",
       "      <td>NaN</td>\n",
       "      <td>NaN</td>\n",
       "      <td>0</td>\n",
       "      <td>NaN</td>\n",
       "      <td>Data/BASEL_BASH Optic nerve.png_ left.png</td>\n",
       "    </tr>\n",
       "    <tr>\n",
       "      <th>86</th>\n",
       "      <td>مريض زرقي ثانوي بعد استخراج ساد لا يوجد اصابة ...</td>\n",
       "      <td>0.0</td>\n",
       "      <td>71</td>\n",
       "      <td>0</td>\n",
       "      <td>هيثم قزاز</td>\n",
       "      <td>44.0</td>\n",
       "      <td>0</td>\n",
       "      <td>0.3</td>\n",
       "      <td>0.5</td>\n",
       "      <td>1</td>\n",
       "      <td>15.0</td>\n",
       "      <td>Data/BASEL_BASH Optic nerve.png_ right.png</td>\n",
       "    </tr>\n",
       "    <tr>\n",
       "      <th>87</th>\n",
       "      <td>مريض زرقي ثانوي بعد استخراج ساد لا يوجد اصابة ...</td>\n",
       "      <td>0.0</td>\n",
       "      <td>71</td>\n",
       "      <td>0</td>\n",
       "      <td>هيثم قزاز</td>\n",
       "      <td>44.0</td>\n",
       "      <td>1</td>\n",
       "      <td>0.6</td>\n",
       "      <td>0.7</td>\n",
       "      <td>1</td>\n",
       "      <td>16.0</td>\n",
       "      <td>Data/BASEL_BASH Optic nerve.png_ right.png</td>\n",
       "    </tr>\n",
       "    <tr>\n",
       "      <th>88</th>\n",
       "      <td>لا يوجد زرق</td>\n",
       "      <td>1.0</td>\n",
       "      <td>65</td>\n",
       "      <td>0</td>\n",
       "      <td>حمود غشام</td>\n",
       "      <td>45.0</td>\n",
       "      <td>0</td>\n",
       "      <td>0.5</td>\n",
       "      <td>0.3</td>\n",
       "      <td>0</td>\n",
       "      <td>15.0</td>\n",
       "      <td>Data/NEZAR_HELOU Optic nerve.png_ left.png</td>\n",
       "    </tr>\n",
       "    <tr>\n",
       "      <th>89</th>\n",
       "      <td>لا يوجد زرق</td>\n",
       "      <td>1.0</td>\n",
       "      <td>65</td>\n",
       "      <td>0</td>\n",
       "      <td>حمود غشام</td>\n",
       "      <td>45.0</td>\n",
       "      <td>1</td>\n",
       "      <td>0.2</td>\n",
       "      <td>0.3</td>\n",
       "      <td>0</td>\n",
       "      <td>12.0</td>\n",
       "      <td>Data/NEZAR_HELOU Optic nerve.png_ left.png</td>\n",
       "    </tr>\n",
       "  </tbody>\n",
       "</table>\n",
       "<p>90 rows × 12 columns</p>\n",
       "</div>"
      ],
      "text/plain": [
       "                                              Table 1  Spectacles  Age  \\\n",
       "0                          زرق أيمن تم معالجته جراحيا         0.0   64   \n",
       "1                          زرق أيمن تم معالجته جراحيا         0.0   64   \n",
       "2                                           زرق متقدم         1.0   62   \n",
       "3                                           زرق متقدم         1.0   62   \n",
       "4                                         لا يوجد زرق         0.0   48   \n",
       "..                                                ...         ...  ...   \n",
       "85                         زرق أيسر تم معالجته جراحيا         1.0   55   \n",
       "86  مريض زرقي ثانوي بعد استخراج ساد لا يوجد اصابة ...         0.0   71   \n",
       "87  مريض زرقي ثانوي بعد استخراج ساد لا يوجد اصابة ...         0.0   71   \n",
       "88                                        لا يوجد زرق         1.0   65   \n",
       "89                                        لا يوجد زرق         1.0   65   \n",
       "\n",
       "    Gender          Name    id  Eye   VA  CDR  Diagnosis   IOP  \\\n",
       "0        0    شاهين ميرو   1.0    0  0.6  0.5          0  14.0   \n",
       "1        0    شاهين ميرو   1.0    1  0.7  0.9          1  23.0   \n",
       "2        0    أيمن سمارة   2.0    0  NaN  NaN          1  25.0   \n",
       "3        0    أيمن سمارة   2.0    1  9.0  0.8          1  40.0   \n",
       "4        1     رندة ناصر   3.0    0  1.0  0.5          0  15.0   \n",
       "..     ...           ...   ...  ...  ...  ...        ...   ...   \n",
       "85       1  زريفة المحمد  43.0    1  NaN  NaN          0   NaN   \n",
       "86       0     هيثم قزاز  44.0    0  0.3  0.5          1  15.0   \n",
       "87       0     هيثم قزاز  44.0    1  0.6  0.7          1  16.0   \n",
       "88       0     حمود غشام  45.0    0  0.5  0.3          0  15.0   \n",
       "89       0     حمود غشام  45.0    1  0.2  0.3          0  12.0   \n",
       "\n",
       "                                          Image  \n",
       "0    Data/SHAHEN_MERO Optic nerve.png_ left.png  \n",
       "1    Data/SHAHEN_MERO Optic nerve.png_ left.png  \n",
       "2   Data/SHAHEN_MERO Optic nerve.png_ right.png  \n",
       "3   Data/SHAHEN_MERO Optic nerve.png_ right.png  \n",
       "4                                           NaN  \n",
       "..                                          ...  \n",
       "85    Data/BASEL_BASH Optic nerve.png_ left.png  \n",
       "86   Data/BASEL_BASH Optic nerve.png_ right.png  \n",
       "87   Data/BASEL_BASH Optic nerve.png_ right.png  \n",
       "88   Data/NEZAR_HELOU Optic nerve.png_ left.png  \n",
       "89   Data/NEZAR_HELOU Optic nerve.png_ left.png  \n",
       "\n",
       "[90 rows x 12 columns]"
      ]
     },
     "execution_count": 7,
     "metadata": {},
     "output_type": "execute_result"
    }
   ],
   "source": [
    "split_df"
   ]
  },
  {
   "cell_type": "code",
   "execution_count": 8,
   "metadata": {},
   "outputs": [],
   "source": [
    "split_df = split_df.drop(['Table 1', 'Gender', 'id', 'Age', 'Spectacles'], axis=1)"
   ]
  },
  {
   "cell_type": "code",
   "execution_count": 9,
   "metadata": {},
   "outputs": [
    {
     "data": {
      "text/plain": [
       "4"
      ]
     },
     "execution_count": 9,
     "metadata": {},
     "output_type": "execute_result"
    }
   ],
   "source": [
    "split_df['Image'].isnull().sum()"
   ]
  },
  {
   "cell_type": "code",
   "execution_count": 10,
   "metadata": {},
   "outputs": [
    {
     "data": {
      "text/html": [
       "<div>\n",
       "<style scoped>\n",
       "    .dataframe tbody tr th:only-of-type {\n",
       "        vertical-align: middle;\n",
       "    }\n",
       "\n",
       "    .dataframe tbody tr th {\n",
       "        vertical-align: top;\n",
       "    }\n",
       "\n",
       "    .dataframe thead th {\n",
       "        text-align: right;\n",
       "    }\n",
       "</style>\n",
       "<table border=\"1\" class=\"dataframe\">\n",
       "  <thead>\n",
       "    <tr style=\"text-align: right;\">\n",
       "      <th></th>\n",
       "      <th>Name</th>\n",
       "      <th>Eye</th>\n",
       "      <th>VA</th>\n",
       "      <th>CDR</th>\n",
       "      <th>Diagnosis</th>\n",
       "      <th>IOP</th>\n",
       "      <th>Image</th>\n",
       "    </tr>\n",
       "  </thead>\n",
       "  <tbody>\n",
       "    <tr>\n",
       "      <th>4</th>\n",
       "      <td>رندة ناصر</td>\n",
       "      <td>0</td>\n",
       "      <td>1.0</td>\n",
       "      <td>0.5</td>\n",
       "      <td>0</td>\n",
       "      <td>15.0</td>\n",
       "      <td>NaN</td>\n",
       "    </tr>\n",
       "    <tr>\n",
       "      <th>5</th>\n",
       "      <td>رندة ناصر</td>\n",
       "      <td>1</td>\n",
       "      <td>1.0</td>\n",
       "      <td>0.4</td>\n",
       "      <td>0</td>\n",
       "      <td>14.0</td>\n",
       "      <td>NaN</td>\n",
       "    </tr>\n",
       "    <tr>\n",
       "      <th>18</th>\n",
       "      <td>خديجة كبة</td>\n",
       "      <td>0</td>\n",
       "      <td>0.5</td>\n",
       "      <td>0.3</td>\n",
       "      <td>1</td>\n",
       "      <td>36.0</td>\n",
       "      <td>NaN</td>\n",
       "    </tr>\n",
       "    <tr>\n",
       "      <th>19</th>\n",
       "      <td>خديجة كبة</td>\n",
       "      <td>1</td>\n",
       "      <td>0.7</td>\n",
       "      <td>0.3</td>\n",
       "      <td>0</td>\n",
       "      <td>17.0</td>\n",
       "      <td>NaN</td>\n",
       "    </tr>\n",
       "  </tbody>\n",
       "</table>\n",
       "</div>"
      ],
      "text/plain": [
       "         Name  Eye   VA  CDR  Diagnosis   IOP Image\n",
       "4   رندة ناصر    0  1.0  0.5          0  15.0   NaN\n",
       "5   رندة ناصر    1  1.0  0.4          0  14.0   NaN\n",
       "18  خديجة كبة    0  0.5  0.3          1  36.0   NaN\n",
       "19  خديجة كبة    1  0.7  0.3          0  17.0   NaN"
      ]
     },
     "execution_count": 10,
     "metadata": {},
     "output_type": "execute_result"
    }
   ],
   "source": [
    "# split_df['Image']\n",
    "split_df[split_df['Image'].isnull()]"
   ]
  },
  {
   "cell_type": "code",
   "execution_count": 11,
   "metadata": {},
   "outputs": [],
   "source": [
    "split_df = split_df.drop(['Name','Eye','VA','CDR','IOP'], axis=1)"
   ]
  },
  {
   "cell_type": "code",
   "execution_count": 12,
   "metadata": {},
   "outputs": [],
   "source": [
    "# split_df.dropna(inplace=True)"
   ]
  },
  {
   "cell_type": "code",
   "execution_count": 13,
   "metadata": {},
   "outputs": [
    {
     "data": {
      "text/html": [
       "<div>\n",
       "<style scoped>\n",
       "    .dataframe tbody tr th:only-of-type {\n",
       "        vertical-align: middle;\n",
       "    }\n",
       "\n",
       "    .dataframe tbody tr th {\n",
       "        vertical-align: top;\n",
       "    }\n",
       "\n",
       "    .dataframe thead th {\n",
       "        text-align: right;\n",
       "    }\n",
       "</style>\n",
       "<table border=\"1\" class=\"dataframe\">\n",
       "  <thead>\n",
       "    <tr style=\"text-align: right;\">\n",
       "      <th></th>\n",
       "      <th>Diagnosis</th>\n",
       "      <th>Image</th>\n",
       "    </tr>\n",
       "  </thead>\n",
       "  <tbody>\n",
       "    <tr>\n",
       "      <th>0</th>\n",
       "      <td>0</td>\n",
       "      <td>Data/SHAHEN_MERO Optic nerve.png_ left.png</td>\n",
       "    </tr>\n",
       "    <tr>\n",
       "      <th>1</th>\n",
       "      <td>1</td>\n",
       "      <td>Data/SHAHEN_MERO Optic nerve.png_ left.png</td>\n",
       "    </tr>\n",
       "    <tr>\n",
       "      <th>2</th>\n",
       "      <td>1</td>\n",
       "      <td>Data/SHAHEN_MERO Optic nerve.png_ right.png</td>\n",
       "    </tr>\n",
       "    <tr>\n",
       "      <th>3</th>\n",
       "      <td>1</td>\n",
       "      <td>Data/SHAHEN_MERO Optic nerve.png_ right.png</td>\n",
       "    </tr>\n",
       "    <tr>\n",
       "      <th>4</th>\n",
       "      <td>0</td>\n",
       "      <td>NaN</td>\n",
       "    </tr>\n",
       "    <tr>\n",
       "      <th>...</th>\n",
       "      <td>...</td>\n",
       "      <td>...</td>\n",
       "    </tr>\n",
       "    <tr>\n",
       "      <th>85</th>\n",
       "      <td>0</td>\n",
       "      <td>Data/BASEL_BASH Optic nerve.png_ left.png</td>\n",
       "    </tr>\n",
       "    <tr>\n",
       "      <th>86</th>\n",
       "      <td>1</td>\n",
       "      <td>Data/BASEL_BASH Optic nerve.png_ right.png</td>\n",
       "    </tr>\n",
       "    <tr>\n",
       "      <th>87</th>\n",
       "      <td>1</td>\n",
       "      <td>Data/BASEL_BASH Optic nerve.png_ right.png</td>\n",
       "    </tr>\n",
       "    <tr>\n",
       "      <th>88</th>\n",
       "      <td>0</td>\n",
       "      <td>Data/NEZAR_HELOU Optic nerve.png_ left.png</td>\n",
       "    </tr>\n",
       "    <tr>\n",
       "      <th>89</th>\n",
       "      <td>0</td>\n",
       "      <td>Data/NEZAR_HELOU Optic nerve.png_ left.png</td>\n",
       "    </tr>\n",
       "  </tbody>\n",
       "</table>\n",
       "<p>90 rows × 2 columns</p>\n",
       "</div>"
      ],
      "text/plain": [
       "    Diagnosis                                        Image\n",
       "0           0   Data/SHAHEN_MERO Optic nerve.png_ left.png\n",
       "1           1   Data/SHAHEN_MERO Optic nerve.png_ left.png\n",
       "2           1  Data/SHAHEN_MERO Optic nerve.png_ right.png\n",
       "3           1  Data/SHAHEN_MERO Optic nerve.png_ right.png\n",
       "4           0                                          NaN\n",
       "..        ...                                          ...\n",
       "85          0    Data/BASEL_BASH Optic nerve.png_ left.png\n",
       "86          1   Data/BASEL_BASH Optic nerve.png_ right.png\n",
       "87          1   Data/BASEL_BASH Optic nerve.png_ right.png\n",
       "88          0   Data/NEZAR_HELOU Optic nerve.png_ left.png\n",
       "89          0   Data/NEZAR_HELOU Optic nerve.png_ left.png\n",
       "\n",
       "[90 rows x 2 columns]"
      ]
     },
     "execution_count": 13,
     "metadata": {},
     "output_type": "execute_result"
    }
   ],
   "source": [
    "split_df"
   ]
  },
  {
   "cell_type": "code",
   "execution_count": 14,
   "metadata": {},
   "outputs": [],
   "source": [
    "# orb = cv.ORB_create()\n",
    "\n",
    "# def extract_orb_features(image_path):\n",
    "#     image = cv.imread(image_path)\n",
    "#     gray = cv.cvtColor(image, cv.COLOR_BGR2GRAY)\n",
    "#     keypoints, descriptors = orb.detectAndCompute(gray, None)\n",
    "#     return descriptors.flatten() if descriptors is not None else np.zeros(500)"
   ]
  },
  {
   "cell_type": "code",
   "execution_count": 15,
   "metadata": {},
   "outputs": [],
   "source": [
    "# split_df['ORB_features'] = split_df['Image'].apply(extract_orb_features)"
   ]
  },
  {
   "cell_type": "code",
   "execution_count": 16,
   "metadata": {},
   "outputs": [
    {
     "data": {
      "text/plain": [
       "Diagnosis    90\n",
       "Image        86\n",
       "dtype: int64"
      ]
     },
     "execution_count": 16,
     "metadata": {},
     "output_type": "execute_result"
    }
   ],
   "source": [
    "split_df.count() "
   ]
  },
  {
   "cell_type": "code",
   "execution_count": 17,
   "metadata": {},
   "outputs": [],
   "source": [
    "split_df.dropna(inplace=True)"
   ]
  },
  {
   "cell_type": "code",
   "execution_count": 18,
   "metadata": {},
   "outputs": [],
   "source": [
    "# Drop columns not used for prediction\n",
    "y_data = split_df['Diagnosis']\n",
    "X_data = split_df.drop('Diagnosis', axis=1)"
   ]
  },
  {
   "cell_type": "code",
   "execution_count": 19,
   "metadata": {},
   "outputs": [
    {
     "name": "stdout",
     "output_type": "stream",
     "text": [
      "86\n",
      "Image    86\n",
      "dtype: int64\n"
     ]
    }
   ],
   "source": [
    "print(y_data.count())\n",
    "print(X_data.count())"
   ]
  },
  {
   "cell_type": "code",
   "execution_count": 20,
   "metadata": {},
   "outputs": [],
   "source": [
    "# Load and preprocess images for each patient\n",
    "image_paths =  split_df['Image'].tolist()\n"
   ]
  },
  {
   "cell_type": "code",
   "execution_count": 21,
   "metadata": {},
   "outputs": [
    {
     "data": {
      "text/plain": [
       "['Data/SHAHEN_MERO Optic nerve.png_ left.png',\n",
       " 'Data/SHAHEN_MERO Optic nerve.png_ left.png',\n",
       " 'Data/SHAHEN_MERO Optic nerve.png_ right.png',\n",
       " 'Data/SHAHEN_MERO Optic nerve.png_ right.png',\n",
       " 'Data/AYMAN_SAMARA_20240121_124719_Disc_3D_R_SINGLE_6mm_512x112.png',\n",
       " 'Data/AYMAN_SAMARA_20240121_124719_Disc_3D_R_SINGLE_6mm_512x112.png',\n",
       " 'Data/RAMA_NASR_ALL Optic nerve.png_ left.png',\n",
       " 'Data/RAMA_NASR_ALL Optic nerve.png_ left.png',\n",
       " 'Data/RANDA_NASER_2 Optic nerve.png_ right.png',\n",
       " 'Data/RANDA_NASER_2 Optic nerve.png_ right.png',\n",
       " 'Data/MOUSTAFA_MALA_ALI Optic nerve.png_ left.png',\n",
       " 'Data/MOUSTAFA_MALA_ALI Optic nerve.png_ left.png',\n",
       " 'Data/MOUSTAFA_MALA_ALI Optic nerve.png_ right.png',\n",
       " 'Data/MOUSTAFA_MALA_ALI Optic nerve.png_ right.png',\n",
       " 'Data/6361_NAHLA_ABO_QORA_left.png',\n",
       " 'Data/6361_NAHLA_ABO_QORA_left.png',\n",
       " 'Data/LATEFA_IBRAHEM Optic nerve.png_ left.png',\n",
       " 'Data/LATEFA_IBRAHEM Optic nerve.png_ left.png',\n",
       " 'Data/LATEFA_IBRAHEM Optic nerve.png_ right.png',\n",
       " 'Data/LATEFA_IBRAHEM Optic nerve.png_ right.png',\n",
       " 'Data/FATEMA_FARHAN Optic nerve.png_ left.png',\n",
       " 'Data/FATEMA_FARHAN Optic nerve.png_ left.png',\n",
       " 'Data/FATEMA_FARHAN Optic nerve.png_ right.png',\n",
       " 'Data/FATEMA_FARHAN Optic nerve.png_ right.png',\n",
       " 'Data/SOBHI_WAZAN Optic nerve.png_ left.png',\n",
       " 'Data/SOBHI_WAZAN Optic nerve.png_ left.png',\n",
       " 'Data/SOBHI_WAZAN Optic nerve.png_ right.png',\n",
       " 'Data/SOBHI_WAZAN Optic nerve.png_ right.png',\n",
       " 'Data/HIBA_LOLO Optic nerve.png_ left.png',\n",
       " 'Data/HIBA_LOLO Optic nerve.png_ left.png',\n",
       " 'Data/HIBA_LOLO Optic nerve.png_ right.png',\n",
       " 'Data/HIBA_LOLO Optic nerve.png_ right.png',\n",
       " 'Data/KHADEGA_KABEH Optic nerve.png_ left.png',\n",
       " 'Data/KHADEGA_KABEH Optic nerve.png_ left.png',\n",
       " 'Data/KHADEGA_KABEH Optic nerve.png_ right.png',\n",
       " 'Data/KHADEGA_KABEH Optic nerve.png_ right.png',\n",
       " 'Data/ABD_ALRAZAQ_BOEDANI Optic nerve.png_ left.png',\n",
       " 'Data/ABD_ALRAZAQ_BOEDANI Optic nerve.png_ left.png',\n",
       " 'Data/ABD_ALRAZAQ_BOEDANI Optic nerve.png_ right.png',\n",
       " 'Data/ABD_ALRAZAQ_BOEDANI Optic nerve.png_ right.png',\n",
       " 'Data/AHMAD_TAHAN Optic nerve.png_ left.png',\n",
       " 'Data/AHMAD_TAHAN Optic nerve.png_ left.png',\n",
       " 'Data/AHMAD_TAHAN Optic nerve.png_ right.png',\n",
       " 'Data/AHMAD_TAHAN Optic nerve.png_ right.png',\n",
       " 'Data/5919_HALEMA_SHEKHO Optic nerve.png_ left.png',\n",
       " 'Data/5919_HALEMA_SHEKHO Optic nerve.png_ left.png',\n",
       " 'Data/5919_HALEMA_SHEKHO Optic nerve.png_ right.png',\n",
       " 'Data/5919_HALEMA_SHEKHO Optic nerve.png_ right.png',\n",
       " 'Data/ALI_HOSEN Optic nerve.png_ left.png',\n",
       " 'Data/ALI_HOSEN Optic nerve.png_ left.png',\n",
       " 'Data/ALI_HOSEN Optic nerve.png_ right.png',\n",
       " 'Data/ALI_HOSEN Optic nerve.png_ right.png',\n",
       " 'Data/MOHY_ALDEN_KHASHOQ Optic nerve.png_ left.png',\n",
       " 'Data/MOHY_ALDEN_KHASHOQ Optic nerve.png_ left.png',\n",
       " 'Data/MOHY_ALDEN_KHASHOQ Optic nerve.png_ right.png',\n",
       " 'Data/MOHY_ALDEN_KHASHOQ Optic nerve.png_ right.png',\n",
       " 'Data/DALAL_MAHMODOptic nerve.png_ left.png',\n",
       " 'Data/DALAL_MAHMODOptic nerve.png_ left.png',\n",
       " 'Data/DALAL_MAHMODOptic nerve.png_ right.png',\n",
       " 'Data/DALAL_MAHMODOptic nerve.png_ right.png',\n",
       " 'Data/NEDAL_JREJ Optic nerve.png_ left.png',\n",
       " 'Data/NEDAL_JREJ Optic nerve.png_ left.png',\n",
       " 'Data/NEDAL_JREJ Optic nerve.png_ right.png',\n",
       " 'Data/NEDAL_JREJ Optic nerve.png_ right.png',\n",
       " 'Data/FATEMAH_KHALAF Optic nerve.png_ left.png',\n",
       " 'Data/FATEMAH_KHALAF Optic nerve.png_ left.png',\n",
       " 'Data/FATEMAH_KHALAF Optic nerve.png_ right.png',\n",
       " 'Data/FATEMAH_KHALAF Optic nerve.png_ right.png',\n",
       " 'Data/NAJAH_NAHAR  Optic nerve.png_ left.png',\n",
       " 'Data/NAJAH_NAHAR  Optic nerve.png_ left.png',\n",
       " 'Data/NAJAH_NAHAR  Optic nerve.png_ right.png',\n",
       " 'Data/NAJAH_NAHAR  Optic nerve.png_ right.png',\n",
       " 'Data/5941_MARWA_MAHJOB Optic nerve.png_ left.png',\n",
       " 'Data/5941_MARWA_MAHJOB Optic nerve.png_ left.png',\n",
       " 'Data/5941_MARWA_MAHJOB Optic nerve.png_ right.png',\n",
       " 'Data/5941_MARWA_MAHJOB Optic nerve.png_ right.png',\n",
       " 'Data/ZOHER_MALAH Optic nerve.png_ left.png',\n",
       " 'Data/ZOHER_MALAH Optic nerve.png_ left.png',\n",
       " 'Data/ZOHER_MALAH Optic nerve.png_ right.png',\n",
       " 'Data/ZOHER_MALAH Optic nerve.png_ right.png',\n",
       " 'Data/BASEL_BASH Optic nerve.png_ left.png',\n",
       " 'Data/BASEL_BASH Optic nerve.png_ left.png',\n",
       " 'Data/BASEL_BASH Optic nerve.png_ right.png',\n",
       " 'Data/BASEL_BASH Optic nerve.png_ right.png',\n",
       " 'Data/NEZAR_HELOU Optic nerve.png_ left.png',\n",
       " 'Data/NEZAR_HELOU Optic nerve.png_ left.png']"
      ]
     },
     "execution_count": 21,
     "metadata": {},
     "output_type": "execute_result"
    }
   ],
   "source": [
    "image_paths"
   ]
  },
  {
   "cell_type": "code",
   "execution_count": 22,
   "metadata": {},
   "outputs": [],
   "source": [
    "images = [np.array(Image.open(path).convert('RGB').resize((200, 200))) for path in image_paths]  # Load and resize images\n",
    "X_images = np.array(images) / 255.0  # Normalize pixel values to range [0, 1]"
   ]
  },
  {
   "cell_type": "code",
   "execution_count": 23,
   "metadata": {},
   "outputs": [
    {
     "data": {
      "text/plain": [
       "86"
      ]
     },
     "execution_count": 23,
     "metadata": {},
     "output_type": "execute_result"
    }
   ],
   "source": [
    "len(X_images)"
   ]
  },
  {
   "cell_type": "code",
   "execution_count": 24,
   "metadata": {},
   "outputs": [],
   "source": [
    "# X_images = []\n",
    "# # cv.imshow('',X_images)\n",
    "# # cv.waitKey(0)\n",
    "# # cv.destroyAllWindows()\n",
    "# for i in range(len(image_paths)):\n",
    "#     img = cv.imread(image_paths[i])\n",
    "#     flattened_image = img.flatten()\n",
    "#     X_images.append(flattened_image)"
   ]
  },
  {
   "cell_type": "code",
   "execution_count": 25,
   "metadata": {},
   "outputs": [],
   "source": [
    "# X_train = np.concatenate((X_data, X_images), axis=1)\n",
    "# X_data['images'] = X_images['Image']\n",
    "# for i in range(len(X_images)):\n",
    "#     X_data.at[i, 'images'] = X_images.at[i, 'Image']\n"
   ]
  },
  {
   "cell_type": "code",
   "execution_count": 37,
   "metadata": {},
   "outputs": [],
   "source": [
    "# Split data into train and test sets\n",
    "X_train, X_test, y_train, y_test = train_test_split(X_images, y_data, test_size=0.2, random_state=44, shuffle=True)\n"
   ]
  },
  {
   "cell_type": "code",
   "execution_count": 27,
   "metadata": {},
   "outputs": [
    {
     "data": {
      "text/plain": [
       "68"
      ]
     },
     "execution_count": 27,
     "metadata": {},
     "output_type": "execute_result"
    }
   ],
   "source": [
    "len(X_train)"
   ]
  },
  {
   "cell_type": "code",
   "execution_count": 194,
   "metadata": {},
   "outputs": [],
   "source": [
    "# Define CNN model\n",
    "model = Sequential([\n",
    "    Conv2D(32, (3, 3), activation='relu', input_shape=(200, 200, 3)),\n",
    "    MaxPooling2D((2, 2)),\n",
    "    Dropout(rate=0.2),\n",
    "    Conv2D(64, (3, 3), activation='relu'),\n",
    "    MaxPooling2D((2, 2)),\n",
    "    Conv2D(128, (3, 3), activation='relu'),\n",
    "    MaxPooling2D((2, 2)),\n",
    "    Dropout(0.2),\n",
    "    Conv2D(128, (3, 3), activation='relu'),\n",
    "    MaxPooling2D((2, 2)),\n",
    "    Flatten(),\n",
    "    Dense(512, activation='relu'),\n",
    "    Dense(1, activation='sigmoid') \n",
    "])"
   ]
  },
  {
   "cell_type": "code",
   "execution_count": 195,
   "metadata": {},
   "outputs": [],
   "source": [
    "# Compile the model\n",
    "model.compile(optimizer='adam', loss='binary_crossentropy', metrics=['accuracy'])\n"
   ]
  },
  {
   "cell_type": "code",
   "execution_count": 196,
   "metadata": {},
   "outputs": [
    {
     "name": "stdout",
     "output_type": "stream",
     "text": [
      "Model: \"sequential\"\n",
      "_________________________________________________________________\n",
      " Layer (type)                Output Shape              Param #   \n",
      "=================================================================\n",
      " conv2d (Conv2D)             (None, 198, 198, 32)      896       \n",
      "                                                                 \n",
      " max_pooling2d (MaxPooling2  (None, 99, 99, 32)        0         \n",
      " D)                                                              \n",
      "                                                                 \n",
      " dropout (Dropout)           (None, 99, 99, 32)        0         \n",
      "                                                                 \n",
      " conv2d_1 (Conv2D)           (None, 97, 97, 64)        18496     \n",
      "                                                                 \n",
      " max_pooling2d_1 (MaxPoolin  (None, 48, 48, 64)        0         \n",
      " g2D)                                                            \n",
      "                                                                 \n",
      " conv2d_2 (Conv2D)           (None, 46, 46, 128)       73856     \n",
      "                                                                 \n",
      " max_pooling2d_2 (MaxPoolin  (None, 23, 23, 128)       0         \n",
      " g2D)                                                            \n",
      "                                                                 \n",
      " dropout_1 (Dropout)         (None, 23, 23, 128)       0         \n",
      "                                                                 \n",
      " conv2d_3 (Conv2D)           (None, 21, 21, 128)       147584    \n",
      "                                                                 \n",
      " max_pooling2d_3 (MaxPoolin  (None, 10, 10, 128)       0         \n",
      " g2D)                                                            \n",
      "                                                                 \n",
      " flatten (Flatten)           (None, 12800)             0         \n",
      "                                                                 \n",
      " dense (Dense)               (None, 512)               6554112   \n",
      "                                                                 \n",
      " dense_1 (Dense)             (None, 1)                 513       \n",
      "                                                                 \n",
      "=================================================================\n",
      "Total params: 6795457 (25.92 MB)\n",
      "Trainable params: 6795457 (25.92 MB)\n",
      "Non-trainable params: 0 (0.00 Byte)\n",
      "_________________________________________________________________\n"
     ]
    }
   ],
   "source": [
    "model.summary()"
   ]
  },
  {
   "cell_type": "code",
   "execution_count": 197,
   "metadata": {},
   "outputs": [
    {
     "name": "stdout",
     "output_type": "stream",
     "text": [
      "Epoch 1/100\n",
      "8/8 [==============================] - 6s 399ms/step - loss: 0.7672 - accuracy: 0.4754 - val_loss: 0.6955 - val_accuracy: 0.4286\n",
      "Epoch 2/100\n",
      "8/8 [==============================] - 3s 328ms/step - loss: 0.6813 - accuracy: 0.6066 - val_loss: 0.7064 - val_accuracy: 0.4286\n",
      "Epoch 3/100\n",
      "8/8 [==============================] - 3s 325ms/step - loss: 0.7275 - accuracy: 0.6066 - val_loss: 0.7089 - val_accuracy: 0.4286\n",
      "Epoch 4/100\n",
      "8/8 [==============================] - 3s 321ms/step - loss: 0.6714 - accuracy: 0.6066 - val_loss: 0.6965 - val_accuracy: 0.4286\n",
      "Epoch 5/100\n",
      "8/8 [==============================] - 3s 330ms/step - loss: 0.6833 - accuracy: 0.6066 - val_loss: 0.6966 - val_accuracy: 0.4286\n",
      "Epoch 6/100\n",
      "8/8 [==============================] - 3s 326ms/step - loss: 0.6780 - accuracy: 0.6066 - val_loss: 0.7025 - val_accuracy: 0.4286\n",
      "Epoch 7/100\n",
      "8/8 [==============================] - 3s 327ms/step - loss: 0.7012 - accuracy: 0.6066 - val_loss: 0.7095 - val_accuracy: 0.4286\n",
      "Epoch 8/100\n",
      "8/8 [==============================] - 3s 350ms/step - loss: 0.6670 - accuracy: 0.6066 - val_loss: 0.7019 - val_accuracy: 0.4286\n",
      "Epoch 9/100\n",
      "8/8 [==============================] - 3s 343ms/step - loss: 0.6633 - accuracy: 0.6066 - val_loss: 0.7144 - val_accuracy: 0.4286\n",
      "Epoch 10/100\n",
      "8/8 [==============================] - 3s 330ms/step - loss: 0.6550 - accuracy: 0.6066 - val_loss: 0.6825 - val_accuracy: 0.4286\n",
      "Epoch 11/100\n",
      "8/8 [==============================] - 3s 324ms/step - loss: 0.6532 - accuracy: 0.5574 - val_loss: 0.6315 - val_accuracy: 0.5714\n",
      "Epoch 12/100\n",
      "8/8 [==============================] - 3s 329ms/step - loss: 0.6423 - accuracy: 0.6885 - val_loss: 0.6697 - val_accuracy: 0.7143\n",
      "Epoch 13/100\n",
      "8/8 [==============================] - 3s 331ms/step - loss: 0.6252 - accuracy: 0.6066 - val_loss: 0.7300 - val_accuracy: 0.7143\n",
      "Epoch 14/100\n",
      "8/8 [==============================] - 3s 344ms/step - loss: 0.5446 - accuracy: 0.7377 - val_loss: 1.0309 - val_accuracy: 0.7143\n",
      "Epoch 15/100\n",
      "8/8 [==============================] - 3s 329ms/step - loss: 0.5749 - accuracy: 0.7869 - val_loss: 1.2056 - val_accuracy: 0.7143\n",
      "Epoch 16/100\n",
      "8/8 [==============================] - 3s 328ms/step - loss: 0.4688 - accuracy: 0.8033 - val_loss: 0.9374 - val_accuracy: 0.5714\n",
      "Epoch 17/100\n",
      "8/8 [==============================] - 3s 346ms/step - loss: 0.4175 - accuracy: 0.8525 - val_loss: 1.6737 - val_accuracy: 0.7143\n",
      "Epoch 18/100\n",
      "8/8 [==============================] - 3s 329ms/step - loss: 0.3750 - accuracy: 0.8033 - val_loss: 1.6480 - val_accuracy: 0.5714\n",
      "Epoch 19/100\n",
      "8/8 [==============================] - 3s 336ms/step - loss: 0.3016 - accuracy: 0.8361 - val_loss: 2.3861 - val_accuracy: 0.5714\n",
      "Epoch 20/100\n",
      "8/8 [==============================] - 3s 331ms/step - loss: 0.4029 - accuracy: 0.7705 - val_loss: 1.1328 - val_accuracy: 0.5714\n",
      "Epoch 21/100\n",
      "8/8 [==============================] - 3s 331ms/step - loss: 0.3486 - accuracy: 0.8197 - val_loss: 1.2479 - val_accuracy: 0.5714\n",
      "Epoch 22/100\n",
      "8/8 [==============================] - 3s 347ms/step - loss: 0.3001 - accuracy: 0.8525 - val_loss: 1.7358 - val_accuracy: 0.5714\n",
      "Epoch 23/100\n",
      "8/8 [==============================] - 3s 322ms/step - loss: 0.2812 - accuracy: 0.8033 - val_loss: 1.9527 - val_accuracy: 0.5714\n",
      "Epoch 24/100\n",
      "8/8 [==============================] - 3s 332ms/step - loss: 0.2666 - accuracy: 0.8361 - val_loss: 2.6269 - val_accuracy: 0.5714\n",
      "Epoch 25/100\n",
      "8/8 [==============================] - 3s 325ms/step - loss: 0.3042 - accuracy: 0.8197 - val_loss: 1.5767 - val_accuracy: 0.5714\n",
      "Epoch 26/100\n",
      "8/8 [==============================] - 3s 354ms/step - loss: 0.2861 - accuracy: 0.8197 - val_loss: 1.6694 - val_accuracy: 0.5714\n",
      "Epoch 27/100\n",
      "8/8 [==============================] - 3s 329ms/step - loss: 0.3204 - accuracy: 0.8361 - val_loss: 1.5936 - val_accuracy: 0.5714\n",
      "Epoch 28/100\n",
      "8/8 [==============================] - 3s 334ms/step - loss: 0.3057 - accuracy: 0.8197 - val_loss: 1.6170 - val_accuracy: 0.5714\n",
      "Epoch 29/100\n",
      "8/8 [==============================] - 3s 332ms/step - loss: 0.2773 - accuracy: 0.8525 - val_loss: 1.3440 - val_accuracy: 0.5714\n",
      "Epoch 30/100\n",
      "8/8 [==============================] - 3s 329ms/step - loss: 0.2652 - accuracy: 0.8361 - val_loss: 1.7211 - val_accuracy: 0.5714\n",
      "Epoch 31/100\n",
      "8/8 [==============================] - 3s 330ms/step - loss: 0.2608 - accuracy: 0.8197 - val_loss: 2.0181 - val_accuracy: 0.5714\n",
      "Epoch 32/100\n",
      "8/8 [==============================] - 3s 331ms/step - loss: 0.2550 - accuracy: 0.8033 - val_loss: 1.8773 - val_accuracy: 0.5714\n",
      "Epoch 33/100\n",
      "8/8 [==============================] - 3s 348ms/step - loss: 0.2460 - accuracy: 0.8689 - val_loss: 1.6222 - val_accuracy: 0.5714\n",
      "Epoch 34/100\n",
      "8/8 [==============================] - 3s 334ms/step - loss: 0.2415 - accuracy: 0.8689 - val_loss: 1.6610 - val_accuracy: 0.5714\n",
      "Epoch 35/100\n",
      "8/8 [==============================] - 3s 327ms/step - loss: 0.2396 - accuracy: 0.7869 - val_loss: 1.9290 - val_accuracy: 0.5714\n",
      "Epoch 36/100\n",
      "8/8 [==============================] - 3s 336ms/step - loss: 0.2424 - accuracy: 0.8197 - val_loss: 1.9235 - val_accuracy: 0.5714\n",
      "Epoch 37/100\n",
      "8/8 [==============================] - 3s 354ms/step - loss: 0.2554 - accuracy: 0.8689 - val_loss: 1.9788 - val_accuracy: 0.5714\n",
      "Epoch 38/100\n",
      "8/8 [==============================] - 3s 353ms/step - loss: 0.2430 - accuracy: 0.8361 - val_loss: 1.5913 - val_accuracy: 0.5714\n",
      "Epoch 39/100\n",
      "8/8 [==============================] - 3s 348ms/step - loss: 0.2389 - accuracy: 0.8525 - val_loss: 1.6540 - val_accuracy: 0.5714\n",
      "Epoch 40/100\n",
      "8/8 [==============================] - 3s 356ms/step - loss: 0.2185 - accuracy: 0.8361 - val_loss: 2.0213 - val_accuracy: 0.5714\n",
      "Epoch 41/100\n",
      "8/8 [==============================] - 3s 328ms/step - loss: 0.2371 - accuracy: 0.8525 - val_loss: 1.7814 - val_accuracy: 0.5714\n",
      "Epoch 42/100\n",
      "8/8 [==============================] - 3s 329ms/step - loss: 0.2501 - accuracy: 0.8361 - val_loss: 1.6404 - val_accuracy: 0.5714\n",
      "Epoch 43/100\n",
      "8/8 [==============================] - 3s 331ms/step - loss: 0.2353 - accuracy: 0.8197 - val_loss: 1.7981 - val_accuracy: 0.5714\n",
      "Epoch 44/100\n",
      "8/8 [==============================] - 3s 349ms/step - loss: 0.2449 - accuracy: 0.8197 - val_loss: 1.5461 - val_accuracy: 0.5714\n",
      "Epoch 45/100\n",
      "8/8 [==============================] - 3s 331ms/step - loss: 0.2459 - accuracy: 0.8033 - val_loss: 1.6065 - val_accuracy: 0.5714\n",
      "Epoch 46/100\n",
      "8/8 [==============================] - 3s 337ms/step - loss: 0.2482 - accuracy: 0.7869 - val_loss: 1.8599 - val_accuracy: 0.5714\n",
      "Epoch 47/100\n",
      "8/8 [==============================] - 3s 328ms/step - loss: 0.2513 - accuracy: 0.8361 - val_loss: 1.5796 - val_accuracy: 0.5714\n",
      "Epoch 48/100\n",
      "8/8 [==============================] - 3s 326ms/step - loss: 0.2337 - accuracy: 0.7869 - val_loss: 1.4614 - val_accuracy: 0.5714\n",
      "Epoch 49/100\n",
      "8/8 [==============================] - 3s 334ms/step - loss: 0.2386 - accuracy: 0.8033 - val_loss: 1.6629 - val_accuracy: 0.5714\n",
      "Epoch 50/100\n",
      "8/8 [==============================] - 3s 332ms/step - loss: 0.2301 - accuracy: 0.8361 - val_loss: 1.7532 - val_accuracy: 0.5714\n",
      "Epoch 51/100\n",
      "8/8 [==============================] - 3s 347ms/step - loss: 0.2395 - accuracy: 0.8361 - val_loss: 1.8298 - val_accuracy: 0.5714\n",
      "Epoch 52/100\n",
      "8/8 [==============================] - 3s 329ms/step - loss: 0.2280 - accuracy: 0.8033 - val_loss: 1.7952 - val_accuracy: 0.5714\n",
      "Epoch 53/100\n",
      "8/8 [==============================] - 3s 339ms/step - loss: 0.2458 - accuracy: 0.8033 - val_loss: 1.7227 - val_accuracy: 0.5714\n",
      "Epoch 54/100\n",
      "8/8 [==============================] - 3s 343ms/step - loss: 0.2283 - accuracy: 0.8689 - val_loss: 1.2994 - val_accuracy: 0.5714\n",
      "Epoch 55/100\n",
      "8/8 [==============================] - 3s 354ms/step - loss: 0.2311 - accuracy: 0.8361 - val_loss: 1.4602 - val_accuracy: 0.5714\n",
      "Epoch 56/100\n",
      "8/8 [==============================] - 3s 330ms/step - loss: 0.2252 - accuracy: 0.8525 - val_loss: 1.6881 - val_accuracy: 0.5714\n",
      "Epoch 57/100\n",
      "8/8 [==============================] - 3s 331ms/step - loss: 0.2472 - accuracy: 0.8361 - val_loss: 1.9203 - val_accuracy: 0.5714\n",
      "Epoch 58/100\n",
      "8/8 [==============================] - 3s 328ms/step - loss: 0.2252 - accuracy: 0.8197 - val_loss: 1.3784 - val_accuracy: 0.5714\n",
      "Epoch 59/100\n",
      "8/8 [==============================] - 3s 329ms/step - loss: 0.2369 - accuracy: 0.8361 - val_loss: 1.4521 - val_accuracy: 0.5714\n",
      "Epoch 60/100\n",
      "8/8 [==============================] - 3s 330ms/step - loss: 0.2242 - accuracy: 0.8689 - val_loss: 1.7462 - val_accuracy: 0.5714\n",
      "Epoch 61/100\n",
      "8/8 [==============================] - 3s 336ms/step - loss: 0.2226 - accuracy: 0.8525 - val_loss: 1.9280 - val_accuracy: 0.5714\n",
      "Epoch 62/100\n",
      "8/8 [==============================] - 3s 349ms/step - loss: 0.2218 - accuracy: 0.8361 - val_loss: 2.0380 - val_accuracy: 0.5714\n",
      "Epoch 63/100\n",
      "8/8 [==============================] - 3s 341ms/step - loss: 0.2325 - accuracy: 0.8197 - val_loss: 1.6264 - val_accuracy: 0.5714\n",
      "Epoch 64/100\n",
      "8/8 [==============================] - 3s 334ms/step - loss: 0.2151 - accuracy: 0.8197 - val_loss: 1.7318 - val_accuracy: 0.5714\n",
      "Epoch 65/100\n",
      "8/8 [==============================] - 3s 331ms/step - loss: 0.2445 - accuracy: 0.7541 - val_loss: 1.7153 - val_accuracy: 0.5714\n",
      "Epoch 66/100\n",
      "8/8 [==============================] - 3s 330ms/step - loss: 0.2325 - accuracy: 0.8197 - val_loss: 1.6663 - val_accuracy: 0.5714\n",
      "Epoch 67/100\n",
      "8/8 [==============================] - 3s 330ms/step - loss: 0.2260 - accuracy: 0.8361 - val_loss: 1.7018 - val_accuracy: 0.5714\n",
      "Epoch 68/100\n",
      "8/8 [==============================] - 3s 333ms/step - loss: 0.2142 - accuracy: 0.8361 - val_loss: 1.8324 - val_accuracy: 0.5714\n",
      "Epoch 69/100\n",
      "8/8 [==============================] - 3s 347ms/step - loss: 0.2401 - accuracy: 0.8197 - val_loss: 1.9326 - val_accuracy: 0.5714\n",
      "Epoch 70/100\n",
      "8/8 [==============================] - 3s 338ms/step - loss: 0.2446 - accuracy: 0.8033 - val_loss: 1.2867 - val_accuracy: 0.5714\n",
      "Epoch 71/100\n",
      "8/8 [==============================] - 3s 329ms/step - loss: 0.2237 - accuracy: 0.8525 - val_loss: 1.5203 - val_accuracy: 0.5714\n",
      "Epoch 72/100\n",
      "8/8 [==============================] - 3s 333ms/step - loss: 0.2296 - accuracy: 0.8033 - val_loss: 1.6144 - val_accuracy: 0.5714\n",
      "Epoch 73/100\n",
      "8/8 [==============================] - 3s 334ms/step - loss: 0.2205 - accuracy: 0.8197 - val_loss: 1.4559 - val_accuracy: 0.5714\n",
      "Epoch 74/100\n",
      "8/8 [==============================] - 3s 330ms/step - loss: 0.2247 - accuracy: 0.8361 - val_loss: 1.4611 - val_accuracy: 0.5714\n",
      "Epoch 75/100\n",
      "8/8 [==============================] - 3s 328ms/step - loss: 0.2294 - accuracy: 0.8197 - val_loss: 1.6498 - val_accuracy: 0.5714\n",
      "Epoch 76/100\n",
      "8/8 [==============================] - 3s 350ms/step - loss: 0.2256 - accuracy: 0.8197 - val_loss: 1.7945 - val_accuracy: 0.5714\n",
      "Epoch 77/100\n",
      "8/8 [==============================] - 3s 332ms/step - loss: 0.2296 - accuracy: 0.7869 - val_loss: 1.5964 - val_accuracy: 0.5714\n",
      "Epoch 78/100\n",
      "8/8 [==============================] - 3s 354ms/step - loss: 0.2215 - accuracy: 0.8197 - val_loss: 1.6076 - val_accuracy: 0.5714\n",
      "Epoch 79/100\n",
      "8/8 [==============================] - 3s 329ms/step - loss: 0.2138 - accuracy: 0.8689 - val_loss: 1.7184 - val_accuracy: 0.5714\n",
      "Epoch 80/100\n",
      "8/8 [==============================] - 3s 331ms/step - loss: 0.2253 - accuracy: 0.8033 - val_loss: 1.6349 - val_accuracy: 0.5714\n",
      "Epoch 81/100\n",
      "8/8 [==============================] - 3s 329ms/step - loss: 0.2204 - accuracy: 0.8197 - val_loss: 1.6116 - val_accuracy: 0.5714\n",
      "Epoch 82/100\n",
      "8/8 [==============================] - 3s 334ms/step - loss: 0.2264 - accuracy: 0.8197 - val_loss: 1.6367 - val_accuracy: 0.5714\n",
      "Epoch 83/100\n",
      "8/8 [==============================] - 3s 330ms/step - loss: 0.2126 - accuracy: 0.8361 - val_loss: 1.6835 - val_accuracy: 0.5714\n",
      "Epoch 84/100\n",
      "8/8 [==============================] - 3s 330ms/step - loss: 0.2141 - accuracy: 0.8525 - val_loss: 1.8194 - val_accuracy: 0.5714\n",
      "Epoch 85/100\n",
      "8/8 [==============================] - 3s 345ms/step - loss: 0.2250 - accuracy: 0.8361 - val_loss: 1.8058 - val_accuracy: 0.5714\n",
      "Epoch 86/100\n",
      "8/8 [==============================] - 3s 336ms/step - loss: 0.2161 - accuracy: 0.8689 - val_loss: 1.6864 - val_accuracy: 0.5714\n",
      "Epoch 87/100\n",
      "8/8 [==============================] - 3s 332ms/step - loss: 0.2227 - accuracy: 0.8033 - val_loss: 1.6772 - val_accuracy: 0.5714\n",
      "Epoch 88/100\n",
      "8/8 [==============================] - 3s 338ms/step - loss: 0.2202 - accuracy: 0.8361 - val_loss: 1.7005 - val_accuracy: 0.5714\n",
      "Epoch 89/100\n",
      "8/8 [==============================] - 3s 336ms/step - loss: 0.2185 - accuracy: 0.8361 - val_loss: 1.8187 - val_accuracy: 0.5714\n",
      "Epoch 90/100\n",
      "8/8 [==============================] - 3s 333ms/step - loss: 0.2159 - accuracy: 0.8033 - val_loss: 1.8239 - val_accuracy: 0.5714\n",
      "Epoch 91/100\n",
      "8/8 [==============================] - 3s 329ms/step - loss: 0.2385 - accuracy: 0.7869 - val_loss: 1.5882 - val_accuracy: 0.5714\n",
      "Epoch 92/100\n",
      "8/8 [==============================] - 3s 351ms/step - loss: 0.2260 - accuracy: 0.8197 - val_loss: 1.4055 - val_accuracy: 0.5714\n",
      "Epoch 93/100\n",
      "8/8 [==============================] - 3s 329ms/step - loss: 0.2150 - accuracy: 0.8689 - val_loss: 1.6199 - val_accuracy: 0.5714\n",
      "Epoch 94/100\n",
      "8/8 [==============================] - 3s 329ms/step - loss: 0.2270 - accuracy: 0.8361 - val_loss: 1.7228 - val_accuracy: 0.5714\n",
      "Epoch 95/100\n",
      "8/8 [==============================] - 3s 352ms/step - loss: 0.2153 - accuracy: 0.8197 - val_loss: 1.8398 - val_accuracy: 0.5714\n",
      "Epoch 96/100\n",
      "8/8 [==============================] - 3s 325ms/step - loss: 0.2357 - accuracy: 0.7869 - val_loss: 1.6831 - val_accuracy: 0.5714\n",
      "Epoch 97/100\n",
      "8/8 [==============================] - 3s 331ms/step - loss: 0.2357 - accuracy: 0.8033 - val_loss: 1.2381 - val_accuracy: 0.5714\n",
      "Epoch 98/100\n",
      "8/8 [==============================] - 3s 344ms/step - loss: 0.2188 - accuracy: 0.8361 - val_loss: 1.3606 - val_accuracy: 0.5714\n",
      "Epoch 99/100\n",
      "8/8 [==============================] - 3s 326ms/step - loss: 0.2228 - accuracy: 0.8033 - val_loss: 1.7616 - val_accuracy: 0.5714\n",
      "Epoch 100/100\n",
      "8/8 [==============================] - 3s 329ms/step - loss: 0.2101 - accuracy: 0.8361 - val_loss: 2.0607 - val_accuracy: 0.5714\n"
     ]
    }
   ],
   "source": [
    "# Train the model\n",
    "history = model.fit(X_train, y_train, epochs=100, batch_size=8, validation_split=0.1)\n"
   ]
  },
  {
   "cell_type": "code",
   "execution_count": 198,
   "metadata": {},
   "outputs": [
    {
     "name": "stdout",
     "output_type": "stream",
     "text": [
      "1/1 [==============================] - 0s 217ms/step - loss: 2.0368 - accuracy: 0.6667\n",
      "Test Accuracy: 0.6666666865348816\n"
     ]
    }
   ],
   "source": [
    "test_loss, test_acc = model.evaluate(X_test, y_test)\n",
    "print(f\"Test Accuracy: {test_acc}\")"
   ]
  },
  {
   "cell_type": "code",
   "execution_count": 199,
   "metadata": {},
   "outputs": [
    {
     "name": "stdout",
     "output_type": "stream",
     "text": [
      "3/3 [==============================] - 0s 118ms/step - loss: 0.3983 - accuracy: 0.8235\n",
      "1/1 [==============================] - 0s 331ms/step - loss: 2.0368 - accuracy: 0.6667\n",
      "CNN Train Score: [0.39827030897140503, 0.8235294222831726]\n",
      "CNN Test Score: [2.036759614944458, 0.6666666865348816]\n"
     ]
    }
   ],
   "source": [
    "# Evaluate the model\n",
    "train_score = model.evaluate(X_train, y_train)\n",
    "test_score = model.evaluate(X_test, y_test)\n",
    "print('CNN Train Score:', train_score)\n",
    "print('CNN Test Score:', test_score)\n"
   ]
  },
  {
   "cell_type": "code",
   "execution_count": 200,
   "metadata": {},
   "outputs": [
    {
     "name": "stdout",
     "output_type": "stream",
     "text": [
      "WARNING:tensorflow:6 out of the last 7 calls to <function Model.make_predict_function.<locals>.predict_function at 0x000001969BBC6DD0> triggered tf.function retracing. Tracing is expensive and the excessive number of tracings could be due to (1) creating @tf.function repeatedly in a loop, (2) passing tensors with different shapes, (3) passing Python objects instead of tensors. For (1), please define your @tf.function outside of the loop. For (2), @tf.function has reduce_retracing=True option that can avoid unnecessary retracing. For (3), please refer to https://www.tensorflow.org/guide/function#controlling_retracing and https://www.tensorflow.org/api_docs/python/tf/function for  more details.\n",
      "1/1 [==============================] - 0s 353ms/step\n"
     ]
    }
   ],
   "source": [
    "# Make predictions on the test set\n",
    "predictions = model.predict(X_test)\n"
   ]
  },
  {
   "cell_type": "code",
   "execution_count": 201,
   "metadata": {},
   "outputs": [],
   "source": [
    "# # Generate classification report and confusion matrix\n",
    "# print('Classification Report:')\n",
    "# print(classification_report(y_test, predictions))\n",
    "\n",
    "# print('Confusion Matrix:')\n",
    "# print(confusion_matrix(y_test, predictions))\n"
   ]
  },
  {
   "cell_type": "code",
   "execution_count": 28,
   "metadata": {},
   "outputs": [
    {
     "name": "stdout",
     "output_type": "stream",
     "text": [
      "WARNING:tensorflow:From g:\\python installation\\lib\\site-packages\\keras\\src\\backend.py:277: The name tf.reset_default_graph is deprecated. Please use tf.compat.v1.reset_default_graph instead.\n",
      "\n"
     ]
    }
   ],
   "source": [
    "from keras.backend import clear_session\n",
    "clear_session()"
   ]
  },
  {
   "cell_type": "code",
   "execution_count": 38,
   "metadata": {},
   "outputs": [],
   "source": [
    "from keras.utils import to_categorical\n",
    "\n",
    "\n",
    "# X_test = X_test.reshape(-1,200,200,1) # -1 => means all the number in the set(the biggest number)\n",
    "# X_train = X_train.reshape(-1,200,200,1)\n",
    "X_train = X_train/(255 - 0)\n",
    "X_test  = X_test /(255 - 0)"
   ]
  },
  {
   "cell_type": "code",
   "execution_count": 39,
   "metadata": {},
   "outputs": [],
   "source": [
    "y_train = to_categorical(y_train)\n",
    "y_test = to_categorical(y_test)"
   ]
  },
  {
   "cell_type": "code",
   "execution_count": 40,
   "metadata": {},
   "outputs": [
    {
     "data": {
      "text/plain": [
       "(68, 2)"
      ]
     },
     "execution_count": 40,
     "metadata": {},
     "output_type": "execute_result"
    }
   ],
   "source": [
    "y_train.shape"
   ]
  },
  {
   "cell_type": "code",
   "execution_count": 41,
   "metadata": {},
   "outputs": [
    {
     "data": {
      "text/plain": [
       "(68, 200, 200, 3)"
      ]
     },
     "execution_count": 41,
     "metadata": {},
     "output_type": "execute_result"
    }
   ],
   "source": [
    "X_train.shape"
   ]
  },
  {
   "cell_type": "code",
   "execution_count": 42,
   "metadata": {},
   "outputs": [
    {
     "name": "stdout",
     "output_type": "stream",
     "text": [
      "Model: \"sequential_2\"\n",
      "_________________________________________________________________\n",
      " Layer (type)                Output Shape              Param #   \n",
      "=================================================================\n",
      " conv2d_6 (Conv2D)           (None, 198, 198, 32)      896       \n",
      "                                                                 \n",
      " max_pooling2d_2 (MaxPoolin  (None, 99, 99, 32)        0         \n",
      " g2D)                                                            \n",
      "                                                                 \n",
      " batch_normalization_6 (Bat  (None, 99, 99, 32)        128       \n",
      " chNormalization)                                                \n",
      "                                                                 \n",
      " dropout_8 (Dropout)         (None, 99, 99, 32)        0         \n",
      "                                                                 \n",
      " conv2d_7 (Conv2D)           (None, 97, 97, 64)        18496     \n",
      "                                                                 \n",
      " batch_normalization_7 (Bat  (None, 97, 97, 64)        256       \n",
      " chNormalization)                                                \n",
      "                                                                 \n",
      " dropout_9 (Dropout)         (None, 97, 97, 64)        0         \n",
      "                                                                 \n",
      " conv2d_8 (Conv2D)           (None, 95, 95, 64)        36928     \n",
      "                                                                 \n",
      " batch_normalization_8 (Bat  (None, 95, 95, 64)        256       \n",
      " chNormalization)                                                \n",
      "                                                                 \n",
      " dropout_10 (Dropout)        (None, 95, 95, 64)        0         \n",
      "                                                                 \n",
      " flatten_2 (Flatten)         (None, 577600)            0         \n",
      "                                                                 \n",
      " dense_4 (Dense)             (None, 256)               147865856 \n",
      "                                                                 \n",
      " dropout_11 (Dropout)        (None, 256)               0         \n",
      "                                                                 \n",
      " dense_5 (Dense)             (None, 2)                 514       \n",
      "                                                                 \n",
      "=================================================================\n",
      "Total params: 147923330 (564.28 MB)\n",
      "Trainable params: 147923010 (564.28 MB)\n",
      "Non-trainable params: 320 (1.25 KB)\n",
      "_________________________________________________________________\n"
     ]
    }
   ],
   "source": [
    "model_2 = Sequential()\n",
    "model_2.add(Conv2D(32, (3,3), activation='relu', input_shape=(200,200,3)))\n",
    "model_2.add(MaxPooling2D())\n",
    "model_2.add(BatchNormalization())\n",
    "model_2.add(Dropout(rate=0.6))\n",
    "model_2.add(Conv2D(64, (3,3), activation='relu'))\n",
    "model_2.add(BatchNormalization())\n",
    "model_2.add(Dropout(rate=0.6))\n",
    "model_2.add(Conv2D(64, kernel_size=(3, 3), activation='relu'))\n",
    "model_2.add(BatchNormalization())\n",
    "model_2.add(Dropout(rate=0.6))\n",
    "model_2.add(Flatten())\n",
    "model_2.add(Dense(256, activation='relu'))\n",
    "model_2.add(Dropout(0.5))\n",
    "model_2.add(Dense(2, activation='softmax'))\n",
    "\n",
    "#Compilation of the model\n",
    "model_2.compile(loss='categorical_crossentropy', optimizer='adam', metrics=['acc'])\n",
    "\n",
    "model_2.summary()"
   ]
  },
  {
   "cell_type": "code",
   "execution_count": 43,
   "metadata": {},
   "outputs": [
    {
     "name": "stdout",
     "output_type": "stream",
     "text": [
      "Epoch 1/50\n",
      "WARNING:tensorflow:From g:\\python installation\\lib\\site-packages\\keras\\src\\utils\\tf_utils.py:492: The name tf.ragged.RaggedTensorValue is deprecated. Please use tf.compat.v1.ragged.RaggedTensorValue instead.\n",
      "\n",
      "WARNING:tensorflow:From g:\\python installation\\lib\\site-packages\\keras\\src\\engine\\base_layer_utils.py:384: The name tf.executing_eagerly_outside_functions is deprecated. Please use tf.compat.v1.executing_eagerly_outside_functions instead.\n",
      "\n",
      "2/2 [==============================] - 14s 6s/step - loss: 9.4807 - acc: 0.4754 - val_loss: 0.7444 - val_acc: 0.4286\n",
      "Epoch 2/50\n",
      "2/2 [==============================] - 6s 3s/step - loss: 8.5809 - acc: 0.7541 - val_loss: 1.3569 - val_acc: 0.4286\n",
      "Epoch 3/50\n",
      "2/2 [==============================] - 6s 3s/step - loss: 4.4875 - acc: 0.7377 - val_loss: 1.7864 - val_acc: 0.4286\n",
      "Epoch 4/50\n",
      "2/2 [==============================] - 7s 3s/step - loss: 5.4790 - acc: 0.6066 - val_loss: 0.9527 - val_acc: 0.4286\n",
      "Epoch 5/50\n",
      "2/2 [==============================] - 6s 3s/step - loss: 2.8797 - acc: 0.7213 - val_loss: 0.7024 - val_acc: 0.4286\n",
      "Epoch 6/50\n",
      "2/2 [==============================] - 6s 3s/step - loss: 4.4430 - acc: 0.6885 - val_loss: 0.7234 - val_acc: 0.4286\n",
      "Epoch 7/50\n",
      "2/2 [==============================] - 6s 3s/step - loss: 3.4215 - acc: 0.7705 - val_loss: 0.7103 - val_acc: 0.4286\n",
      "Epoch 8/50\n",
      "2/2 [==============================] - 6s 3s/step - loss: 4.9481 - acc: 0.7705 - val_loss: 0.7236 - val_acc: 0.4286\n",
      "Epoch 9/50\n",
      "2/2 [==============================] - 6s 3s/step - loss: 3.9875 - acc: 0.7377 - val_loss: 0.7989 - val_acc: 0.4286\n",
      "Epoch 10/50\n",
      "2/2 [==============================] - 6s 3s/step - loss: 3.5194 - acc: 0.7705 - val_loss: 0.9368 - val_acc: 0.4286\n",
      "Epoch 11/50\n",
      "2/2 [==============================] - 6s 3s/step - loss: 2.3149 - acc: 0.8525 - val_loss: 1.1296 - val_acc: 0.4286\n",
      "Epoch 12/50\n",
      "2/2 [==============================] - 6s 3s/step - loss: 1.5728 - acc: 0.8033 - val_loss: 1.3000 - val_acc: 0.4286\n",
      "Epoch 13/50\n",
      "2/2 [==============================] - 6s 3s/step - loss: 2.7271 - acc: 0.7541 - val_loss: 1.5467 - val_acc: 0.4286\n",
      "Epoch 14/50\n",
      "2/2 [==============================] - 6s 3s/step - loss: 1.1696 - acc: 0.7377 - val_loss: 1.7884 - val_acc: 0.4286\n",
      "Epoch 15/50\n",
      "2/2 [==============================] - 6s 3s/step - loss: 2.3610 - acc: 0.7541 - val_loss: 2.0342 - val_acc: 0.4286\n",
      "Epoch 16/50\n",
      "2/2 [==============================] - 6s 3s/step - loss: 0.9231 - acc: 0.8852 - val_loss: 2.3484 - val_acc: 0.4286\n",
      "Epoch 17/50\n",
      "2/2 [==============================] - 6s 3s/step - loss: 2.0127 - acc: 0.8361 - val_loss: 2.4487 - val_acc: 0.4286\n",
      "Epoch 18/50\n",
      "2/2 [==============================] - 6s 3s/step - loss: 2.2315 - acc: 0.8361 - val_loss: 2.4353 - val_acc: 0.4286\n",
      "Epoch 19/50\n",
      "2/2 [==============================] - 6s 3s/step - loss: 1.9021 - acc: 0.8361 - val_loss: 2.4210 - val_acc: 0.4286\n",
      "Epoch 20/50\n",
      "2/2 [==============================] - 6s 3s/step - loss: 1.5644 - acc: 0.8525 - val_loss: 2.4962 - val_acc: 0.4286\n",
      "Epoch 21/50\n",
      "2/2 [==============================] - 6s 3s/step - loss: 2.0624 - acc: 0.7705 - val_loss: 2.7869 - val_acc: 0.4286\n",
      "Epoch 22/50\n",
      "2/2 [==============================] - 6s 3s/step - loss: 1.4325 - acc: 0.7377 - val_loss: 3.1289 - val_acc: 0.4286\n",
      "Epoch 23/50\n",
      "2/2 [==============================] - 6s 3s/step - loss: 1.1106 - acc: 0.8361 - val_loss: 3.4448 - val_acc: 0.4286\n",
      "Epoch 24/50\n",
      "2/2 [==============================] - 6s 3s/step - loss: 0.9094 - acc: 0.9016 - val_loss: 3.5794 - val_acc: 0.4286\n",
      "Epoch 25/50\n",
      "2/2 [==============================] - 6s 3s/step - loss: 1.4827 - acc: 0.8361 - val_loss: 3.5312 - val_acc: 0.4286\n",
      "Epoch 26/50\n",
      "2/2 [==============================] - 6s 3s/step - loss: 1.6726 - acc: 0.8689 - val_loss: 3.2395 - val_acc: 0.4286\n",
      "Epoch 27/50\n",
      "2/2 [==============================] - 6s 3s/step - loss: 0.7025 - acc: 0.8361 - val_loss: 3.0249 - val_acc: 0.4286\n",
      "Epoch 28/50\n",
      "2/2 [==============================] - 6s 3s/step - loss: 0.5397 - acc: 0.8361 - val_loss: 2.9226 - val_acc: 0.4286\n",
      "Epoch 29/50\n",
      "2/2 [==============================] - 6s 3s/step - loss: 1.0091 - acc: 0.8033 - val_loss: 2.8194 - val_acc: 0.4286\n",
      "Epoch 30/50\n",
      "2/2 [==============================] - 6s 3s/step - loss: 0.7055 - acc: 0.8689 - val_loss: 2.6591 - val_acc: 0.4286\n",
      "Epoch 31/50\n",
      "2/2 [==============================] - 6s 3s/step - loss: 0.8991 - acc: 0.8689 - val_loss: 2.6165 - val_acc: 0.4286\n",
      "Epoch 32/50\n",
      "2/2 [==============================] - 6s 3s/step - loss: 0.4676 - acc: 0.8361 - val_loss: 2.7116 - val_acc: 0.4286\n",
      "Epoch 33/50\n",
      "2/2 [==============================] - 6s 3s/step - loss: 0.4550 - acc: 0.9180 - val_loss: 2.7274 - val_acc: 0.4286\n",
      "Epoch 34/50\n",
      "2/2 [==============================] - 6s 3s/step - loss: 0.7159 - acc: 0.8525 - val_loss: 2.8072 - val_acc: 0.4286\n",
      "Epoch 35/50\n",
      "2/2 [==============================] - 6s 3s/step - loss: 1.1978 - acc: 0.8197 - val_loss: 2.8631 - val_acc: 0.4286\n",
      "Epoch 36/50\n",
      "2/2 [==============================] - 6s 3s/step - loss: 0.9008 - acc: 0.8033 - val_loss: 2.9090 - val_acc: 0.4286\n",
      "Epoch 37/50\n",
      "2/2 [==============================] - 6s 3s/step - loss: 0.3962 - acc: 0.8689 - val_loss: 3.0077 - val_acc: 0.4286\n",
      "Epoch 38/50\n",
      "2/2 [==============================] - 6s 3s/step - loss: 0.9471 - acc: 0.8197 - val_loss: 3.0659 - val_acc: 0.4286\n",
      "Epoch 39/50\n",
      "2/2 [==============================] - 6s 3s/step - loss: 0.8709 - acc: 0.8197 - val_loss: 3.1495 - val_acc: 0.4286\n",
      "Epoch 40/50\n",
      "2/2 [==============================] - 6s 3s/step - loss: 0.8232 - acc: 0.8361 - val_loss: 3.2187 - val_acc: 0.4286\n",
      "Epoch 41/50\n",
      "2/2 [==============================] - 6s 3s/step - loss: 1.1040 - acc: 0.7705 - val_loss: 3.2840 - val_acc: 0.4286\n",
      "Epoch 42/50\n",
      "2/2 [==============================] - 6s 3s/step - loss: 0.4233 - acc: 0.8689 - val_loss: 3.4382 - val_acc: 0.4286\n",
      "Epoch 43/50\n",
      "2/2 [==============================] - 6s 3s/step - loss: 0.7103 - acc: 0.8197 - val_loss: 3.5446 - val_acc: 0.4286\n",
      "Epoch 44/50\n",
      "2/2 [==============================] - 6s 3s/step - loss: 0.7028 - acc: 0.7869 - val_loss: 3.5736 - val_acc: 0.4286\n",
      "Epoch 45/50\n",
      "2/2 [==============================] - 6s 3s/step - loss: 0.3760 - acc: 0.8525 - val_loss: 3.6344 - val_acc: 0.4286\n",
      "Epoch 46/50\n",
      "2/2 [==============================] - 6s 3s/step - loss: 0.5899 - acc: 0.8033 - val_loss: 3.6406 - val_acc: 0.4286\n",
      "Epoch 47/50\n",
      "2/2 [==============================] - 6s 3s/step - loss: 0.2749 - acc: 0.8689 - val_loss: 3.6180 - val_acc: 0.4286\n",
      "Epoch 48/50\n",
      "2/2 [==============================] - 6s 3s/step - loss: 0.4232 - acc: 0.7869 - val_loss: 3.6178 - val_acc: 0.4286\n",
      "Epoch 49/50\n",
      "2/2 [==============================] - 6s 3s/step - loss: 0.4348 - acc: 0.8525 - val_loss: 3.6741 - val_acc: 0.4286\n",
      "Epoch 50/50\n",
      "2/2 [==============================] - 6s 3s/step - loss: 0.2568 - acc: 0.9180 - val_loss: 3.7631 - val_acc: 0.4286\n"
     ]
    }
   ],
   "source": [
    "\n",
    "hist_2 = model_2.fit(X_train, y_train, \n",
    "                batch_size=32,\n",
    "                epochs=50,\n",
    "                verbose=True,\n",
    "                validation_split= 0.1)"
   ]
  },
  {
   "cell_type": "code",
   "execution_count": 47,
   "metadata": {},
   "outputs": [
    {
     "name": "stdout",
     "output_type": "stream",
     "text": [
      "3/3 [==============================] - 1s 205ms/step - loss: 2.7082 - acc: 0.5882\n",
      "1/1 [==============================] - 0s 219ms/step - loss: 3.6617 - acc: 0.4444\n",
      "CNN Train Score: [2.70820689201355, 0.5882353186607361]\n",
      "CNN Test Score: [3.6616804599761963, 0.4444444477558136]\n"
     ]
    }
   ],
   "source": [
    "train_score = model_2.evaluate(X_train, y_train)\n",
    "test_score = model_2.evaluate(X_test, y_test)\n",
    "print('CNN Train Score:', train_score)\n",
    "print('CNN Test Score:', test_score)\n"
   ]
  },
  {
   "cell_type": "code",
   "execution_count": 48,
   "metadata": {},
   "outputs": [
    {
     "data": {
      "image/png": "[encoded data removed]",
      "text/plain": [
       "<Figure size 640x480 with 1 Axes>"
      ]
     },
     "metadata": {},
     "output_type": "display_data"
    }
   ],
   "source": [
    "fig = plt.figure()\n",
    "plt.plot(hist_2.history['loss'], color='teal', label='loss')\n",
    "plt.plot(hist_2.history['val_loss'], color='orange', label='val_loss')\n",
    "fig.suptitle('Loss', fontsize=20)\n",
    "plt.legend(loc=\"upper left\")\n",
    "plt.show()"
   ]
  },
  {
   "cell_type": "code",
   "execution_count": 49,
   "metadata": {},
   "outputs": [
    {
     "data": {
      "image/png": "[encoded data removed]",
      "text/plain": [
       "<Figure size 640x480 with 1 Axes>"
      ]
     },
     "metadata": {},
     "output_type": "display_data"
    }
   ],
   "source": [
    "fig = plt.figure()\n",
    "plt.plot(hist_2.history['acc'], color='teal', label='accuracy')\n",
    "plt.plot(hist_2.history['val_acc'], color='orange', label='val_accuracy')\n",
    "fig.suptitle('Accuracy', fontsize=20)\n",
    "plt.legend(loc=\"upper left\")\n",
    "plt.show()"
   ]
  },
  {
   "cell_type": "code",
   "execution_count": null,
   "metadata": {},
   "outputs": [],
   "source": []
  }
 ],
 "metadata": {
  "kernelspec": {
   "display_name": "Python 3",
   "language": "python",
   "name": "python3"
  },
  "language_info": {
   "codemirror_mode": {
    "name": "ipython",
    "version": 3
   },
   "file_extension": ".py",
   "mimetype": "text/x-python",
   "name": "python",
   "nbconvert_exporter": "python",
   "pygments_lexer": "ipython3",
   "version": "3.10.5"
  }
 },
 "nbformat": 4,
 "nbformat_minor": 2
}
