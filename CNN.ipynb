{
 "cells": [
  {
   "cell_type": "code",
   "execution_count": 1,
   "metadata": {},
   "outputs": [
    {
     "name": "stdout",
     "output_type": "stream",
     "text": [
      "WARNING:tensorflow:From g:\\python installation\\lib\\site-packages\\keras\\src\\losses.py:2976: The name tf.losses.sparse_softmax_cross_entropy is deprecated. Please use tf.compat.v1.losses.sparse_softmax_cross_entropy instead.\n",
      "\n"
     ]
    }
   ],
   "source": [
    "import pandas as pd\n",
    "import numpy as np\n",
    "import matplotlib.pyplot as plt\n",
    "from sklearn.model_selection import train_test_split\n",
    "from sklearn.impute import SimpleImputer\n",
    "from sklearn.preprocessing import StandardScaler\n",
    "from sklearn.metrics import classification_report, confusion_matrix\n",
    "from tensorflow.keras.models import Sequential # type: ignore\n",
    "from tensorflow.keras.layers import Conv2D, MaxPooling2D, Flatten, Dense, Dropout # type: ignore\n",
    "from keras.optimizers import Adam\n",
    "import cv2 as cv\n",
    "from PIL import Image"
   ]
  },
  {
   "cell_type": "code",
   "execution_count": 2,
   "metadata": {},
   "outputs": [],
   "source": [
    "# Load the data\n",
    "split_df = pd.read_csv('split_df.csv', encoding='utf-8-sig')\n"
   ]
  },
  {
   "cell_type": "code",
   "execution_count": 3,
   "metadata": {},
   "outputs": [
    {
     "data": {
      "text/html": [
       "<div>\n",
       "<style scoped>\n",
       "    .dataframe tbody tr th:only-of-type {\n",
       "        vertical-align: middle;\n",
       "    }\n",
       "\n",
       "    .dataframe tbody tr th {\n",
       "        vertical-align: top;\n",
       "    }\n",
       "\n",
       "    .dataframe thead th {\n",
       "        text-align: right;\n",
       "    }\n",
       "</style>\n",
       "<table border=\"1\" class=\"dataframe\">\n",
       "  <thead>\n",
       "    <tr style=\"text-align: right;\">\n",
       "      <th></th>\n",
       "      <th>Table 1</th>\n",
       "      <th>Spectacles</th>\n",
       "      <th>Age</th>\n",
       "      <th>Gender</th>\n",
       "      <th>Name</th>\n",
       "      <th>id</th>\n",
       "      <th>Eye</th>\n",
       "      <th>VA</th>\n",
       "      <th>CDR</th>\n",
       "      <th>Diagnosis</th>\n",
       "      <th>IOP</th>\n",
       "      <th>Image</th>\n",
       "    </tr>\n",
       "  </thead>\n",
       "  <tbody>\n",
       "    <tr>\n",
       "      <th>0</th>\n",
       "      <td>زرق أيمن تم معالجته جراحيا</td>\n",
       "      <td>0.0</td>\n",
       "      <td>64</td>\n",
       "      <td>0</td>\n",
       "      <td>شاهين ميرو</td>\n",
       "      <td>1.0</td>\n",
       "      <td>0</td>\n",
       "      <td>0.6</td>\n",
       "      <td>0.5</td>\n",
       "      <td>0</td>\n",
       "      <td>14.0</td>\n",
       "      <td>Data/SHAHEN_MERO Optic nerve.png_ left.png</td>\n",
       "    </tr>\n",
       "    <tr>\n",
       "      <th>1</th>\n",
       "      <td>زرق أيمن تم معالجته جراحيا</td>\n",
       "      <td>0.0</td>\n",
       "      <td>64</td>\n",
       "      <td>0</td>\n",
       "      <td>شاهين ميرو</td>\n",
       "      <td>1.0</td>\n",
       "      <td>1</td>\n",
       "      <td>0.7</td>\n",
       "      <td>0.9</td>\n",
       "      <td>1</td>\n",
       "      <td>23.0</td>\n",
       "      <td>Data/SHAHEN_MERO Optic nerve.png_ left.png</td>\n",
       "    </tr>\n",
       "    <tr>\n",
       "      <th>2</th>\n",
       "      <td>زرق متقدم</td>\n",
       "      <td>1.0</td>\n",
       "      <td>62</td>\n",
       "      <td>0</td>\n",
       "      <td>أيمن سمارة</td>\n",
       "      <td>2.0</td>\n",
       "      <td>0</td>\n",
       "      <td>NaN</td>\n",
       "      <td>NaN</td>\n",
       "      <td>1</td>\n",
       "      <td>25.0</td>\n",
       "      <td>Data/SHAHEN_MERO Optic nerve.png_ right.png</td>\n",
       "    </tr>\n",
       "    <tr>\n",
       "      <th>3</th>\n",
       "      <td>زرق متقدم</td>\n",
       "      <td>1.0</td>\n",
       "      <td>62</td>\n",
       "      <td>0</td>\n",
       "      <td>أيمن سمارة</td>\n",
       "      <td>2.0</td>\n",
       "      <td>1</td>\n",
       "      <td>9.0</td>\n",
       "      <td>0.8</td>\n",
       "      <td>1</td>\n",
       "      <td>40.0</td>\n",
       "      <td>Data/SHAHEN_MERO Optic nerve.png_ right.png</td>\n",
       "    </tr>\n",
       "    <tr>\n",
       "      <th>4</th>\n",
       "      <td>لا يوجد زرق</td>\n",
       "      <td>0.0</td>\n",
       "      <td>48</td>\n",
       "      <td>1</td>\n",
       "      <td>رندة ناصر</td>\n",
       "      <td>3.0</td>\n",
       "      <td>0</td>\n",
       "      <td>1.0</td>\n",
       "      <td>0.5</td>\n",
       "      <td>0</td>\n",
       "      <td>15.0</td>\n",
       "      <td>NaN</td>\n",
       "    </tr>\n",
       "    <tr>\n",
       "      <th>...</th>\n",
       "      <td>...</td>\n",
       "      <td>...</td>\n",
       "      <td>...</td>\n",
       "      <td>...</td>\n",
       "      <td>...</td>\n",
       "      <td>...</td>\n",
       "      <td>...</td>\n",
       "      <td>...</td>\n",
       "      <td>...</td>\n",
       "      <td>...</td>\n",
       "      <td>...</td>\n",
       "      <td>...</td>\n",
       "    </tr>\n",
       "    <tr>\n",
       "      <th>85</th>\n",
       "      <td>زرق أيسر تم معالجته جراحيا</td>\n",
       "      <td>1.0</td>\n",
       "      <td>55</td>\n",
       "      <td>1</td>\n",
       "      <td>زريفة المحمد</td>\n",
       "      <td>43.0</td>\n",
       "      <td>1</td>\n",
       "      <td>NaN</td>\n",
       "      <td>NaN</td>\n",
       "      <td>0</td>\n",
       "      <td>NaN</td>\n",
       "      <td>Data/BASEL_BASH Optic nerve.png_ left.png</td>\n",
       "    </tr>\n",
       "    <tr>\n",
       "      <th>86</th>\n",
       "      <td>مريض زرقي ثانوي بعد استخراج ساد لا يوجد اصابة ...</td>\n",
       "      <td>0.0</td>\n",
       "      <td>71</td>\n",
       "      <td>0</td>\n",
       "      <td>هيثم قزاز</td>\n",
       "      <td>44.0</td>\n",
       "      <td>0</td>\n",
       "      <td>0.3</td>\n",
       "      <td>0.5</td>\n",
       "      <td>1</td>\n",
       "      <td>15.0</td>\n",
       "      <td>Data/BASEL_BASH Optic nerve.png_ right.png</td>\n",
       "    </tr>\n",
       "    <tr>\n",
       "      <th>87</th>\n",
       "      <td>مريض زرقي ثانوي بعد استخراج ساد لا يوجد اصابة ...</td>\n",
       "      <td>0.0</td>\n",
       "      <td>71</td>\n",
       "      <td>0</td>\n",
       "      <td>هيثم قزاز</td>\n",
       "      <td>44.0</td>\n",
       "      <td>1</td>\n",
       "      <td>0.6</td>\n",
       "      <td>0.7</td>\n",
       "      <td>1</td>\n",
       "      <td>16.0</td>\n",
       "      <td>Data/BASEL_BASH Optic nerve.png_ right.png</td>\n",
       "    </tr>\n",
       "    <tr>\n",
       "      <th>88</th>\n",
       "      <td>لا يوجد زرق</td>\n",
       "      <td>1.0</td>\n",
       "      <td>65</td>\n",
       "      <td>0</td>\n",
       "      <td>حمود غشام</td>\n",
       "      <td>45.0</td>\n",
       "      <td>0</td>\n",
       "      <td>0.5</td>\n",
       "      <td>0.3</td>\n",
       "      <td>0</td>\n",
       "      <td>15.0</td>\n",
       "      <td>Data/NEZAR_HELOU Optic nerve.png_ left.png</td>\n",
       "    </tr>\n",
       "    <tr>\n",
       "      <th>89</th>\n",
       "      <td>لا يوجد زرق</td>\n",
       "      <td>1.0</td>\n",
       "      <td>65</td>\n",
       "      <td>0</td>\n",
       "      <td>حمود غشام</td>\n",
       "      <td>45.0</td>\n",
       "      <td>1</td>\n",
       "      <td>0.2</td>\n",
       "      <td>0.3</td>\n",
       "      <td>0</td>\n",
       "      <td>12.0</td>\n",
       "      <td>Data/NEZAR_HELOU Optic nerve.png_ left.png</td>\n",
       "    </tr>\n",
       "  </tbody>\n",
       "</table>\n",
       "<p>90 rows × 12 columns</p>\n",
       "</div>"
      ],
      "text/plain": [
       "                                              Table 1  Spectacles  Age  \\\n",
       "0                          زرق أيمن تم معالجته جراحيا         0.0   64   \n",
       "1                          زرق أيمن تم معالجته جراحيا         0.0   64   \n",
       "2                                           زرق متقدم         1.0   62   \n",
       "3                                           زرق متقدم         1.0   62   \n",
       "4                                         لا يوجد زرق         0.0   48   \n",
       "..                                                ...         ...  ...   \n",
       "85                         زرق أيسر تم معالجته جراحيا         1.0   55   \n",
       "86  مريض زرقي ثانوي بعد استخراج ساد لا يوجد اصابة ...         0.0   71   \n",
       "87  مريض زرقي ثانوي بعد استخراج ساد لا يوجد اصابة ...         0.0   71   \n",
       "88                                        لا يوجد زرق         1.0   65   \n",
       "89                                        لا يوجد زرق         1.0   65   \n",
       "\n",
       "    Gender          Name    id  Eye   VA  CDR  Diagnosis   IOP  \\\n",
       "0        0    شاهين ميرو   1.0    0  0.6  0.5          0  14.0   \n",
       "1        0    شاهين ميرو   1.0    1  0.7  0.9          1  23.0   \n",
       "2        0    أيمن سمارة   2.0    0  NaN  NaN          1  25.0   \n",
       "3        0    أيمن سمارة   2.0    1  9.0  0.8          1  40.0   \n",
       "4        1     رندة ناصر   3.0    0  1.0  0.5          0  15.0   \n",
       "..     ...           ...   ...  ...  ...  ...        ...   ...   \n",
       "85       1  زريفة المحمد  43.0    1  NaN  NaN          0   NaN   \n",
       "86       0     هيثم قزاز  44.0    0  0.3  0.5          1  15.0   \n",
       "87       0     هيثم قزاز  44.0    1  0.6  0.7          1  16.0   \n",
       "88       0     حمود غشام  45.0    0  0.5  0.3          0  15.0   \n",
       "89       0     حمود غشام  45.0    1  0.2  0.3          0  12.0   \n",
       "\n",
       "                                          Image  \n",
       "0    Data/SHAHEN_MERO Optic nerve.png_ left.png  \n",
       "1    Data/SHAHEN_MERO Optic nerve.png_ left.png  \n",
       "2   Data/SHAHEN_MERO Optic nerve.png_ right.png  \n",
       "3   Data/SHAHEN_MERO Optic nerve.png_ right.png  \n",
       "4                                           NaN  \n",
       "..                                          ...  \n",
       "85    Data/BASEL_BASH Optic nerve.png_ left.png  \n",
       "86   Data/BASEL_BASH Optic nerve.png_ right.png  \n",
       "87   Data/BASEL_BASH Optic nerve.png_ right.png  \n",
       "88   Data/NEZAR_HELOU Optic nerve.png_ left.png  \n",
       "89   Data/NEZAR_HELOU Optic nerve.png_ left.png  \n",
       "\n",
       "[90 rows x 12 columns]"
      ]
     },
     "execution_count": 3,
     "metadata": {},
     "output_type": "execute_result"
    }
   ],
   "source": [
    "split_df"
   ]
  },
  {
   "cell_type": "code",
   "execution_count": 4,
   "metadata": {},
   "outputs": [
    {
     "data": {
      "text/plain": [
       "Age\n",
       "64    10\n",
       "65     6\n",
       "25     4\n",
       "67     4\n",
       "73     4\n",
       "62     4\n",
       "55     4\n",
       "58     4\n",
       "70     4\n",
       "50     2\n",
       "59     2\n",
       "29     2\n",
       "17     2\n",
       "48     2\n",
       "37     2\n",
       "52     2\n",
       "32     2\n",
       "45     2\n",
       "60     2\n",
       "44     2\n",
       "69     2\n",
       "43     2\n",
       "12     2\n",
       "66     2\n",
       "24     2\n",
       "53     2\n",
       "56     2\n",
       "39     2\n",
       "68     2\n",
       "61     2\n",
       "76     2\n",
       "71     2\n",
       "Name: count, dtype: int64"
      ]
     },
     "execution_count": 4,
     "metadata": {},
     "output_type": "execute_result"
    }
   ],
   "source": [
    "split_df['Age'].value_counts()"
   ]
  },
  {
   "cell_type": "code",
   "execution_count": 5,
   "metadata": {},
   "outputs": [],
   "source": [
    "split_df = split_df.drop(['Table 1', 'Gender', 'id', 'Age', 'Spectacles'], axis=1)"
   ]
  },
  {
   "cell_type": "code",
   "execution_count": 6,
   "metadata": {},
   "outputs": [
    {
     "data": {
      "text/plain": [
       "4"
      ]
     },
     "execution_count": 6,
     "metadata": {},
     "output_type": "execute_result"
    }
   ],
   "source": [
    "split_df['Image'].isnull().sum()"
   ]
  },
  {
   "cell_type": "code",
   "execution_count": 7,
   "metadata": {},
   "outputs": [
    {
     "data": {
      "text/html": [
       "<div>\n",
       "<style scoped>\n",
       "    .dataframe tbody tr th:only-of-type {\n",
       "        vertical-align: middle;\n",
       "    }\n",
       "\n",
       "    .dataframe tbody tr th {\n",
       "        vertical-align: top;\n",
       "    }\n",
       "\n",
       "    .dataframe thead th {\n",
       "        text-align: right;\n",
       "    }\n",
       "</style>\n",
       "<table border=\"1\" class=\"dataframe\">\n",
       "  <thead>\n",
       "    <tr style=\"text-align: right;\">\n",
       "      <th></th>\n",
       "      <th>Name</th>\n",
       "      <th>Eye</th>\n",
       "      <th>VA</th>\n",
       "      <th>CDR</th>\n",
       "      <th>Diagnosis</th>\n",
       "      <th>IOP</th>\n",
       "      <th>Image</th>\n",
       "    </tr>\n",
       "  </thead>\n",
       "  <tbody>\n",
       "    <tr>\n",
       "      <th>4</th>\n",
       "      <td>رندة ناصر</td>\n",
       "      <td>0</td>\n",
       "      <td>1.0</td>\n",
       "      <td>0.5</td>\n",
       "      <td>0</td>\n",
       "      <td>15.0</td>\n",
       "      <td>NaN</td>\n",
       "    </tr>\n",
       "    <tr>\n",
       "      <th>5</th>\n",
       "      <td>رندة ناصر</td>\n",
       "      <td>1</td>\n",
       "      <td>1.0</td>\n",
       "      <td>0.4</td>\n",
       "      <td>0</td>\n",
       "      <td>14.0</td>\n",
       "      <td>NaN</td>\n",
       "    </tr>\n",
       "    <tr>\n",
       "      <th>18</th>\n",
       "      <td>خديجة كبة</td>\n",
       "      <td>0</td>\n",
       "      <td>0.5</td>\n",
       "      <td>0.3</td>\n",
       "      <td>1</td>\n",
       "      <td>36.0</td>\n",
       "      <td>NaN</td>\n",
       "    </tr>\n",
       "    <tr>\n",
       "      <th>19</th>\n",
       "      <td>خديجة كبة</td>\n",
       "      <td>1</td>\n",
       "      <td>0.7</td>\n",
       "      <td>0.3</td>\n",
       "      <td>0</td>\n",
       "      <td>17.0</td>\n",
       "      <td>NaN</td>\n",
       "    </tr>\n",
       "  </tbody>\n",
       "</table>\n",
       "</div>"
      ],
      "text/plain": [
       "         Name  Eye   VA  CDR  Diagnosis   IOP Image\n",
       "4   رندة ناصر    0  1.0  0.5          0  15.0   NaN\n",
       "5   رندة ناصر    1  1.0  0.4          0  14.0   NaN\n",
       "18  خديجة كبة    0  0.5  0.3          1  36.0   NaN\n",
       "19  خديجة كبة    1  0.7  0.3          0  17.0   NaN"
      ]
     },
     "execution_count": 7,
     "metadata": {},
     "output_type": "execute_result"
    }
   ],
   "source": [
    "# split_df['Image']\n",
    "split_df[split_df['Image'].isnull()]"
   ]
  },
  {
   "cell_type": "code",
   "execution_count": 8,
   "metadata": {},
   "outputs": [],
   "source": [
    "split_df = split_df.drop(['Name','Eye'], axis=1)"
   ]
  },
  {
   "cell_type": "code",
   "execution_count": 9,
   "metadata": {},
   "outputs": [],
   "source": [
    "split_df.dropna(inplace=True)"
   ]
  },
  {
   "cell_type": "code",
   "execution_count": 10,
   "metadata": {},
   "outputs": [
    {
     "data": {
      "text/html": [
       "<div>\n",
       "<style scoped>\n",
       "    .dataframe tbody tr th:only-of-type {\n",
       "        vertical-align: middle;\n",
       "    }\n",
       "\n",
       "    .dataframe tbody tr th {\n",
       "        vertical-align: top;\n",
       "    }\n",
       "\n",
       "    .dataframe thead th {\n",
       "        text-align: right;\n",
       "    }\n",
       "</style>\n",
       "<table border=\"1\" class=\"dataframe\">\n",
       "  <thead>\n",
       "    <tr style=\"text-align: right;\">\n",
       "      <th></th>\n",
       "      <th>VA</th>\n",
       "      <th>CDR</th>\n",
       "      <th>Diagnosis</th>\n",
       "      <th>IOP</th>\n",
       "      <th>Image</th>\n",
       "    </tr>\n",
       "  </thead>\n",
       "  <tbody>\n",
       "    <tr>\n",
       "      <th>0</th>\n",
       "      <td>0.6</td>\n",
       "      <td>0.5</td>\n",
       "      <td>0</td>\n",
       "      <td>14.0</td>\n",
       "      <td>Data/SHAHEN_MERO Optic nerve.png_ left.png</td>\n",
       "    </tr>\n",
       "    <tr>\n",
       "      <th>1</th>\n",
       "      <td>0.7</td>\n",
       "      <td>0.9</td>\n",
       "      <td>1</td>\n",
       "      <td>23.0</td>\n",
       "      <td>Data/SHAHEN_MERO Optic nerve.png_ left.png</td>\n",
       "    </tr>\n",
       "    <tr>\n",
       "      <th>3</th>\n",
       "      <td>9.0</td>\n",
       "      <td>0.8</td>\n",
       "      <td>1</td>\n",
       "      <td>40.0</td>\n",
       "      <td>Data/SHAHEN_MERO Optic nerve.png_ right.png</td>\n",
       "    </tr>\n",
       "    <tr>\n",
       "      <th>6</th>\n",
       "      <td>0.2</td>\n",
       "      <td>0.7</td>\n",
       "      <td>1</td>\n",
       "      <td>10.0</td>\n",
       "      <td>Data/AYMAN_SAMARA_20240121_124719_Disc_3D_R_SI...</td>\n",
       "    </tr>\n",
       "    <tr>\n",
       "      <th>7</th>\n",
       "      <td>0.1</td>\n",
       "      <td>0.7</td>\n",
       "      <td>1</td>\n",
       "      <td>14.0</td>\n",
       "      <td>Data/AYMAN_SAMARA_20240121_124719_Disc_3D_R_SI...</td>\n",
       "    </tr>\n",
       "    <tr>\n",
       "      <th>...</th>\n",
       "      <td>...</td>\n",
       "      <td>...</td>\n",
       "      <td>...</td>\n",
       "      <td>...</td>\n",
       "      <td>...</td>\n",
       "    </tr>\n",
       "    <tr>\n",
       "      <th>84</th>\n",
       "      <td>0.2</td>\n",
       "      <td>0.8</td>\n",
       "      <td>1</td>\n",
       "      <td>10.0</td>\n",
       "      <td>Data/BASEL_BASH Optic nerve.png_ left.png</td>\n",
       "    </tr>\n",
       "    <tr>\n",
       "      <th>86</th>\n",
       "      <td>0.3</td>\n",
       "      <td>0.5</td>\n",
       "      <td>1</td>\n",
       "      <td>15.0</td>\n",
       "      <td>Data/BASEL_BASH Optic nerve.png_ right.png</td>\n",
       "    </tr>\n",
       "    <tr>\n",
       "      <th>87</th>\n",
       "      <td>0.6</td>\n",
       "      <td>0.7</td>\n",
       "      <td>1</td>\n",
       "      <td>16.0</td>\n",
       "      <td>Data/BASEL_BASH Optic nerve.png_ right.png</td>\n",
       "    </tr>\n",
       "    <tr>\n",
       "      <th>88</th>\n",
       "      <td>0.5</td>\n",
       "      <td>0.3</td>\n",
       "      <td>0</td>\n",
       "      <td>15.0</td>\n",
       "      <td>Data/NEZAR_HELOU Optic nerve.png_ left.png</td>\n",
       "    </tr>\n",
       "    <tr>\n",
       "      <th>89</th>\n",
       "      <td>0.2</td>\n",
       "      <td>0.3</td>\n",
       "      <td>0</td>\n",
       "      <td>12.0</td>\n",
       "      <td>Data/NEZAR_HELOU Optic nerve.png_ left.png</td>\n",
       "    </tr>\n",
       "  </tbody>\n",
       "</table>\n",
       "<p>66 rows × 5 columns</p>\n",
       "</div>"
      ],
      "text/plain": [
       "     VA  CDR  Diagnosis   IOP  \\\n",
       "0   0.6  0.5          0  14.0   \n",
       "1   0.7  0.9          1  23.0   \n",
       "3   9.0  0.8          1  40.0   \n",
       "6   0.2  0.7          1  10.0   \n",
       "7   0.1  0.7          1  14.0   \n",
       "..  ...  ...        ...   ...   \n",
       "84  0.2  0.8          1  10.0   \n",
       "86  0.3  0.5          1  15.0   \n",
       "87  0.6  0.7          1  16.0   \n",
       "88  0.5  0.3          0  15.0   \n",
       "89  0.2  0.3          0  12.0   \n",
       "\n",
       "                                                Image  \n",
       "0          Data/SHAHEN_MERO Optic nerve.png_ left.png  \n",
       "1          Data/SHAHEN_MERO Optic nerve.png_ left.png  \n",
       "3         Data/SHAHEN_MERO Optic nerve.png_ right.png  \n",
       "6   Data/AYMAN_SAMARA_20240121_124719_Disc_3D_R_SI...  \n",
       "7   Data/AYMAN_SAMARA_20240121_124719_Disc_3D_R_SI...  \n",
       "..                                                ...  \n",
       "84          Data/BASEL_BASH Optic nerve.png_ left.png  \n",
       "86         Data/BASEL_BASH Optic nerve.png_ right.png  \n",
       "87         Data/BASEL_BASH Optic nerve.png_ right.png  \n",
       "88         Data/NEZAR_HELOU Optic nerve.png_ left.png  \n",
       "89         Data/NEZAR_HELOU Optic nerve.png_ left.png  \n",
       "\n",
       "[66 rows x 5 columns]"
      ]
     },
     "execution_count": 10,
     "metadata": {},
     "output_type": "execute_result"
    }
   ],
   "source": [
    "split_df"
   ]
  },
  {
   "cell_type": "code",
   "execution_count": 11,
   "metadata": {},
   "outputs": [],
   "source": [
    "orb = cv.ORB_create()\n",
    "\n",
    "def extract_orb_features(image_path):\n",
    "    image = cv.imread(image_path)\n",
    "    gray = cv.cvtColor(image, cv.COLOR_BGR2GRAY)\n",
    "    keypoints, descriptors = orb.detectAndCompute(gray, None)\n",
    "    return descriptors.flatten() if descriptors is not None else np.zeros(500)"
   ]
  },
  {
   "cell_type": "code",
   "execution_count": 12,
   "metadata": {},
   "outputs": [],
   "source": [
    "split_df['ORB_features'] = split_df['Image'].apply(extract_orb_features)"
   ]
  },
  {
   "cell_type": "code",
   "execution_count": 13,
   "metadata": {},
   "outputs": [
    {
     "data": {
      "text/plain": [
       "VA              66\n",
       "CDR             66\n",
       "Diagnosis       66\n",
       "IOP             66\n",
       "Image           66\n",
       "ORB_features    66\n",
       "dtype: int64"
      ]
     },
     "execution_count": 13,
     "metadata": {},
     "output_type": "execute_result"
    }
   ],
   "source": [
    "split_df.count() "
   ]
  },
  {
   "cell_type": "code",
   "execution_count": 14,
   "metadata": {},
   "outputs": [],
   "source": [
    "# Load and preprocess images for each patient\n",
    "image_paths =  split_df['Image'].tolist()\n"
   ]
  },
  {
   "cell_type": "code",
   "execution_count": 15,
   "metadata": {},
   "outputs": [
    {
     "data": {
      "text/plain": [
       "['Data/SHAHEN_MERO Optic nerve.png_ left.png',\n",
       " 'Data/SHAHEN_MERO Optic nerve.png_ left.png',\n",
       " 'Data/SHAHEN_MERO Optic nerve.png_ right.png',\n",
       " 'Data/AYMAN_SAMARA_20240121_124719_Disc_3D_R_SINGLE_6mm_512x112.png',\n",
       " 'Data/AYMAN_SAMARA_20240121_124719_Disc_3D_R_SINGLE_6mm_512x112.png',\n",
       " 'Data/RANDA_NASER_2 Optic nerve.png_ right.png',\n",
       " 'Data/RANDA_NASER_2 Optic nerve.png_ right.png',\n",
       " 'Data/MOUSTAFA_MALA_ALI Optic nerve.png_ left.png',\n",
       " 'Data/MOUSTAFA_MALA_ALI Optic nerve.png_ left.png',\n",
       " 'Data/MOUSTAFA_MALA_ALI Optic nerve.png_ right.png',\n",
       " 'Data/MOUSTAFA_MALA_ALI Optic nerve.png_ right.png',\n",
       " 'Data/6361_NAHLA_ABO_QORA_left.png',\n",
       " 'Data/6361_NAHLA_ABO_QORA_left.png',\n",
       " 'Data/LATEFA_IBRAHEM Optic nerve.png_ left.png',\n",
       " 'Data/LATEFA_IBRAHEM Optic nerve.png_ left.png',\n",
       " 'Data/FATEMA_FARHAN Optic nerve.png_ left.png',\n",
       " 'Data/FATEMA_FARHAN Optic nerve.png_ left.png',\n",
       " 'Data/FATEMA_FARHAN Optic nerve.png_ right.png',\n",
       " 'Data/FATEMA_FARHAN Optic nerve.png_ right.png',\n",
       " 'Data/SOBHI_WAZAN Optic nerve.png_ right.png',\n",
       " 'Data/SOBHI_WAZAN Optic nerve.png_ right.png',\n",
       " 'Data/HIBA_LOLO Optic nerve.png_ left.png',\n",
       " 'Data/HIBA_LOLO Optic nerve.png_ left.png',\n",
       " 'Data/HIBA_LOLO Optic nerve.png_ right.png',\n",
       " 'Data/HIBA_LOLO Optic nerve.png_ right.png',\n",
       " 'Data/KHADEGA_KABEH Optic nerve.png_ left.png',\n",
       " 'Data/KHADEGA_KABEH Optic nerve.png_ left.png',\n",
       " 'Data/KHADEGA_KABEH Optic nerve.png_ right.png',\n",
       " 'Data/KHADEGA_KABEH Optic nerve.png_ right.png',\n",
       " 'Data/ABD_ALRAZAQ_BOEDANI Optic nerve.png_ right.png',\n",
       " 'Data/AHMAD_TAHAN Optic nerve.png_ left.png',\n",
       " 'Data/AHMAD_TAHAN Optic nerve.png_ left.png',\n",
       " 'Data/AHMAD_TAHAN Optic nerve.png_ right.png',\n",
       " 'Data/AHMAD_TAHAN Optic nerve.png_ right.png',\n",
       " 'Data/5919_HALEMA_SHEKHO Optic nerve.png_ left.png',\n",
       " 'Data/5919_HALEMA_SHEKHO Optic nerve.png_ left.png',\n",
       " 'Data/ALI_HOSEN Optic nerve.png_ left.png',\n",
       " 'Data/ALI_HOSEN Optic nerve.png_ left.png',\n",
       " 'Data/ALI_HOSEN Optic nerve.png_ right.png',\n",
       " 'Data/ALI_HOSEN Optic nerve.png_ right.png',\n",
       " 'Data/MOHY_ALDEN_KHASHOQ Optic nerve.png_ left.png',\n",
       " 'Data/MOHY_ALDEN_KHASHOQ Optic nerve.png_ left.png',\n",
       " 'Data/MOHY_ALDEN_KHASHOQ Optic nerve.png_ right.png',\n",
       " 'Data/MOHY_ALDEN_KHASHOQ Optic nerve.png_ right.png',\n",
       " 'Data/DALAL_MAHMODOptic nerve.png_ left.png',\n",
       " 'Data/DALAL_MAHMODOptic nerve.png_ left.png',\n",
       " 'Data/NEDAL_JREJ Optic nerve.png_ left.png',\n",
       " 'Data/NEDAL_JREJ Optic nerve.png_ left.png',\n",
       " 'Data/FATEMAH_KHALAF Optic nerve.png_ left.png',\n",
       " 'Data/FATEMAH_KHALAF Optic nerve.png_ left.png',\n",
       " 'Data/FATEMAH_KHALAF Optic nerve.png_ right.png',\n",
       " 'Data/NAJAH_NAHAR  Optic nerve.png_ right.png',\n",
       " 'Data/NAJAH_NAHAR  Optic nerve.png_ right.png',\n",
       " 'Data/5941_MARWA_MAHJOB Optic nerve.png_ left.png',\n",
       " 'Data/5941_MARWA_MAHJOB Optic nerve.png_ left.png',\n",
       " 'Data/5941_MARWA_MAHJOB Optic nerve.png_ right.png',\n",
       " 'Data/5941_MARWA_MAHJOB Optic nerve.png_ right.png',\n",
       " 'Data/ZOHER_MALAH Optic nerve.png_ left.png',\n",
       " 'Data/ZOHER_MALAH Optic nerve.png_ left.png',\n",
       " 'Data/ZOHER_MALAH Optic nerve.png_ right.png',\n",
       " 'Data/ZOHER_MALAH Optic nerve.png_ right.png',\n",
       " 'Data/BASEL_BASH Optic nerve.png_ left.png',\n",
       " 'Data/BASEL_BASH Optic nerve.png_ right.png',\n",
       " 'Data/BASEL_BASH Optic nerve.png_ right.png',\n",
       " 'Data/NEZAR_HELOU Optic nerve.png_ left.png',\n",
       " 'Data/NEZAR_HELOU Optic nerve.png_ left.png']"
      ]
     },
     "execution_count": 15,
     "metadata": {},
     "output_type": "execute_result"
    }
   ],
   "source": [
    "image_paths"
   ]
  },
  {
   "cell_type": "code",
   "execution_count": 16,
   "metadata": {},
   "outputs": [],
   "source": [
    "# images = [np.array(Image.open(path).convert('RGB').resize((200, 200))) for path in image_paths]  # Load and resize images\n",
    "# X_images = np.array(images) / 255.0  # Normalize pixel values to range [0, 1]"
   ]
  },
  {
   "cell_type": "code",
   "execution_count": 17,
   "metadata": {},
   "outputs": [],
   "source": [
    "# Drop columns not used for prediction\n",
    "y_data = split_df['Diagnosis']\n",
    "X_data = split_df.drop(['Image','Diagnosis'], axis=1)"
   ]
  },
  {
   "cell_type": "code",
   "execution_count": 18,
   "metadata": {},
   "outputs": [],
   "source": [
    "# # image_paths[0]\n",
    "# img = cv.imread('Data/SHAHEN_MERO Optic nerve.png_ left.png')\n",
    "# cv.imshow('Image', img)\n",
    "\n",
    "# cv.waitKey(0)\n",
    "# cv.destroyAllWindows()"
   ]
  },
  {
   "cell_type": "code",
   "execution_count": 19,
   "metadata": {},
   "outputs": [],
   "source": [
    "# X_images = []\n",
    "# # cv.imshow('',X_images)\n",
    "# # cv.waitKey(0)\n",
    "# # cv.destroyAllWindows()\n",
    "# for i in range(len(image_paths)):\n",
    "#     img = cv.imread(image_paths[i])\n",
    "#     flattened_image = img.flatten()\n",
    "#     X_images.append(flattened_image)"
   ]
  },
  {
   "cell_type": "code",
   "execution_count": 20,
   "metadata": {},
   "outputs": [],
   "source": [
    "# X_images = pd.DataFrame(X_images,columns='images')\n",
    "# X_images = pd.DataFrame({'Image': X_images})\n"
   ]
  },
  {
   "cell_type": "code",
   "execution_count": 21,
   "metadata": {},
   "outputs": [],
   "source": [
    "# X_images"
   ]
  },
  {
   "cell_type": "code",
   "execution_count": 22,
   "metadata": {},
   "outputs": [],
   "source": [
    "# X_images.isnull().sum()"
   ]
  },
  {
   "cell_type": "code",
   "execution_count": 23,
   "metadata": {},
   "outputs": [
    {
     "data": {
      "text/html": [
       "<div>\n",
       "<style scoped>\n",
       "    .dataframe tbody tr th:only-of-type {\n",
       "        vertical-align: middle;\n",
       "    }\n",
       "\n",
       "    .dataframe tbody tr th {\n",
       "        vertical-align: top;\n",
       "    }\n",
       "\n",
       "    .dataframe thead th {\n",
       "        text-align: right;\n",
       "    }\n",
       "</style>\n",
       "<table border=\"1\" class=\"dataframe\">\n",
       "  <thead>\n",
       "    <tr style=\"text-align: right;\">\n",
       "      <th></th>\n",
       "      <th>VA</th>\n",
       "      <th>CDR</th>\n",
       "      <th>IOP</th>\n",
       "      <th>ORB_features</th>\n",
       "    </tr>\n",
       "  </thead>\n",
       "  <tbody>\n",
       "    <tr>\n",
       "      <th>0</th>\n",
       "      <td>0.6</td>\n",
       "      <td>0.5</td>\n",
       "      <td>14.0</td>\n",
       "      <td>[13, 254, 157, 23, 145, 206, 39, 184, 242, 223...</td>\n",
       "    </tr>\n",
       "    <tr>\n",
       "      <th>1</th>\n",
       "      <td>0.7</td>\n",
       "      <td>0.9</td>\n",
       "      <td>23.0</td>\n",
       "      <td>[13, 254, 157, 23, 145, 206, 39, 184, 242, 223...</td>\n",
       "    </tr>\n",
       "    <tr>\n",
       "      <th>3</th>\n",
       "      <td>9.0</td>\n",
       "      <td>0.8</td>\n",
       "      <td>40.0</td>\n",
       "      <td>[218, 169, 144, 178, 155, 153, 16, 206, 171, 5...</td>\n",
       "    </tr>\n",
       "    <tr>\n",
       "      <th>6</th>\n",
       "      <td>0.2</td>\n",
       "      <td>0.7</td>\n",
       "      <td>10.0</td>\n",
       "      <td>[198, 98, 254, 209, 238, 107, 251, 200, 255, 1...</td>\n",
       "    </tr>\n",
       "    <tr>\n",
       "      <th>7</th>\n",
       "      <td>0.1</td>\n",
       "      <td>0.7</td>\n",
       "      <td>14.0</td>\n",
       "      <td>[198, 98, 254, 209, 238, 107, 251, 200, 255, 1...</td>\n",
       "    </tr>\n",
       "    <tr>\n",
       "      <th>...</th>\n",
       "      <td>...</td>\n",
       "      <td>...</td>\n",
       "      <td>...</td>\n",
       "      <td>...</td>\n",
       "    </tr>\n",
       "    <tr>\n",
       "      <th>84</th>\n",
       "      <td>0.2</td>\n",
       "      <td>0.8</td>\n",
       "      <td>10.0</td>\n",
       "      <td>[175, 174, 204, 61, 232, 27, 108, 255, 23, 242...</td>\n",
       "    </tr>\n",
       "    <tr>\n",
       "      <th>86</th>\n",
       "      <td>0.3</td>\n",
       "      <td>0.5</td>\n",
       "      <td>15.0</td>\n",
       "      <td>[133, 254, 143, 146, 236, 244, 167, 222, 142, ...</td>\n",
       "    </tr>\n",
       "    <tr>\n",
       "      <th>87</th>\n",
       "      <td>0.6</td>\n",
       "      <td>0.7</td>\n",
       "      <td>16.0</td>\n",
       "      <td>[133, 254, 143, 146, 236, 244, 167, 222, 142, ...</td>\n",
       "    </tr>\n",
       "    <tr>\n",
       "      <th>88</th>\n",
       "      <td>0.5</td>\n",
       "      <td>0.3</td>\n",
       "      <td>15.0</td>\n",
       "      <td>[96, 42, 150, 152, 73, 233, 160, 72, 174, 189,...</td>\n",
       "    </tr>\n",
       "    <tr>\n",
       "      <th>89</th>\n",
       "      <td>0.2</td>\n",
       "      <td>0.3</td>\n",
       "      <td>12.0</td>\n",
       "      <td>[96, 42, 150, 152, 73, 233, 160, 72, 174, 189,...</td>\n",
       "    </tr>\n",
       "  </tbody>\n",
       "</table>\n",
       "<p>66 rows × 4 columns</p>\n",
       "</div>"
      ],
      "text/plain": [
       "     VA  CDR   IOP                                       ORB_features\n",
       "0   0.6  0.5  14.0  [13, 254, 157, 23, 145, 206, 39, 184, 242, 223...\n",
       "1   0.7  0.9  23.0  [13, 254, 157, 23, 145, 206, 39, 184, 242, 223...\n",
       "3   9.0  0.8  40.0  [218, 169, 144, 178, 155, 153, 16, 206, 171, 5...\n",
       "6   0.2  0.7  10.0  [198, 98, 254, 209, 238, 107, 251, 200, 255, 1...\n",
       "7   0.1  0.7  14.0  [198, 98, 254, 209, 238, 107, 251, 200, 255, 1...\n",
       "..  ...  ...   ...                                                ...\n",
       "84  0.2  0.8  10.0  [175, 174, 204, 61, 232, 27, 108, 255, 23, 242...\n",
       "86  0.3  0.5  15.0  [133, 254, 143, 146, 236, 244, 167, 222, 142, ...\n",
       "87  0.6  0.7  16.0  [133, 254, 143, 146, 236, 244, 167, 222, 142, ...\n",
       "88  0.5  0.3  15.0  [96, 42, 150, 152, 73, 233, 160, 72, 174, 189,...\n",
       "89  0.2  0.3  12.0  [96, 42, 150, 152, 73, 233, 160, 72, 174, 189,...\n",
       "\n",
       "[66 rows x 4 columns]"
      ]
     },
     "execution_count": 23,
     "metadata": {},
     "output_type": "execute_result"
    }
   ],
   "source": [
    "\n",
    "X_data"
   ]
  },
  {
   "cell_type": "code",
   "execution_count": 24,
   "metadata": {},
   "outputs": [
    {
     "data": {
      "text/plain": [
       "VA              0\n",
       "CDR             0\n",
       "IOP             0\n",
       "ORB_features    0\n",
       "dtype: int64"
      ]
     },
     "execution_count": 24,
     "metadata": {},
     "output_type": "execute_result"
    }
   ],
   "source": [
    "X_data.isnull().sum()"
   ]
  },
  {
   "cell_type": "code",
   "execution_count": 25,
   "metadata": {},
   "outputs": [],
   "source": [
    "# X_train = np.concatenate((X_data, X_images), axis=1)\n",
    "# X_data['images'] = X_images['Image']\n",
    "# for i in range(len(X_images)):\n",
    "#     X_data.at[i, 'images'] = X_images.at[i, 'Image']\n"
   ]
  },
  {
   "cell_type": "code",
   "execution_count": 26,
   "metadata": {},
   "outputs": [
    {
     "data": {
      "text/plain": [
       "VA              66\n",
       "CDR             66\n",
       "IOP             66\n",
       "ORB_features    66\n",
       "dtype: int64"
      ]
     },
     "execution_count": 26,
     "metadata": {},
     "output_type": "execute_result"
    }
   ],
   "source": [
    "X_data.count()"
   ]
  },
  {
   "cell_type": "code",
   "execution_count": 27,
   "metadata": {},
   "outputs": [],
   "source": [
    "# Split data into train and test sets\n",
    "X_train, X_test, y_train, y_test = train_test_split(X_data, y_data, test_size=0.1, random_state=44, shuffle=True)\n"
   ]
  },
  {
   "cell_type": "code",
   "execution_count": null,
   "metadata": {},
   "outputs": [],
   "source": []
  },
  {
   "cell_type": "code",
   "execution_count": 28,
   "metadata": {},
   "outputs": [
    {
     "name": "stdout",
     "output_type": "stream",
     "text": [
      "WARNING:tensorflow:From g:\\python installation\\lib\\site-packages\\keras\\src\\backend.py:873: The name tf.get_default_graph is deprecated. Please use tf.compat.v1.get_default_graph instead.\n",
      "\n",
      "WARNING:tensorflow:From g:\\python installation\\lib\\site-packages\\keras\\src\\layers\\pooling\\max_pooling2d.py:161: The name tf.nn.max_pool is deprecated. Please use tf.nn.max_pool2d instead.\n",
      "\n"
     ]
    }
   ],
   "source": [
    "# Define CNN model\n",
    "model = Sequential([\n",
    "    Conv2D(32, (3, 3), activation='relu', input_shape=(200, 200, 3)),\n",
    "    MaxPooling2D((2, 2)),\n",
    "    Dropout(rate=0.2),\n",
    "    Conv2D(64, (3, 3), activation='relu'),\n",
    "    MaxPooling2D((2, 2)),\n",
    "    Conv2D(128, (3, 3), activation='relu'),\n",
    "    MaxPooling2D((2, 2)),\n",
    "    Dropout(0.2),\n",
    "    Conv2D(128, (3, 3), activation='relu'),\n",
    "    MaxPooling2D((2, 2)),\n",
    "    Flatten(),\n",
    "    Dense(512, activation='relu'),\n",
    "    Dense(1, activation='sigmoid') \n",
    "])"
   ]
  },
  {
   "cell_type": "code",
   "execution_count": 29,
   "metadata": {},
   "outputs": [
    {
     "name": "stdout",
     "output_type": "stream",
     "text": [
      "WARNING:tensorflow:From g:\\python installation\\lib\\site-packages\\keras\\src\\optimizers\\__init__.py:309: The name tf.train.Optimizer is deprecated. Please use tf.compat.v1.train.Optimizer instead.\n",
      "\n"
     ]
    }
   ],
   "source": [
    "# Compile the model\n",
    "model.compile(optimizer='adam', loss='binary_crossentropy', metrics=['accuracy'])\n"
   ]
  },
  {
   "cell_type": "code",
   "execution_count": 30,
   "metadata": {},
   "outputs": [
    {
     "name": "stdout",
     "output_type": "stream",
     "text": [
      "Model: \"sequential\"\n",
      "_________________________________________________________________\n",
      " Layer (type)                Output Shape              Param #   \n",
      "=================================================================\n",
      " conv2d (Conv2D)             (None, 198, 198, 32)      896       \n",
      "                                                                 \n",
      " max_pooling2d (MaxPooling2  (None, 99, 99, 32)        0         \n",
      " D)                                                              \n",
      "                                                                 \n",
      " dropout (Dropout)           (None, 99, 99, 32)        0         \n",
      "                                                                 \n",
      " conv2d_1 (Conv2D)           (None, 97, 97, 64)        18496     \n",
      "                                                                 \n",
      " max_pooling2d_1 (MaxPoolin  (None, 48, 48, 64)        0         \n",
      " g2D)                                                            \n",
      "                                                                 \n",
      " conv2d_2 (Conv2D)           (None, 46, 46, 128)       73856     \n",
      "                                                                 \n",
      " max_pooling2d_2 (MaxPoolin  (None, 23, 23, 128)       0         \n",
      " g2D)                                                            \n",
      "                                                                 \n",
      " dropout_1 (Dropout)         (None, 23, 23, 128)       0         \n",
      "                                                                 \n",
      " conv2d_3 (Conv2D)           (None, 21, 21, 128)       147584    \n",
      "                                                                 \n",
      " max_pooling2d_3 (MaxPoolin  (None, 10, 10, 128)       0         \n",
      " g2D)                                                            \n",
      "                                                                 \n",
      " flatten (Flatten)           (None, 12800)             0         \n",
      "                                                                 \n",
      " dense (Dense)               (None, 512)               6554112   \n",
      "                                                                 \n",
      " dense_1 (Dense)             (None, 1)                 513       \n",
      "                                                                 \n",
      "=================================================================\n",
      "Total params: 6795457 (25.92 MB)\n",
      "Trainable params: 6795457 (25.92 MB)\n",
      "Non-trainable params: 0 (0.00 Byte)\n",
      "_________________________________________________________________\n"
     ]
    }
   ],
   "source": [
    "model.summary()"
   ]
  },
  {
   "cell_type": "code",
   "execution_count": 31,
   "metadata": {},
   "outputs": [
    {
     "ename": "ValueError",
     "evalue": "Failed to convert a NumPy array to a Tensor (Unsupported object type float).",
     "output_type": "error",
     "traceback": [
      "\u001b[1;31m---------------------------------------------------------------------------\u001b[0m",
      "\u001b[1;31mValueError\u001b[0m                                Traceback (most recent call last)",
      "Cell \u001b[1;32mIn[31], line 2\u001b[0m\n\u001b[0;32m      1\u001b[0m \u001b[38;5;66;03m# Train the model\u001b[39;00m\n\u001b[1;32m----> 2\u001b[0m history \u001b[38;5;241m=\u001b[39m \u001b[43mmodel\u001b[49m\u001b[38;5;241;43m.\u001b[39;49m\u001b[43mfit\u001b[49m\u001b[43m(\u001b[49m\u001b[43mX_train\u001b[49m\u001b[43m,\u001b[49m\u001b[43m \u001b[49m\u001b[43my_train\u001b[49m\u001b[43m,\u001b[49m\u001b[43m \u001b[49m\u001b[43mepochs\u001b[49m\u001b[38;5;241;43m=\u001b[39;49m\u001b[38;5;241;43m20\u001b[39;49m\u001b[43m,\u001b[49m\u001b[43m \u001b[49m\u001b[43mbatch_size\u001b[49m\u001b[38;5;241;43m=\u001b[39;49m\u001b[38;5;241;43m32\u001b[39;49m\u001b[43m,\u001b[49m\u001b[43m \u001b[49m\u001b[43mvalidation_data\u001b[49m\u001b[38;5;241;43m=\u001b[39;49m\u001b[43m(\u001b[49m\u001b[43mX_test\u001b[49m\u001b[43m,\u001b[49m\u001b[43m \u001b[49m\u001b[43my_test\u001b[49m\u001b[43m)\u001b[49m\u001b[43m)\u001b[49m\n",
      "File \u001b[1;32mg:\\python installation\\lib\\site-packages\\keras\\src\\utils\\traceback_utils.py:70\u001b[0m, in \u001b[0;36mfilter_traceback.<locals>.error_handler\u001b[1;34m(*args, **kwargs)\u001b[0m\n\u001b[0;32m     67\u001b[0m     filtered_tb \u001b[38;5;241m=\u001b[39m _process_traceback_frames(e\u001b[38;5;241m.\u001b[39m__traceback__)\n\u001b[0;32m     68\u001b[0m     \u001b[38;5;66;03m# To get the full stack trace, call:\u001b[39;00m\n\u001b[0;32m     69\u001b[0m     \u001b[38;5;66;03m# `tf.debugging.disable_traceback_filtering()`\u001b[39;00m\n\u001b[1;32m---> 70\u001b[0m     \u001b[38;5;28;01mraise\u001b[39;00m e\u001b[38;5;241m.\u001b[39mwith_traceback(filtered_tb) \u001b[38;5;28;01mfrom\u001b[39;00m \u001b[38;5;28;01mNone\u001b[39;00m\n\u001b[0;32m     71\u001b[0m \u001b[38;5;28;01mfinally\u001b[39;00m:\n\u001b[0;32m     72\u001b[0m     \u001b[38;5;28;01mdel\u001b[39;00m filtered_tb\n",
      "File \u001b[1;32mg:\\python installation\\lib\\site-packages\\tensorflow\\python\\framework\\constant_op.py:103\u001b[0m, in \u001b[0;36mconvert_to_eager_tensor\u001b[1;34m(value, ctx, dtype)\u001b[0m\n\u001b[0;32m    101\u001b[0m     dtype \u001b[38;5;241m=\u001b[39m dtypes\u001b[38;5;241m.\u001b[39mas_dtype(dtype)\u001b[38;5;241m.\u001b[39mas_datatype_enum\n\u001b[0;32m    102\u001b[0m ctx\u001b[38;5;241m.\u001b[39mensure_initialized()\n\u001b[1;32m--> 103\u001b[0m \u001b[38;5;28;01mreturn\u001b[39;00m \u001b[43mops\u001b[49m\u001b[38;5;241;43m.\u001b[39;49m\u001b[43mEagerTensor\u001b[49m\u001b[43m(\u001b[49m\u001b[43mvalue\u001b[49m\u001b[43m,\u001b[49m\u001b[43m \u001b[49m\u001b[43mctx\u001b[49m\u001b[38;5;241;43m.\u001b[39;49m\u001b[43mdevice_name\u001b[49m\u001b[43m,\u001b[49m\u001b[43m \u001b[49m\u001b[43mdtype\u001b[49m\u001b[43m)\u001b[49m\n",
      "\u001b[1;31mValueError\u001b[0m: Failed to convert a NumPy array to a Tensor (Unsupported object type float)."
     ]
    }
   ],
   "source": [
    "# Train the model\n",
    "history = model.fit(X_train, y_train, epochs=20, batch_size=32, validation_data=(X_test, y_test))\n"
   ]
  },
  {
   "cell_type": "code",
   "execution_count": null,
   "metadata": {},
   "outputs": [
    {
     "name": "stdout",
     "output_type": "stream",
     "text": [
      "1/1 [==============================] - 0s 111ms/step - loss: 0.9338 - accuracy: 0.5714\n",
      "Test Accuracy: 0.5714285969734192\n"
     ]
    }
   ],
   "source": [
    "test_loss, test_acc = model.evaluate(X_images_test, y_test)\n",
    "print(f\"Test Accuracy: {test_acc}\")"
   ]
  },
  {
   "cell_type": "code",
   "execution_count": null,
   "metadata": {},
   "outputs": [
    {
     "name": "stdout",
     "output_type": "stream",
     "text": [
      "2/2 [==============================] - 0s 159ms/step - loss: 0.3428 - accuracy: 0.8246\n",
      "1/1 [==============================] - 0s 119ms/step - loss: 0.9338 - accuracy: 0.5714\n",
      "CNN Train Score: [0.34277939796447754, 0.8245614171028137]\n",
      "CNN Test Score: [0.9337977170944214, 0.5714285969734192]\n"
     ]
    }
   ],
   "source": [
    "# Evaluate the model\n",
    "train_score = model.evaluate(X_images_train, y_train)\n",
    "test_score = model.evaluate(X_images_test, y_test)\n",
    "print('CNN Train Score:', train_score)\n",
    "print('CNN Test Score:', test_score)\n"
   ]
  },
  {
   "cell_type": "code",
   "execution_count": null,
   "metadata": {},
   "outputs": [
    {
     "name": "stdout",
     "output_type": "stream",
     "text": [
      "1/1 [==============================] - 0s 284ms/step\n"
     ]
    }
   ],
   "source": [
    "# Make predictions on the test set\n",
    "predictions = model.predict(X_images_test)\n"
   ]
  },
  {
   "cell_type": "code",
   "execution_count": null,
   "metadata": {},
   "outputs": [],
   "source": [
    "# # Generate classification report and confusion matrix\n",
    "# print('Classification Report:')\n",
    "# print(classification_report(y_test, predictions))\n",
    "\n",
    "# print('Confusion Matrix:')\n",
    "# print(confusion_matrix(y_test, predictions))\n"
   ]
  },
  {
   "cell_type": "code",
   "execution_count": null,
   "metadata": {},
   "outputs": [],
   "source": [
    "from keras.backend import clear_session\n",
    "clear_session()"
   ]
  },
  {
   "cell_type": "code",
   "execution_count": null,
   "metadata": {},
   "outputs": [],
   "source": []
  }
 ],
 "metadata": {
  "kernelspec": {
   "display_name": "Python 3",
   "language": "python",
   "name": "python3"
  },
  "language_info": {
   "codemirror_mode": {
    "name": "ipython",
    "version": 3
   },
   "file_extension": ".py",
   "mimetype": "text/x-python",
   "name": "python",
   "nbconvert_exporter": "python",
   "pygments_lexer": "ipython3",
   "version": "3.10.5"
  }
 },
 "nbformat": 4,
 "nbformat_minor": 2
}
