{
 "cells": [
  {
   "cell_type": "code",
   "execution_count": 11,
   "metadata": {},
   "outputs": [],
   "source": [
    "import cv2\n",
    "import numpy as np\n",
    "\n",
    "# Load the image\n",
    "image = cv2.imread('images/8.png')\n",
    "\n",
    "# Define the color you want to remove (in BGR format)\n",
    "color_to_remove = np.array([62 ,105 ,  7])  # For example, remove red color (in BGR format)\n",
    "\n",
    "# Define the tolerance for color matching (you can adjust this value)\n",
    "tolerance = 50\n",
    "\n",
    "# Create lower and upper bounds for color matching\n",
    "lower_bound = color_to_remove - tolerance\n",
    "upper_bound = color_to_remove + tolerance\n",
    "\n",
    "# Mask the image to identify pixels within the specified color range\n",
    "mask = cv2.inRange(image, lower_bound, upper_bound)\n",
    "\n",
    "# Invert the mask to keep the pixels outside the specified color range\n",
    "inverse_mask = cv2.bitwise_not(mask)\n",
    "\n",
    "# Apply the mask to remove the specified color from the image\n",
    "result = cv2.bitwise_and(image, image, mask=inverse_mask)\n",
    "\n",
    "# Display the original and resulting images\n",
    "cv2.imshow('Original Image', image)\n",
    "cv2.imshow('Result Image', result)\n",
    "cv2.waitKey(0)\n",
    "cv2.destroyAllWindows()\n"
   ]
  },
  {
   "cell_type": "code",
   "execution_count": 4,
   "metadata": {},
   "outputs": [
    {
     "ename": "error",
     "evalue": "OpenCV(4.9.0) D:\\a\\opencv-python\\opencv-python\\opencv\\modules\\imgproc\\src\\histogram.cpp:160: error: (-215:Assertion failed) j < nimages in function 'cv::histPrepareImages'\n",
     "output_type": "error",
     "traceback": [
      "\u001b[1;31m---------------------------------------------------------------------------\u001b[0m",
      "\u001b[1;31merror\u001b[0m                                     Traceback (most recent call last)",
      "Cell \u001b[1;32mIn[4], line 33\u001b[0m\n\u001b[0;32m     30\u001b[0m roi \u001b[38;5;241m=\u001b[39m select_roi(image)\n\u001b[0;32m     32\u001b[0m \u001b[38;5;66;03m# Get the dominant color within the selected area\u001b[39;00m\n\u001b[1;32m---> 33\u001b[0m dominant_color \u001b[38;5;241m=\u001b[39m \u001b[43mget_dominant_color\u001b[49m\u001b[43m(\u001b[49m\u001b[43mimage\u001b[49m\u001b[43m,\u001b[49m\u001b[43m \u001b[49m\u001b[43mroi\u001b[49m\u001b[43m)\u001b[49m\n\u001b[0;32m     35\u001b[0m \u001b[38;5;66;03m# Display the dominant color\u001b[39;00m\n\u001b[0;32m     36\u001b[0m \u001b[38;5;28mprint\u001b[39m(\u001b[38;5;124m\"\u001b[39m\u001b[38;5;124mDominant color (RGB):\u001b[39m\u001b[38;5;124m\"\u001b[39m, dominant_color)\n",
      "Cell \u001b[1;32mIn[4], line 19\u001b[0m, in \u001b[0;36mget_dominant_color\u001b[1;34m(image, roi)\u001b[0m\n\u001b[0;32m     16\u001b[0m pixels \u001b[38;5;241m=\u001b[39m selected_area\u001b[38;5;241m.\u001b[39mreshape(\u001b[38;5;241m-\u001b[39m\u001b[38;5;241m1\u001b[39m, \u001b[38;5;241m3\u001b[39m)\n\u001b[0;32m     18\u001b[0m \u001b[38;5;66;03m# Calculate the histogram of RGB values\u001b[39;00m\n\u001b[1;32m---> 19\u001b[0m hist \u001b[38;5;241m=\u001b[39m \u001b[43mcv2\u001b[49m\u001b[38;5;241;43m.\u001b[39;49m\u001b[43mcalcHist\u001b[49m\u001b[43m(\u001b[49m\u001b[43m[\u001b[49m\u001b[43mpixels\u001b[49m\u001b[43m]\u001b[49m\u001b[43m,\u001b[49m\u001b[43m \u001b[49m\u001b[43m[\u001b[49m\u001b[38;5;241;43m0\u001b[39;49m\u001b[43m,\u001b[49m\u001b[43m \u001b[49m\u001b[38;5;241;43m1\u001b[39;49m\u001b[43m,\u001b[49m\u001b[43m \u001b[49m\u001b[38;5;241;43m2\u001b[39;49m\u001b[43m]\u001b[49m\u001b[43m,\u001b[49m\u001b[43m \u001b[49m\u001b[38;5;28;43;01mNone\u001b[39;49;00m\u001b[43m,\u001b[49m\u001b[43m \u001b[49m\u001b[43m[\u001b[49m\u001b[38;5;241;43m256\u001b[39;49m\u001b[43m,\u001b[49m\u001b[43m \u001b[49m\u001b[38;5;241;43m256\u001b[39;49m\u001b[43m,\u001b[49m\u001b[43m \u001b[49m\u001b[38;5;241;43m256\u001b[39;49m\u001b[43m]\u001b[49m\u001b[43m,\u001b[49m\u001b[43m \u001b[49m\u001b[43m[\u001b[49m\u001b[38;5;241;43m0\u001b[39;49m\u001b[43m,\u001b[49m\u001b[43m \u001b[49m\u001b[38;5;241;43m256\u001b[39;49m\u001b[43m,\u001b[49m\u001b[43m \u001b[49m\u001b[38;5;241;43m0\u001b[39;49m\u001b[43m,\u001b[49m\u001b[43m \u001b[49m\u001b[38;5;241;43m256\u001b[39;49m\u001b[43m,\u001b[49m\u001b[43m \u001b[49m\u001b[38;5;241;43m0\u001b[39;49m\u001b[43m,\u001b[49m\u001b[43m \u001b[49m\u001b[38;5;241;43m256\u001b[39;49m\u001b[43m]\u001b[49m\u001b[43m)\u001b[49m\n\u001b[0;32m     21\u001b[0m \u001b[38;5;66;03m# Find the index of the most dominant color\u001b[39;00m\n\u001b[0;32m     22\u001b[0m b, g, r \u001b[38;5;241m=\u001b[39m np\u001b[38;5;241m.\u001b[39munravel_index(hist\u001b[38;5;241m.\u001b[39margmax(), hist\u001b[38;5;241m.\u001b[39mshape)\n",
      "\u001b[1;31merror\u001b[0m: OpenCV(4.9.0) D:\\a\\opencv-python\\opencv-python\\opencv\\modules\\imgproc\\src\\histogram.cpp:160: error: (-215:Assertion failed) j < nimages in function 'cv::histPrepareImages'\n"
     ]
    }
   ],
   "source": [
    "import cv2\n",
    "import numpy as np\n",
    "\n",
    "def select_roi(image):\n",
    "    # Display the image and allow the user to select a ROI\n",
    "    roi = cv2.selectROI(\"Select ROI\", image, fromCenter=False, showCrosshair=False)\n",
    "    cv2.destroyAllWindows()\n",
    "    return roi\n",
    "\n",
    "def get_dominant_color(image, roi):\n",
    "    # Extract the selected ROI from the image\n",
    "    x, y, w, h = roi\n",
    "    selected_area = image[y:y+h, x:x+w]\n",
    "\n",
    "    # Flatten the selected area to a list of pixels\n",
    "    pixels = selected_area.reshape(-1, 3)\n",
    "\n",
    "    # Calculate the histogram of RGB values\n",
    "    hist = cv2.calcHist([pixels], [0, 1, 2], None, [256, 256, 256], [0, 256, 0, 256, 0, 256])\n",
    "\n",
    "    # Find the index of the most dominant color\n",
    "    b, g, r = np.unravel_index(hist.argmax(), hist.shape)\n",
    "\n",
    "    return (r, g, b)\n",
    "\n",
    "# Load the image\n",
    "image = cv2.imread('images/8.png')\n",
    "\n",
    "# Select the ROI\n",
    "roi = select_roi(image)\n",
    "\n",
    "# Get the dominant color within the selected area\n",
    "dominant_color = get_dominant_color(image, roi)\n",
    "\n",
    "# Display the dominant color\n",
    "print(\"Dominant color (RGB):\", dominant_color)\n",
    "\n",
    "# Optionally, you can convert the RGB values to the corresponding color name\n",
    "\n",
    "# Show the image with the selected ROI\n",
    "cv2.rectangle(image, (roi[0], roi[1]), (roi[0] + roi[2], roi[1] + roi[3]), (0, 255, 0), 2)\n",
    "cv2.imshow('Image with ROI', image)\n",
    "cv2.waitKey(0)\n",
    "cv2.destroyAllWindows()\n"
   ]
  },
  {
   "cell_type": "code",
   "execution_count": 10,
   "metadata": {},
   "outputs": [
    {
     "name": "stdout",
     "output_type": "stream",
     "text": [
      "Selected pixel color (BGR): [ 62 105   7]\n"
     ]
    }
   ],
   "source": [
    "import cv2\n",
    "\n",
    "def get_pixel_color(event, x, y, flags, param):\n",
    "    if event == cv2.EVENT_LBUTTONDOWN:\n",
    "        pixel = image[y, x]  # Get the BGR values of the clicked pixel\n",
    "        print(\"Selected pixel color (BGR):\", pixel)\n",
    "\n",
    "# Load the image\n",
    "image = cv2.imread('images/8.png')\n",
    "\n",
    "# Display the image and set up the mouse callback function\n",
    "cv2.imshow('Select Pixel', image)\n",
    "cv2.setMouseCallback('Select Pixel', get_pixel_color)\n",
    "\n",
    "# Wait for the user to click on the image\n",
    "cv2.waitKey(0)\n",
    "cv2.destroyAllWindows()\n"
   ]
  },
  {
   "cell_type": "code",
   "execution_count": null,
   "metadata": {},
   "outputs": [],
   "source": []
  }
 ],
 "metadata": {
  "kernelspec": {
   "display_name": "Python 3",
   "language": "python",
   "name": "python3"
  },
  "language_info": {
   "codemirror_mode": {
    "name": "ipython",
    "version": 3
   },
   "file_extension": ".py",
   "mimetype": "text/x-python",
   "name": "python",
   "nbconvert_exporter": "python",
   "pygments_lexer": "ipython3",
   "version": "3.10.5"
  }
 },
 "nbformat": 4,
 "nbformat_minor": 2
}
